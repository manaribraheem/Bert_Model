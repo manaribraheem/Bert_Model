{
  "nbformat": 4,
  "nbformat_minor": 0,
  "metadata": {
    "colab": {
      "name": "BERT_Model_14_6_2022_By_Manar_and_Anj",
      "provenance": [],
      "collapsed_sections": [],
      "include_colab_link": true
    },
    "kernelspec": {
      "name": "python3",
      "display_name": "Python 3"
    },
    "language_info": {
      "name": "python"
    },
    "accelerator": "TPU",
    "widgets": {
      "application/vnd.jupyter.widget-state+json": {
        "e84082c17ac14dbf9d80587846167f42": {
          "model_module": "@jupyter-widgets/controls",
          "model_name": "HBoxModel",
          "model_module_version": "1.5.0",
          "state": {
            "_dom_classes": [],
            "_model_module": "@jupyter-widgets/controls",
            "_model_module_version": "1.5.0",
            "_model_name": "HBoxModel",
            "_view_count": null,
            "_view_module": "@jupyter-widgets/controls",
            "_view_module_version": "1.5.0",
            "_view_name": "HBoxView",
            "box_style": "",
            "children": [
              "IPY_MODEL_f94d4a0f5e034738b8195d789ffdbe91",
              "IPY_MODEL_babe4fc6aebd494aa37c429803325c12",
              "IPY_MODEL_21338ec1a3ba435db1e5d5907025c980"
            ],
            "layout": "IPY_MODEL_10cc5edd3aec4263b3d6827507361df4"
          }
        },
        "f94d4a0f5e034738b8195d789ffdbe91": {
          "model_module": "@jupyter-widgets/controls",
          "model_name": "HTMLModel",
          "model_module_version": "1.5.0",
          "state": {
            "_dom_classes": [],
            "_model_module": "@jupyter-widgets/controls",
            "_model_module_version": "1.5.0",
            "_model_name": "HTMLModel",
            "_view_count": null,
            "_view_module": "@jupyter-widgets/controls",
            "_view_module_version": "1.5.0",
            "_view_name": "HTMLView",
            "description": "",
            "description_tooltip": null,
            "layout": "IPY_MODEL_d5f1940b3e0c41019edab3199fd7ce90",
            "placeholder": "​",
            "style": "IPY_MODEL_d22981b658054127885efec432a4dd5b",
            "value": "Downloading: 100%"
          }
        },
        "babe4fc6aebd494aa37c429803325c12": {
          "model_module": "@jupyter-widgets/controls",
          "model_name": "FloatProgressModel",
          "model_module_version": "1.5.0",
          "state": {
            "_dom_classes": [],
            "_model_module": "@jupyter-widgets/controls",
            "_model_module_version": "1.5.0",
            "_model_name": "FloatProgressModel",
            "_view_count": null,
            "_view_module": "@jupyter-widgets/controls",
            "_view_module_version": "1.5.0",
            "_view_name": "ProgressView",
            "bar_style": "success",
            "description": "",
            "description_tooltip": null,
            "layout": "IPY_MODEL_a731427dffb9468bbf6b84d0ca659c11",
            "max": 28,
            "min": 0,
            "orientation": "horizontal",
            "style": "IPY_MODEL_a39548ab6288476d84b3cfbb210b8fc0",
            "value": 28
          }
        },
        "21338ec1a3ba435db1e5d5907025c980": {
          "model_module": "@jupyter-widgets/controls",
          "model_name": "HTMLModel",
          "model_module_version": "1.5.0",
          "state": {
            "_dom_classes": [],
            "_model_module": "@jupyter-widgets/controls",
            "_model_module_version": "1.5.0",
            "_model_name": "HTMLModel",
            "_view_count": null,
            "_view_module": "@jupyter-widgets/controls",
            "_view_module_version": "1.5.0",
            "_view_name": "HTMLView",
            "description": "",
            "description_tooltip": null,
            "layout": "IPY_MODEL_b6eb83ee43394c37bb298a9556fb9066",
            "placeholder": "​",
            "style": "IPY_MODEL_6225b9dc31fa49bc89d23c4e6e72bb3e",
            "value": " 28.0/28.0 [00:00&lt;00:00, 295B/s]"
          }
        },
        "10cc5edd3aec4263b3d6827507361df4": {
          "model_module": "@jupyter-widgets/base",
          "model_name": "LayoutModel",
          "model_module_version": "1.2.0",
          "state": {
            "_model_module": "@jupyter-widgets/base",
            "_model_module_version": "1.2.0",
            "_model_name": "LayoutModel",
            "_view_count": null,
            "_view_module": "@jupyter-widgets/base",
            "_view_module_version": "1.2.0",
            "_view_name": "LayoutView",
            "align_content": null,
            "align_items": null,
            "align_self": null,
            "border": null,
            "bottom": null,
            "display": null,
            "flex": null,
            "flex_flow": null,
            "grid_area": null,
            "grid_auto_columns": null,
            "grid_auto_flow": null,
            "grid_auto_rows": null,
            "grid_column": null,
            "grid_gap": null,
            "grid_row": null,
            "grid_template_areas": null,
            "grid_template_columns": null,
            "grid_template_rows": null,
            "height": null,
            "justify_content": null,
            "justify_items": null,
            "left": null,
            "margin": null,
            "max_height": null,
            "max_width": null,
            "min_height": null,
            "min_width": null,
            "object_fit": null,
            "object_position": null,
            "order": null,
            "overflow": null,
            "overflow_x": null,
            "overflow_y": null,
            "padding": null,
            "right": null,
            "top": null,
            "visibility": null,
            "width": null
          }
        },
        "d5f1940b3e0c41019edab3199fd7ce90": {
          "model_module": "@jupyter-widgets/base",
          "model_name": "LayoutModel",
          "model_module_version": "1.2.0",
          "state": {
            "_model_module": "@jupyter-widgets/base",
            "_model_module_version": "1.2.0",
            "_model_name": "LayoutModel",
            "_view_count": null,
            "_view_module": "@jupyter-widgets/base",
            "_view_module_version": "1.2.0",
            "_view_name": "LayoutView",
            "align_content": null,
            "align_items": null,
            "align_self": null,
            "border": null,
            "bottom": null,
            "display": null,
            "flex": null,
            "flex_flow": null,
            "grid_area": null,
            "grid_auto_columns": null,
            "grid_auto_flow": null,
            "grid_auto_rows": null,
            "grid_column": null,
            "grid_gap": null,
            "grid_row": null,
            "grid_template_areas": null,
            "grid_template_columns": null,
            "grid_template_rows": null,
            "height": null,
            "justify_content": null,
            "justify_items": null,
            "left": null,
            "margin": null,
            "max_height": null,
            "max_width": null,
            "min_height": null,
            "min_width": null,
            "object_fit": null,
            "object_position": null,
            "order": null,
            "overflow": null,
            "overflow_x": null,
            "overflow_y": null,
            "padding": null,
            "right": null,
            "top": null,
            "visibility": null,
            "width": null
          }
        },
        "d22981b658054127885efec432a4dd5b": {
          "model_module": "@jupyter-widgets/controls",
          "model_name": "DescriptionStyleModel",
          "model_module_version": "1.5.0",
          "state": {
            "_model_module": "@jupyter-widgets/controls",
            "_model_module_version": "1.5.0",
            "_model_name": "DescriptionStyleModel",
            "_view_count": null,
            "_view_module": "@jupyter-widgets/base",
            "_view_module_version": "1.2.0",
            "_view_name": "StyleView",
            "description_width": ""
          }
        },
        "a731427dffb9468bbf6b84d0ca659c11": {
          "model_module": "@jupyter-widgets/base",
          "model_name": "LayoutModel",
          "model_module_version": "1.2.0",
          "state": {
            "_model_module": "@jupyter-widgets/base",
            "_model_module_version": "1.2.0",
            "_model_name": "LayoutModel",
            "_view_count": null,
            "_view_module": "@jupyter-widgets/base",
            "_view_module_version": "1.2.0",
            "_view_name": "LayoutView",
            "align_content": null,
            "align_items": null,
            "align_self": null,
            "border": null,
            "bottom": null,
            "display": null,
            "flex": null,
            "flex_flow": null,
            "grid_area": null,
            "grid_auto_columns": null,
            "grid_auto_flow": null,
            "grid_auto_rows": null,
            "grid_column": null,
            "grid_gap": null,
            "grid_row": null,
            "grid_template_areas": null,
            "grid_template_columns": null,
            "grid_template_rows": null,
            "height": null,
            "justify_content": null,
            "justify_items": null,
            "left": null,
            "margin": null,
            "max_height": null,
            "max_width": null,
            "min_height": null,
            "min_width": null,
            "object_fit": null,
            "object_position": null,
            "order": null,
            "overflow": null,
            "overflow_x": null,
            "overflow_y": null,
            "padding": null,
            "right": null,
            "top": null,
            "visibility": null,
            "width": null
          }
        },
        "a39548ab6288476d84b3cfbb210b8fc0": {
          "model_module": "@jupyter-widgets/controls",
          "model_name": "ProgressStyleModel",
          "model_module_version": "1.5.0",
          "state": {
            "_model_module": "@jupyter-widgets/controls",
            "_model_module_version": "1.5.0",
            "_model_name": "ProgressStyleModel",
            "_view_count": null,
            "_view_module": "@jupyter-widgets/base",
            "_view_module_version": "1.2.0",
            "_view_name": "StyleView",
            "bar_color": null,
            "description_width": ""
          }
        },
        "b6eb83ee43394c37bb298a9556fb9066": {
          "model_module": "@jupyter-widgets/base",
          "model_name": "LayoutModel",
          "model_module_version": "1.2.0",
          "state": {
            "_model_module": "@jupyter-widgets/base",
            "_model_module_version": "1.2.0",
            "_model_name": "LayoutModel",
            "_view_count": null,
            "_view_module": "@jupyter-widgets/base",
            "_view_module_version": "1.2.0",
            "_view_name": "LayoutView",
            "align_content": null,
            "align_items": null,
            "align_self": null,
            "border": null,
            "bottom": null,
            "display": null,
            "flex": null,
            "flex_flow": null,
            "grid_area": null,
            "grid_auto_columns": null,
            "grid_auto_flow": null,
            "grid_auto_rows": null,
            "grid_column": null,
            "grid_gap": null,
            "grid_row": null,
            "grid_template_areas": null,
            "grid_template_columns": null,
            "grid_template_rows": null,
            "height": null,
            "justify_content": null,
            "justify_items": null,
            "left": null,
            "margin": null,
            "max_height": null,
            "max_width": null,
            "min_height": null,
            "min_width": null,
            "object_fit": null,
            "object_position": null,
            "order": null,
            "overflow": null,
            "overflow_x": null,
            "overflow_y": null,
            "padding": null,
            "right": null,
            "top": null,
            "visibility": null,
            "width": null
          }
        },
        "6225b9dc31fa49bc89d23c4e6e72bb3e": {
          "model_module": "@jupyter-widgets/controls",
          "model_name": "DescriptionStyleModel",
          "model_module_version": "1.5.0",
          "state": {
            "_model_module": "@jupyter-widgets/controls",
            "_model_module_version": "1.5.0",
            "_model_name": "DescriptionStyleModel",
            "_view_count": null,
            "_view_module": "@jupyter-widgets/base",
            "_view_module_version": "1.2.0",
            "_view_name": "StyleView",
            "description_width": ""
          }
        },
        "d309b9d1bc964da5bec42c277cb18aa9": {
          "model_module": "@jupyter-widgets/controls",
          "model_name": "HBoxModel",
          "model_module_version": "1.5.0",
          "state": {
            "_dom_classes": [],
            "_model_module": "@jupyter-widgets/controls",
            "_model_module_version": "1.5.0",
            "_model_name": "HBoxModel",
            "_view_count": null,
            "_view_module": "@jupyter-widgets/controls",
            "_view_module_version": "1.5.0",
            "_view_name": "HBoxView",
            "box_style": "",
            "children": [
              "IPY_MODEL_1a52ae39e7ca4337b223a60e92b98017",
              "IPY_MODEL_da5721099fa445d9a7afe18b19ea4f65",
              "IPY_MODEL_abcca6b7fc9247acac539d2bbc2b66c3"
            ],
            "layout": "IPY_MODEL_ac19a2b01cb6486099ec4c9bb7ddd924"
          }
        },
        "1a52ae39e7ca4337b223a60e92b98017": {
          "model_module": "@jupyter-widgets/controls",
          "model_name": "HTMLModel",
          "model_module_version": "1.5.0",
          "state": {
            "_dom_classes": [],
            "_model_module": "@jupyter-widgets/controls",
            "_model_module_version": "1.5.0",
            "_model_name": "HTMLModel",
            "_view_count": null,
            "_view_module": "@jupyter-widgets/controls",
            "_view_module_version": "1.5.0",
            "_view_name": "HTMLView",
            "description": "",
            "description_tooltip": null,
            "layout": "IPY_MODEL_305b96eb465a4fd3bbccf0bc9d190506",
            "placeholder": "​",
            "style": "IPY_MODEL_70aa0b1f7c7646a7845c5063ee87f53c",
            "value": "Downloading: 100%"
          }
        },
        "da5721099fa445d9a7afe18b19ea4f65": {
          "model_module": "@jupyter-widgets/controls",
          "model_name": "FloatProgressModel",
          "model_module_version": "1.5.0",
          "state": {
            "_dom_classes": [],
            "_model_module": "@jupyter-widgets/controls",
            "_model_module_version": "1.5.0",
            "_model_name": "FloatProgressModel",
            "_view_count": null,
            "_view_module": "@jupyter-widgets/controls",
            "_view_module_version": "1.5.0",
            "_view_name": "ProgressView",
            "bar_style": "success",
            "description": "",
            "description_tooltip": null,
            "layout": "IPY_MODEL_e77b5d040a8042219e3527bff1aa891a",
            "max": 570,
            "min": 0,
            "orientation": "horizontal",
            "style": "IPY_MODEL_327145fe539545a8b1f287e9cc86d952",
            "value": 570
          }
        },
        "abcca6b7fc9247acac539d2bbc2b66c3": {
          "model_module": "@jupyter-widgets/controls",
          "model_name": "HTMLModel",
          "model_module_version": "1.5.0",
          "state": {
            "_dom_classes": [],
            "_model_module": "@jupyter-widgets/controls",
            "_model_module_version": "1.5.0",
            "_model_name": "HTMLModel",
            "_view_count": null,
            "_view_module": "@jupyter-widgets/controls",
            "_view_module_version": "1.5.0",
            "_view_name": "HTMLView",
            "description": "",
            "description_tooltip": null,
            "layout": "IPY_MODEL_cfd7d2ae2b5d4cd2bbf2acfbe6dac5b7",
            "placeholder": "​",
            "style": "IPY_MODEL_a390ae0213e24266ae119eaad788dfd7",
            "value": " 570/570 [00:00&lt;00:00, 8.65kB/s]"
          }
        },
        "ac19a2b01cb6486099ec4c9bb7ddd924": {
          "model_module": "@jupyter-widgets/base",
          "model_name": "LayoutModel",
          "model_module_version": "1.2.0",
          "state": {
            "_model_module": "@jupyter-widgets/base",
            "_model_module_version": "1.2.0",
            "_model_name": "LayoutModel",
            "_view_count": null,
            "_view_module": "@jupyter-widgets/base",
            "_view_module_version": "1.2.0",
            "_view_name": "LayoutView",
            "align_content": null,
            "align_items": null,
            "align_self": null,
            "border": null,
            "bottom": null,
            "display": null,
            "flex": null,
            "flex_flow": null,
            "grid_area": null,
            "grid_auto_columns": null,
            "grid_auto_flow": null,
            "grid_auto_rows": null,
            "grid_column": null,
            "grid_gap": null,
            "grid_row": null,
            "grid_template_areas": null,
            "grid_template_columns": null,
            "grid_template_rows": null,
            "height": null,
            "justify_content": null,
            "justify_items": null,
            "left": null,
            "margin": null,
            "max_height": null,
            "max_width": null,
            "min_height": null,
            "min_width": null,
            "object_fit": null,
            "object_position": null,
            "order": null,
            "overflow": null,
            "overflow_x": null,
            "overflow_y": null,
            "padding": null,
            "right": null,
            "top": null,
            "visibility": null,
            "width": null
          }
        },
        "305b96eb465a4fd3bbccf0bc9d190506": {
          "model_module": "@jupyter-widgets/base",
          "model_name": "LayoutModel",
          "model_module_version": "1.2.0",
          "state": {
            "_model_module": "@jupyter-widgets/base",
            "_model_module_version": "1.2.0",
            "_model_name": "LayoutModel",
            "_view_count": null,
            "_view_module": "@jupyter-widgets/base",
            "_view_module_version": "1.2.0",
            "_view_name": "LayoutView",
            "align_content": null,
            "align_items": null,
            "align_self": null,
            "border": null,
            "bottom": null,
            "display": null,
            "flex": null,
            "flex_flow": null,
            "grid_area": null,
            "grid_auto_columns": null,
            "grid_auto_flow": null,
            "grid_auto_rows": null,
            "grid_column": null,
            "grid_gap": null,
            "grid_row": null,
            "grid_template_areas": null,
            "grid_template_columns": null,
            "grid_template_rows": null,
            "height": null,
            "justify_content": null,
            "justify_items": null,
            "left": null,
            "margin": null,
            "max_height": null,
            "max_width": null,
            "min_height": null,
            "min_width": null,
            "object_fit": null,
            "object_position": null,
            "order": null,
            "overflow": null,
            "overflow_x": null,
            "overflow_y": null,
            "padding": null,
            "right": null,
            "top": null,
            "visibility": null,
            "width": null
          }
        },
        "70aa0b1f7c7646a7845c5063ee87f53c": {
          "model_module": "@jupyter-widgets/controls",
          "model_name": "DescriptionStyleModel",
          "model_module_version": "1.5.0",
          "state": {
            "_model_module": "@jupyter-widgets/controls",
            "_model_module_version": "1.5.0",
            "_model_name": "DescriptionStyleModel",
            "_view_count": null,
            "_view_module": "@jupyter-widgets/base",
            "_view_module_version": "1.2.0",
            "_view_name": "StyleView",
            "description_width": ""
          }
        },
        "e77b5d040a8042219e3527bff1aa891a": {
          "model_module": "@jupyter-widgets/base",
          "model_name": "LayoutModel",
          "model_module_version": "1.2.0",
          "state": {
            "_model_module": "@jupyter-widgets/base",
            "_model_module_version": "1.2.0",
            "_model_name": "LayoutModel",
            "_view_count": null,
            "_view_module": "@jupyter-widgets/base",
            "_view_module_version": "1.2.0",
            "_view_name": "LayoutView",
            "align_content": null,
            "align_items": null,
            "align_self": null,
            "border": null,
            "bottom": null,
            "display": null,
            "flex": null,
            "flex_flow": null,
            "grid_area": null,
            "grid_auto_columns": null,
            "grid_auto_flow": null,
            "grid_auto_rows": null,
            "grid_column": null,
            "grid_gap": null,
            "grid_row": null,
            "grid_template_areas": null,
            "grid_template_columns": null,
            "grid_template_rows": null,
            "height": null,
            "justify_content": null,
            "justify_items": null,
            "left": null,
            "margin": null,
            "max_height": null,
            "max_width": null,
            "min_height": null,
            "min_width": null,
            "object_fit": null,
            "object_position": null,
            "order": null,
            "overflow": null,
            "overflow_x": null,
            "overflow_y": null,
            "padding": null,
            "right": null,
            "top": null,
            "visibility": null,
            "width": null
          }
        },
        "327145fe539545a8b1f287e9cc86d952": {
          "model_module": "@jupyter-widgets/controls",
          "model_name": "ProgressStyleModel",
          "model_module_version": "1.5.0",
          "state": {
            "_model_module": "@jupyter-widgets/controls",
            "_model_module_version": "1.5.0",
            "_model_name": "ProgressStyleModel",
            "_view_count": null,
            "_view_module": "@jupyter-widgets/base",
            "_view_module_version": "1.2.0",
            "_view_name": "StyleView",
            "bar_color": null,
            "description_width": ""
          }
        },
        "cfd7d2ae2b5d4cd2bbf2acfbe6dac5b7": {
          "model_module": "@jupyter-widgets/base",
          "model_name": "LayoutModel",
          "model_module_version": "1.2.0",
          "state": {
            "_model_module": "@jupyter-widgets/base",
            "_model_module_version": "1.2.0",
            "_model_name": "LayoutModel",
            "_view_count": null,
            "_view_module": "@jupyter-widgets/base",
            "_view_module_version": "1.2.0",
            "_view_name": "LayoutView",
            "align_content": null,
            "align_items": null,
            "align_self": null,
            "border": null,
            "bottom": null,
            "display": null,
            "flex": null,
            "flex_flow": null,
            "grid_area": null,
            "grid_auto_columns": null,
            "grid_auto_flow": null,
            "grid_auto_rows": null,
            "grid_column": null,
            "grid_gap": null,
            "grid_row": null,
            "grid_template_areas": null,
            "grid_template_columns": null,
            "grid_template_rows": null,
            "height": null,
            "justify_content": null,
            "justify_items": null,
            "left": null,
            "margin": null,
            "max_height": null,
            "max_width": null,
            "min_height": null,
            "min_width": null,
            "object_fit": null,
            "object_position": null,
            "order": null,
            "overflow": null,
            "overflow_x": null,
            "overflow_y": null,
            "padding": null,
            "right": null,
            "top": null,
            "visibility": null,
            "width": null
          }
        },
        "a390ae0213e24266ae119eaad788dfd7": {
          "model_module": "@jupyter-widgets/controls",
          "model_name": "DescriptionStyleModel",
          "model_module_version": "1.5.0",
          "state": {
            "_model_module": "@jupyter-widgets/controls",
            "_model_module_version": "1.5.0",
            "_model_name": "DescriptionStyleModel",
            "_view_count": null,
            "_view_module": "@jupyter-widgets/base",
            "_view_module_version": "1.2.0",
            "_view_name": "StyleView",
            "description_width": ""
          }
        },
        "d52a8c6dee9e4886bf8c561a4a83501c": {
          "model_module": "@jupyter-widgets/controls",
          "model_name": "HBoxModel",
          "model_module_version": "1.5.0",
          "state": {
            "_dom_classes": [],
            "_model_module": "@jupyter-widgets/controls",
            "_model_module_version": "1.5.0",
            "_model_name": "HBoxModel",
            "_view_count": null,
            "_view_module": "@jupyter-widgets/controls",
            "_view_module_version": "1.5.0",
            "_view_name": "HBoxView",
            "box_style": "",
            "children": [
              "IPY_MODEL_7e5b2186c9bb454db761f3e7b1ed5651",
              "IPY_MODEL_02bab8edff154ce487ab1a1ae490da2c",
              "IPY_MODEL_5bb2c154587c43dc980b83ff999ce50d"
            ],
            "layout": "IPY_MODEL_7d5338b63f0c4dc28eaa60b66d3c947a"
          }
        },
        "7e5b2186c9bb454db761f3e7b1ed5651": {
          "model_module": "@jupyter-widgets/controls",
          "model_name": "HTMLModel",
          "model_module_version": "1.5.0",
          "state": {
            "_dom_classes": [],
            "_model_module": "@jupyter-widgets/controls",
            "_model_module_version": "1.5.0",
            "_model_name": "HTMLModel",
            "_view_count": null,
            "_view_module": "@jupyter-widgets/controls",
            "_view_module_version": "1.5.0",
            "_view_name": "HTMLView",
            "description": "",
            "description_tooltip": null,
            "layout": "IPY_MODEL_c9b7bdaf20df4e57b115172a0b979ce2",
            "placeholder": "​",
            "style": "IPY_MODEL_53258d7942af47678a3741e8b26f4c3d",
            "value": "Downloading: 100%"
          }
        },
        "02bab8edff154ce487ab1a1ae490da2c": {
          "model_module": "@jupyter-widgets/controls",
          "model_name": "FloatProgressModel",
          "model_module_version": "1.5.0",
          "state": {
            "_dom_classes": [],
            "_model_module": "@jupyter-widgets/controls",
            "_model_module_version": "1.5.0",
            "_model_name": "FloatProgressModel",
            "_view_count": null,
            "_view_module": "@jupyter-widgets/controls",
            "_view_module_version": "1.5.0",
            "_view_name": "ProgressView",
            "bar_style": "success",
            "description": "",
            "description_tooltip": null,
            "layout": "IPY_MODEL_9f07c50238dc48468f5f2f822f1b78f8",
            "max": 231508,
            "min": 0,
            "orientation": "horizontal",
            "style": "IPY_MODEL_922ecdd9454542f8b03798fe5499077c",
            "value": 231508
          }
        },
        "5bb2c154587c43dc980b83ff999ce50d": {
          "model_module": "@jupyter-widgets/controls",
          "model_name": "HTMLModel",
          "model_module_version": "1.5.0",
          "state": {
            "_dom_classes": [],
            "_model_module": "@jupyter-widgets/controls",
            "_model_module_version": "1.5.0",
            "_model_name": "HTMLModel",
            "_view_count": null,
            "_view_module": "@jupyter-widgets/controls",
            "_view_module_version": "1.5.0",
            "_view_name": "HTMLView",
            "description": "",
            "description_tooltip": null,
            "layout": "IPY_MODEL_6f4528fd54854766867a77cf4a497779",
            "placeholder": "​",
            "style": "IPY_MODEL_3e2f88571eb141cf9149e3ab4f186ed1",
            "value": " 226k/226k [00:00&lt;00:00, 510kB/s]"
          }
        },
        "7d5338b63f0c4dc28eaa60b66d3c947a": {
          "model_module": "@jupyter-widgets/base",
          "model_name": "LayoutModel",
          "model_module_version": "1.2.0",
          "state": {
            "_model_module": "@jupyter-widgets/base",
            "_model_module_version": "1.2.0",
            "_model_name": "LayoutModel",
            "_view_count": null,
            "_view_module": "@jupyter-widgets/base",
            "_view_module_version": "1.2.0",
            "_view_name": "LayoutView",
            "align_content": null,
            "align_items": null,
            "align_self": null,
            "border": null,
            "bottom": null,
            "display": null,
            "flex": null,
            "flex_flow": null,
            "grid_area": null,
            "grid_auto_columns": null,
            "grid_auto_flow": null,
            "grid_auto_rows": null,
            "grid_column": null,
            "grid_gap": null,
            "grid_row": null,
            "grid_template_areas": null,
            "grid_template_columns": null,
            "grid_template_rows": null,
            "height": null,
            "justify_content": null,
            "justify_items": null,
            "left": null,
            "margin": null,
            "max_height": null,
            "max_width": null,
            "min_height": null,
            "min_width": null,
            "object_fit": null,
            "object_position": null,
            "order": null,
            "overflow": null,
            "overflow_x": null,
            "overflow_y": null,
            "padding": null,
            "right": null,
            "top": null,
            "visibility": null,
            "width": null
          }
        },
        "c9b7bdaf20df4e57b115172a0b979ce2": {
          "model_module": "@jupyter-widgets/base",
          "model_name": "LayoutModel",
          "model_module_version": "1.2.0",
          "state": {
            "_model_module": "@jupyter-widgets/base",
            "_model_module_version": "1.2.0",
            "_model_name": "LayoutModel",
            "_view_count": null,
            "_view_module": "@jupyter-widgets/base",
            "_view_module_version": "1.2.0",
            "_view_name": "LayoutView",
            "align_content": null,
            "align_items": null,
            "align_self": null,
            "border": null,
            "bottom": null,
            "display": null,
            "flex": null,
            "flex_flow": null,
            "grid_area": null,
            "grid_auto_columns": null,
            "grid_auto_flow": null,
            "grid_auto_rows": null,
            "grid_column": null,
            "grid_gap": null,
            "grid_row": null,
            "grid_template_areas": null,
            "grid_template_columns": null,
            "grid_template_rows": null,
            "height": null,
            "justify_content": null,
            "justify_items": null,
            "left": null,
            "margin": null,
            "max_height": null,
            "max_width": null,
            "min_height": null,
            "min_width": null,
            "object_fit": null,
            "object_position": null,
            "order": null,
            "overflow": null,
            "overflow_x": null,
            "overflow_y": null,
            "padding": null,
            "right": null,
            "top": null,
            "visibility": null,
            "width": null
          }
        },
        "53258d7942af47678a3741e8b26f4c3d": {
          "model_module": "@jupyter-widgets/controls",
          "model_name": "DescriptionStyleModel",
          "model_module_version": "1.5.0",
          "state": {
            "_model_module": "@jupyter-widgets/controls",
            "_model_module_version": "1.5.0",
            "_model_name": "DescriptionStyleModel",
            "_view_count": null,
            "_view_module": "@jupyter-widgets/base",
            "_view_module_version": "1.2.0",
            "_view_name": "StyleView",
            "description_width": ""
          }
        },
        "9f07c50238dc48468f5f2f822f1b78f8": {
          "model_module": "@jupyter-widgets/base",
          "model_name": "LayoutModel",
          "model_module_version": "1.2.0",
          "state": {
            "_model_module": "@jupyter-widgets/base",
            "_model_module_version": "1.2.0",
            "_model_name": "LayoutModel",
            "_view_count": null,
            "_view_module": "@jupyter-widgets/base",
            "_view_module_version": "1.2.0",
            "_view_name": "LayoutView",
            "align_content": null,
            "align_items": null,
            "align_self": null,
            "border": null,
            "bottom": null,
            "display": null,
            "flex": null,
            "flex_flow": null,
            "grid_area": null,
            "grid_auto_columns": null,
            "grid_auto_flow": null,
            "grid_auto_rows": null,
            "grid_column": null,
            "grid_gap": null,
            "grid_row": null,
            "grid_template_areas": null,
            "grid_template_columns": null,
            "grid_template_rows": null,
            "height": null,
            "justify_content": null,
            "justify_items": null,
            "left": null,
            "margin": null,
            "max_height": null,
            "max_width": null,
            "min_height": null,
            "min_width": null,
            "object_fit": null,
            "object_position": null,
            "order": null,
            "overflow": null,
            "overflow_x": null,
            "overflow_y": null,
            "padding": null,
            "right": null,
            "top": null,
            "visibility": null,
            "width": null
          }
        },
        "922ecdd9454542f8b03798fe5499077c": {
          "model_module": "@jupyter-widgets/controls",
          "model_name": "ProgressStyleModel",
          "model_module_version": "1.5.0",
          "state": {
            "_model_module": "@jupyter-widgets/controls",
            "_model_module_version": "1.5.0",
            "_model_name": "ProgressStyleModel",
            "_view_count": null,
            "_view_module": "@jupyter-widgets/base",
            "_view_module_version": "1.2.0",
            "_view_name": "StyleView",
            "bar_color": null,
            "description_width": ""
          }
        },
        "6f4528fd54854766867a77cf4a497779": {
          "model_module": "@jupyter-widgets/base",
          "model_name": "LayoutModel",
          "model_module_version": "1.2.0",
          "state": {
            "_model_module": "@jupyter-widgets/base",
            "_model_module_version": "1.2.0",
            "_model_name": "LayoutModel",
            "_view_count": null,
            "_view_module": "@jupyter-widgets/base",
            "_view_module_version": "1.2.0",
            "_view_name": "LayoutView",
            "align_content": null,
            "align_items": null,
            "align_self": null,
            "border": null,
            "bottom": null,
            "display": null,
            "flex": null,
            "flex_flow": null,
            "grid_area": null,
            "grid_auto_columns": null,
            "grid_auto_flow": null,
            "grid_auto_rows": null,
            "grid_column": null,
            "grid_gap": null,
            "grid_row": null,
            "grid_template_areas": null,
            "grid_template_columns": null,
            "grid_template_rows": null,
            "height": null,
            "justify_content": null,
            "justify_items": null,
            "left": null,
            "margin": null,
            "max_height": null,
            "max_width": null,
            "min_height": null,
            "min_width": null,
            "object_fit": null,
            "object_position": null,
            "order": null,
            "overflow": null,
            "overflow_x": null,
            "overflow_y": null,
            "padding": null,
            "right": null,
            "top": null,
            "visibility": null,
            "width": null
          }
        },
        "3e2f88571eb141cf9149e3ab4f186ed1": {
          "model_module": "@jupyter-widgets/controls",
          "model_name": "DescriptionStyleModel",
          "model_module_version": "1.5.0",
          "state": {
            "_model_module": "@jupyter-widgets/controls",
            "_model_module_version": "1.5.0",
            "_model_name": "DescriptionStyleModel",
            "_view_count": null,
            "_view_module": "@jupyter-widgets/base",
            "_view_module_version": "1.2.0",
            "_view_name": "StyleView",
            "description_width": ""
          }
        },
        "72567b109f604c348fc8dd2da9e47a48": {
          "model_module": "@jupyter-widgets/controls",
          "model_name": "HBoxModel",
          "model_module_version": "1.5.0",
          "state": {
            "_dom_classes": [],
            "_model_module": "@jupyter-widgets/controls",
            "_model_module_version": "1.5.0",
            "_model_name": "HBoxModel",
            "_view_count": null,
            "_view_module": "@jupyter-widgets/controls",
            "_view_module_version": "1.5.0",
            "_view_name": "HBoxView",
            "box_style": "",
            "children": [
              "IPY_MODEL_85235557c74b49588e5064aa04bad3ca",
              "IPY_MODEL_76b39fbeb608442f97e50d0ffeeab278",
              "IPY_MODEL_0625945edd6e45b895dc6e0bb4e173e0"
            ],
            "layout": "IPY_MODEL_315a075e59c6435f82dfb307ce93af6f"
          }
        },
        "85235557c74b49588e5064aa04bad3ca": {
          "model_module": "@jupyter-widgets/controls",
          "model_name": "HTMLModel",
          "model_module_version": "1.5.0",
          "state": {
            "_dom_classes": [],
            "_model_module": "@jupyter-widgets/controls",
            "_model_module_version": "1.5.0",
            "_model_name": "HTMLModel",
            "_view_count": null,
            "_view_module": "@jupyter-widgets/controls",
            "_view_module_version": "1.5.0",
            "_view_name": "HTMLView",
            "description": "",
            "description_tooltip": null,
            "layout": "IPY_MODEL_58661afc602e4acab64a716ecc6dd415",
            "placeholder": "​",
            "style": "IPY_MODEL_444d680223b34e8e908fbf4b52a7b947",
            "value": "Downloading: 100%"
          }
        },
        "76b39fbeb608442f97e50d0ffeeab278": {
          "model_module": "@jupyter-widgets/controls",
          "model_name": "FloatProgressModel",
          "model_module_version": "1.5.0",
          "state": {
            "_dom_classes": [],
            "_model_module": "@jupyter-widgets/controls",
            "_model_module_version": "1.5.0",
            "_model_name": "FloatProgressModel",
            "_view_count": null,
            "_view_module": "@jupyter-widgets/controls",
            "_view_module_version": "1.5.0",
            "_view_name": "ProgressView",
            "bar_style": "success",
            "description": "",
            "description_tooltip": null,
            "layout": "IPY_MODEL_7f85cf4c146b4658bc134af30c0517a6",
            "max": 466062,
            "min": 0,
            "orientation": "horizontal",
            "style": "IPY_MODEL_1a20f086549b45f6bc8e30a86f5fb7e0",
            "value": 466062
          }
        },
        "0625945edd6e45b895dc6e0bb4e173e0": {
          "model_module": "@jupyter-widgets/controls",
          "model_name": "HTMLModel",
          "model_module_version": "1.5.0",
          "state": {
            "_dom_classes": [],
            "_model_module": "@jupyter-widgets/controls",
            "_model_module_version": "1.5.0",
            "_model_name": "HTMLModel",
            "_view_count": null,
            "_view_module": "@jupyter-widgets/controls",
            "_view_module_version": "1.5.0",
            "_view_name": "HTMLView",
            "description": "",
            "description_tooltip": null,
            "layout": "IPY_MODEL_6cf33aeb6223431986368271a1dbd454",
            "placeholder": "​",
            "style": "IPY_MODEL_fbb1b355aab54f64b7586f62f3bc5e6f",
            "value": " 455k/455k [00:00&lt;00:00, 893kB/s]"
          }
        },
        "315a075e59c6435f82dfb307ce93af6f": {
          "model_module": "@jupyter-widgets/base",
          "model_name": "LayoutModel",
          "model_module_version": "1.2.0",
          "state": {
            "_model_module": "@jupyter-widgets/base",
            "_model_module_version": "1.2.0",
            "_model_name": "LayoutModel",
            "_view_count": null,
            "_view_module": "@jupyter-widgets/base",
            "_view_module_version": "1.2.0",
            "_view_name": "LayoutView",
            "align_content": null,
            "align_items": null,
            "align_self": null,
            "border": null,
            "bottom": null,
            "display": null,
            "flex": null,
            "flex_flow": null,
            "grid_area": null,
            "grid_auto_columns": null,
            "grid_auto_flow": null,
            "grid_auto_rows": null,
            "grid_column": null,
            "grid_gap": null,
            "grid_row": null,
            "grid_template_areas": null,
            "grid_template_columns": null,
            "grid_template_rows": null,
            "height": null,
            "justify_content": null,
            "justify_items": null,
            "left": null,
            "margin": null,
            "max_height": null,
            "max_width": null,
            "min_height": null,
            "min_width": null,
            "object_fit": null,
            "object_position": null,
            "order": null,
            "overflow": null,
            "overflow_x": null,
            "overflow_y": null,
            "padding": null,
            "right": null,
            "top": null,
            "visibility": null,
            "width": null
          }
        },
        "58661afc602e4acab64a716ecc6dd415": {
          "model_module": "@jupyter-widgets/base",
          "model_name": "LayoutModel",
          "model_module_version": "1.2.0",
          "state": {
            "_model_module": "@jupyter-widgets/base",
            "_model_module_version": "1.2.0",
            "_model_name": "LayoutModel",
            "_view_count": null,
            "_view_module": "@jupyter-widgets/base",
            "_view_module_version": "1.2.0",
            "_view_name": "LayoutView",
            "align_content": null,
            "align_items": null,
            "align_self": null,
            "border": null,
            "bottom": null,
            "display": null,
            "flex": null,
            "flex_flow": null,
            "grid_area": null,
            "grid_auto_columns": null,
            "grid_auto_flow": null,
            "grid_auto_rows": null,
            "grid_column": null,
            "grid_gap": null,
            "grid_row": null,
            "grid_template_areas": null,
            "grid_template_columns": null,
            "grid_template_rows": null,
            "height": null,
            "justify_content": null,
            "justify_items": null,
            "left": null,
            "margin": null,
            "max_height": null,
            "max_width": null,
            "min_height": null,
            "min_width": null,
            "object_fit": null,
            "object_position": null,
            "order": null,
            "overflow": null,
            "overflow_x": null,
            "overflow_y": null,
            "padding": null,
            "right": null,
            "top": null,
            "visibility": null,
            "width": null
          }
        },
        "444d680223b34e8e908fbf4b52a7b947": {
          "model_module": "@jupyter-widgets/controls",
          "model_name": "DescriptionStyleModel",
          "model_module_version": "1.5.0",
          "state": {
            "_model_module": "@jupyter-widgets/controls",
            "_model_module_version": "1.5.0",
            "_model_name": "DescriptionStyleModel",
            "_view_count": null,
            "_view_module": "@jupyter-widgets/base",
            "_view_module_version": "1.2.0",
            "_view_name": "StyleView",
            "description_width": ""
          }
        },
        "7f85cf4c146b4658bc134af30c0517a6": {
          "model_module": "@jupyter-widgets/base",
          "model_name": "LayoutModel",
          "model_module_version": "1.2.0",
          "state": {
            "_model_module": "@jupyter-widgets/base",
            "_model_module_version": "1.2.0",
            "_model_name": "LayoutModel",
            "_view_count": null,
            "_view_module": "@jupyter-widgets/base",
            "_view_module_version": "1.2.0",
            "_view_name": "LayoutView",
            "align_content": null,
            "align_items": null,
            "align_self": null,
            "border": null,
            "bottom": null,
            "display": null,
            "flex": null,
            "flex_flow": null,
            "grid_area": null,
            "grid_auto_columns": null,
            "grid_auto_flow": null,
            "grid_auto_rows": null,
            "grid_column": null,
            "grid_gap": null,
            "grid_row": null,
            "grid_template_areas": null,
            "grid_template_columns": null,
            "grid_template_rows": null,
            "height": null,
            "justify_content": null,
            "justify_items": null,
            "left": null,
            "margin": null,
            "max_height": null,
            "max_width": null,
            "min_height": null,
            "min_width": null,
            "object_fit": null,
            "object_position": null,
            "order": null,
            "overflow": null,
            "overflow_x": null,
            "overflow_y": null,
            "padding": null,
            "right": null,
            "top": null,
            "visibility": null,
            "width": null
          }
        },
        "1a20f086549b45f6bc8e30a86f5fb7e0": {
          "model_module": "@jupyter-widgets/controls",
          "model_name": "ProgressStyleModel",
          "model_module_version": "1.5.0",
          "state": {
            "_model_module": "@jupyter-widgets/controls",
            "_model_module_version": "1.5.0",
            "_model_name": "ProgressStyleModel",
            "_view_count": null,
            "_view_module": "@jupyter-widgets/base",
            "_view_module_version": "1.2.0",
            "_view_name": "StyleView",
            "bar_color": null,
            "description_width": ""
          }
        },
        "6cf33aeb6223431986368271a1dbd454": {
          "model_module": "@jupyter-widgets/base",
          "model_name": "LayoutModel",
          "model_module_version": "1.2.0",
          "state": {
            "_model_module": "@jupyter-widgets/base",
            "_model_module_version": "1.2.0",
            "_model_name": "LayoutModel",
            "_view_count": null,
            "_view_module": "@jupyter-widgets/base",
            "_view_module_version": "1.2.0",
            "_view_name": "LayoutView",
            "align_content": null,
            "align_items": null,
            "align_self": null,
            "border": null,
            "bottom": null,
            "display": null,
            "flex": null,
            "flex_flow": null,
            "grid_area": null,
            "grid_auto_columns": null,
            "grid_auto_flow": null,
            "grid_auto_rows": null,
            "grid_column": null,
            "grid_gap": null,
            "grid_row": null,
            "grid_template_areas": null,
            "grid_template_columns": null,
            "grid_template_rows": null,
            "height": null,
            "justify_content": null,
            "justify_items": null,
            "left": null,
            "margin": null,
            "max_height": null,
            "max_width": null,
            "min_height": null,
            "min_width": null,
            "object_fit": null,
            "object_position": null,
            "order": null,
            "overflow": null,
            "overflow_x": null,
            "overflow_y": null,
            "padding": null,
            "right": null,
            "top": null,
            "visibility": null,
            "width": null
          }
        },
        "fbb1b355aab54f64b7586f62f3bc5e6f": {
          "model_module": "@jupyter-widgets/controls",
          "model_name": "DescriptionStyleModel",
          "model_module_version": "1.5.0",
          "state": {
            "_model_module": "@jupyter-widgets/controls",
            "_model_module_version": "1.5.0",
            "_model_name": "DescriptionStyleModel",
            "_view_count": null,
            "_view_module": "@jupyter-widgets/base",
            "_view_module_version": "1.2.0",
            "_view_name": "StyleView",
            "description_width": ""
          }
        },
        "e2249927adcd4f36b2a45dec4f51ed93": {
          "model_module": "@jupyter-widgets/controls",
          "model_name": "HBoxModel",
          "model_module_version": "1.5.0",
          "state": {
            "_dom_classes": [],
            "_model_module": "@jupyter-widgets/controls",
            "_model_module_version": "1.5.0",
            "_model_name": "HBoxModel",
            "_view_count": null,
            "_view_module": "@jupyter-widgets/controls",
            "_view_module_version": "1.5.0",
            "_view_name": "HBoxView",
            "box_style": "",
            "children": [
              "IPY_MODEL_2cfc3574f23f4746ab20fbac7dcf4a2c",
              "IPY_MODEL_222d777d56d546ffb8500e4d33fb1594",
              "IPY_MODEL_b24a5b90e7ca45118fc264e74f803be7"
            ],
            "layout": "IPY_MODEL_1bb9a8d6fb634a2c93fdb436607c4225"
          }
        },
        "2cfc3574f23f4746ab20fbac7dcf4a2c": {
          "model_module": "@jupyter-widgets/controls",
          "model_name": "HTMLModel",
          "model_module_version": "1.5.0",
          "state": {
            "_dom_classes": [],
            "_model_module": "@jupyter-widgets/controls",
            "_model_module_version": "1.5.0",
            "_model_name": "HTMLModel",
            "_view_count": null,
            "_view_module": "@jupyter-widgets/controls",
            "_view_module_version": "1.5.0",
            "_view_name": "HTMLView",
            "description": "",
            "description_tooltip": null,
            "layout": "IPY_MODEL_f25c28522af745f7afed581002c291fd",
            "placeholder": "​",
            "style": "IPY_MODEL_22e0b72b5c0e44b4ac4e2fa1683f6966",
            "value": "Downloading: 100%"
          }
        },
        "222d777d56d546ffb8500e4d33fb1594": {
          "model_module": "@jupyter-widgets/controls",
          "model_name": "FloatProgressModel",
          "model_module_version": "1.5.0",
          "state": {
            "_dom_classes": [],
            "_model_module": "@jupyter-widgets/controls",
            "_model_module_version": "1.5.0",
            "_model_name": "FloatProgressModel",
            "_view_count": null,
            "_view_module": "@jupyter-widgets/controls",
            "_view_module_version": "1.5.0",
            "_view_name": "ProgressView",
            "bar_style": "success",
            "description": "",
            "description_tooltip": null,
            "layout": "IPY_MODEL_82452f46b36d449994a8e2d3cfce4f17",
            "max": 440473133,
            "min": 0,
            "orientation": "horizontal",
            "style": "IPY_MODEL_cd143b09b03a48d49f18b37fc116eb42",
            "value": 440473133
          }
        },
        "b24a5b90e7ca45118fc264e74f803be7": {
          "model_module": "@jupyter-widgets/controls",
          "model_name": "HTMLModel",
          "model_module_version": "1.5.0",
          "state": {
            "_dom_classes": [],
            "_model_module": "@jupyter-widgets/controls",
            "_model_module_version": "1.5.0",
            "_model_name": "HTMLModel",
            "_view_count": null,
            "_view_module": "@jupyter-widgets/controls",
            "_view_module_version": "1.5.0",
            "_view_name": "HTMLView",
            "description": "",
            "description_tooltip": null,
            "layout": "IPY_MODEL_b13b26d59f794b209141d1489f8ca475",
            "placeholder": "​",
            "style": "IPY_MODEL_df0ec3c1e8874c468cc1a22a8851ca7e",
            "value": " 420M/420M [00:39&lt;00:00, 24.6MB/s]"
          }
        },
        "1bb9a8d6fb634a2c93fdb436607c4225": {
          "model_module": "@jupyter-widgets/base",
          "model_name": "LayoutModel",
          "model_module_version": "1.2.0",
          "state": {
            "_model_module": "@jupyter-widgets/base",
            "_model_module_version": "1.2.0",
            "_model_name": "LayoutModel",
            "_view_count": null,
            "_view_module": "@jupyter-widgets/base",
            "_view_module_version": "1.2.0",
            "_view_name": "LayoutView",
            "align_content": null,
            "align_items": null,
            "align_self": null,
            "border": null,
            "bottom": null,
            "display": null,
            "flex": null,
            "flex_flow": null,
            "grid_area": null,
            "grid_auto_columns": null,
            "grid_auto_flow": null,
            "grid_auto_rows": null,
            "grid_column": null,
            "grid_gap": null,
            "grid_row": null,
            "grid_template_areas": null,
            "grid_template_columns": null,
            "grid_template_rows": null,
            "height": null,
            "justify_content": null,
            "justify_items": null,
            "left": null,
            "margin": null,
            "max_height": null,
            "max_width": null,
            "min_height": null,
            "min_width": null,
            "object_fit": null,
            "object_position": null,
            "order": null,
            "overflow": null,
            "overflow_x": null,
            "overflow_y": null,
            "padding": null,
            "right": null,
            "top": null,
            "visibility": null,
            "width": null
          }
        },
        "f25c28522af745f7afed581002c291fd": {
          "model_module": "@jupyter-widgets/base",
          "model_name": "LayoutModel",
          "model_module_version": "1.2.0",
          "state": {
            "_model_module": "@jupyter-widgets/base",
            "_model_module_version": "1.2.0",
            "_model_name": "LayoutModel",
            "_view_count": null,
            "_view_module": "@jupyter-widgets/base",
            "_view_module_version": "1.2.0",
            "_view_name": "LayoutView",
            "align_content": null,
            "align_items": null,
            "align_self": null,
            "border": null,
            "bottom": null,
            "display": null,
            "flex": null,
            "flex_flow": null,
            "grid_area": null,
            "grid_auto_columns": null,
            "grid_auto_flow": null,
            "grid_auto_rows": null,
            "grid_column": null,
            "grid_gap": null,
            "grid_row": null,
            "grid_template_areas": null,
            "grid_template_columns": null,
            "grid_template_rows": null,
            "height": null,
            "justify_content": null,
            "justify_items": null,
            "left": null,
            "margin": null,
            "max_height": null,
            "max_width": null,
            "min_height": null,
            "min_width": null,
            "object_fit": null,
            "object_position": null,
            "order": null,
            "overflow": null,
            "overflow_x": null,
            "overflow_y": null,
            "padding": null,
            "right": null,
            "top": null,
            "visibility": null,
            "width": null
          }
        },
        "22e0b72b5c0e44b4ac4e2fa1683f6966": {
          "model_module": "@jupyter-widgets/controls",
          "model_name": "DescriptionStyleModel",
          "model_module_version": "1.5.0",
          "state": {
            "_model_module": "@jupyter-widgets/controls",
            "_model_module_version": "1.5.0",
            "_model_name": "DescriptionStyleModel",
            "_view_count": null,
            "_view_module": "@jupyter-widgets/base",
            "_view_module_version": "1.2.0",
            "_view_name": "StyleView",
            "description_width": ""
          }
        },
        "82452f46b36d449994a8e2d3cfce4f17": {
          "model_module": "@jupyter-widgets/base",
          "model_name": "LayoutModel",
          "model_module_version": "1.2.0",
          "state": {
            "_model_module": "@jupyter-widgets/base",
            "_model_module_version": "1.2.0",
            "_model_name": "LayoutModel",
            "_view_count": null,
            "_view_module": "@jupyter-widgets/base",
            "_view_module_version": "1.2.0",
            "_view_name": "LayoutView",
            "align_content": null,
            "align_items": null,
            "align_self": null,
            "border": null,
            "bottom": null,
            "display": null,
            "flex": null,
            "flex_flow": null,
            "grid_area": null,
            "grid_auto_columns": null,
            "grid_auto_flow": null,
            "grid_auto_rows": null,
            "grid_column": null,
            "grid_gap": null,
            "grid_row": null,
            "grid_template_areas": null,
            "grid_template_columns": null,
            "grid_template_rows": null,
            "height": null,
            "justify_content": null,
            "justify_items": null,
            "left": null,
            "margin": null,
            "max_height": null,
            "max_width": null,
            "min_height": null,
            "min_width": null,
            "object_fit": null,
            "object_position": null,
            "order": null,
            "overflow": null,
            "overflow_x": null,
            "overflow_y": null,
            "padding": null,
            "right": null,
            "top": null,
            "visibility": null,
            "width": null
          }
        },
        "cd143b09b03a48d49f18b37fc116eb42": {
          "model_module": "@jupyter-widgets/controls",
          "model_name": "ProgressStyleModel",
          "model_module_version": "1.5.0",
          "state": {
            "_model_module": "@jupyter-widgets/controls",
            "_model_module_version": "1.5.0",
            "_model_name": "ProgressStyleModel",
            "_view_count": null,
            "_view_module": "@jupyter-widgets/base",
            "_view_module_version": "1.2.0",
            "_view_name": "StyleView",
            "bar_color": null,
            "description_width": ""
          }
        },
        "b13b26d59f794b209141d1489f8ca475": {
          "model_module": "@jupyter-widgets/base",
          "model_name": "LayoutModel",
          "model_module_version": "1.2.0",
          "state": {
            "_model_module": "@jupyter-widgets/base",
            "_model_module_version": "1.2.0",
            "_model_name": "LayoutModel",
            "_view_count": null,
            "_view_module": "@jupyter-widgets/base",
            "_view_module_version": "1.2.0",
            "_view_name": "LayoutView",
            "align_content": null,
            "align_items": null,
            "align_self": null,
            "border": null,
            "bottom": null,
            "display": null,
            "flex": null,
            "flex_flow": null,
            "grid_area": null,
            "grid_auto_columns": null,
            "grid_auto_flow": null,
            "grid_auto_rows": null,
            "grid_column": null,
            "grid_gap": null,
            "grid_row": null,
            "grid_template_areas": null,
            "grid_template_columns": null,
            "grid_template_rows": null,
            "height": null,
            "justify_content": null,
            "justify_items": null,
            "left": null,
            "margin": null,
            "max_height": null,
            "max_width": null,
            "min_height": null,
            "min_width": null,
            "object_fit": null,
            "object_position": null,
            "order": null,
            "overflow": null,
            "overflow_x": null,
            "overflow_y": null,
            "padding": null,
            "right": null,
            "top": null,
            "visibility": null,
            "width": null
          }
        },
        "df0ec3c1e8874c468cc1a22a8851ca7e": {
          "model_module": "@jupyter-widgets/controls",
          "model_name": "DescriptionStyleModel",
          "model_module_version": "1.5.0",
          "state": {
            "_model_module": "@jupyter-widgets/controls",
            "_model_module_version": "1.5.0",
            "_model_name": "DescriptionStyleModel",
            "_view_count": null,
            "_view_module": "@jupyter-widgets/base",
            "_view_module_version": "1.2.0",
            "_view_name": "StyleView",
            "description_width": ""
          }
        },
        "a385ba81451d4f2f81fcbb5a442ce2e0": {
          "model_module": "@jupyter-widgets/controls",
          "model_name": "HBoxModel",
          "model_module_version": "1.5.0",
          "state": {
            "_dom_classes": [],
            "_model_module": "@jupyter-widgets/controls",
            "_model_module_version": "1.5.0",
            "_model_name": "HBoxModel",
            "_view_count": null,
            "_view_module": "@jupyter-widgets/controls",
            "_view_module_version": "1.5.0",
            "_view_name": "HBoxView",
            "box_style": "",
            "children": [
              "IPY_MODEL_eea94f3c2669425da13e68785d00ba4d",
              "IPY_MODEL_592257d25cff44898fd6b8ae00cc5927",
              "IPY_MODEL_c1ae8c16fefd461faca372885bceb574"
            ],
            "layout": "IPY_MODEL_85384a8a9a554d21b5da15ddcd6b392d"
          }
        },
        "eea94f3c2669425da13e68785d00ba4d": {
          "model_module": "@jupyter-widgets/controls",
          "model_name": "HTMLModel",
          "model_module_version": "1.5.0",
          "state": {
            "_dom_classes": [],
            "_model_module": "@jupyter-widgets/controls",
            "_model_module_version": "1.5.0",
            "_model_name": "HTMLModel",
            "_view_count": null,
            "_view_module": "@jupyter-widgets/controls",
            "_view_module_version": "1.5.0",
            "_view_name": "HTMLView",
            "description": "",
            "description_tooltip": null,
            "layout": "IPY_MODEL_325d4d18741d497591a24ed0d98ee2f0",
            "placeholder": "​",
            "style": "IPY_MODEL_3f8ed44f3b2b4ee49244bf69bb11e585",
            "value": "Downloading: 100%"
          }
        },
        "592257d25cff44898fd6b8ae00cc5927": {
          "model_module": "@jupyter-widgets/controls",
          "model_name": "FloatProgressModel",
          "model_module_version": "1.5.0",
          "state": {
            "_dom_classes": [],
            "_model_module": "@jupyter-widgets/controls",
            "_model_module_version": "1.5.0",
            "_model_name": "FloatProgressModel",
            "_view_count": null,
            "_view_module": "@jupyter-widgets/controls",
            "_view_module_version": "1.5.0",
            "_view_name": "ProgressView",
            "bar_style": "success",
            "description": "",
            "description_tooltip": null,
            "layout": "IPY_MODEL_dd4a3cf7625b4b0082470c945fc437a4",
            "max": 28,
            "min": 0,
            "orientation": "horizontal",
            "style": "IPY_MODEL_2ffda4fe468b45ed8607992cae1d95c4",
            "value": 28
          }
        },
        "c1ae8c16fefd461faca372885bceb574": {
          "model_module": "@jupyter-widgets/controls",
          "model_name": "HTMLModel",
          "model_module_version": "1.5.0",
          "state": {
            "_dom_classes": [],
            "_model_module": "@jupyter-widgets/controls",
            "_model_module_version": "1.5.0",
            "_model_name": "HTMLModel",
            "_view_count": null,
            "_view_module": "@jupyter-widgets/controls",
            "_view_module_version": "1.5.0",
            "_view_name": "HTMLView",
            "description": "",
            "description_tooltip": null,
            "layout": "IPY_MODEL_f1380dde59274efebc6659aaed56e543",
            "placeholder": "​",
            "style": "IPY_MODEL_13f7d40f9c6b4c5c806b044e1ecf3301",
            "value": " 28.0/28.0 [00:00&lt;00:00, 501B/s]"
          }
        },
        "85384a8a9a554d21b5da15ddcd6b392d": {
          "model_module": "@jupyter-widgets/base",
          "model_name": "LayoutModel",
          "model_module_version": "1.2.0",
          "state": {
            "_model_module": "@jupyter-widgets/base",
            "_model_module_version": "1.2.0",
            "_model_name": "LayoutModel",
            "_view_count": null,
            "_view_module": "@jupyter-widgets/base",
            "_view_module_version": "1.2.0",
            "_view_name": "LayoutView",
            "align_content": null,
            "align_items": null,
            "align_self": null,
            "border": null,
            "bottom": null,
            "display": null,
            "flex": null,
            "flex_flow": null,
            "grid_area": null,
            "grid_auto_columns": null,
            "grid_auto_flow": null,
            "grid_auto_rows": null,
            "grid_column": null,
            "grid_gap": null,
            "grid_row": null,
            "grid_template_areas": null,
            "grid_template_columns": null,
            "grid_template_rows": null,
            "height": null,
            "justify_content": null,
            "justify_items": null,
            "left": null,
            "margin": null,
            "max_height": null,
            "max_width": null,
            "min_height": null,
            "min_width": null,
            "object_fit": null,
            "object_position": null,
            "order": null,
            "overflow": null,
            "overflow_x": null,
            "overflow_y": null,
            "padding": null,
            "right": null,
            "top": null,
            "visibility": null,
            "width": null
          }
        },
        "325d4d18741d497591a24ed0d98ee2f0": {
          "model_module": "@jupyter-widgets/base",
          "model_name": "LayoutModel",
          "model_module_version": "1.2.0",
          "state": {
            "_model_module": "@jupyter-widgets/base",
            "_model_module_version": "1.2.0",
            "_model_name": "LayoutModel",
            "_view_count": null,
            "_view_module": "@jupyter-widgets/base",
            "_view_module_version": "1.2.0",
            "_view_name": "LayoutView",
            "align_content": null,
            "align_items": null,
            "align_self": null,
            "border": null,
            "bottom": null,
            "display": null,
            "flex": null,
            "flex_flow": null,
            "grid_area": null,
            "grid_auto_columns": null,
            "grid_auto_flow": null,
            "grid_auto_rows": null,
            "grid_column": null,
            "grid_gap": null,
            "grid_row": null,
            "grid_template_areas": null,
            "grid_template_columns": null,
            "grid_template_rows": null,
            "height": null,
            "justify_content": null,
            "justify_items": null,
            "left": null,
            "margin": null,
            "max_height": null,
            "max_width": null,
            "min_height": null,
            "min_width": null,
            "object_fit": null,
            "object_position": null,
            "order": null,
            "overflow": null,
            "overflow_x": null,
            "overflow_y": null,
            "padding": null,
            "right": null,
            "top": null,
            "visibility": null,
            "width": null
          }
        },
        "3f8ed44f3b2b4ee49244bf69bb11e585": {
          "model_module": "@jupyter-widgets/controls",
          "model_name": "DescriptionStyleModel",
          "model_module_version": "1.5.0",
          "state": {
            "_model_module": "@jupyter-widgets/controls",
            "_model_module_version": "1.5.0",
            "_model_name": "DescriptionStyleModel",
            "_view_count": null,
            "_view_module": "@jupyter-widgets/base",
            "_view_module_version": "1.2.0",
            "_view_name": "StyleView",
            "description_width": ""
          }
        },
        "dd4a3cf7625b4b0082470c945fc437a4": {
          "model_module": "@jupyter-widgets/base",
          "model_name": "LayoutModel",
          "model_module_version": "1.2.0",
          "state": {
            "_model_module": "@jupyter-widgets/base",
            "_model_module_version": "1.2.0",
            "_model_name": "LayoutModel",
            "_view_count": null,
            "_view_module": "@jupyter-widgets/base",
            "_view_module_version": "1.2.0",
            "_view_name": "LayoutView",
            "align_content": null,
            "align_items": null,
            "align_self": null,
            "border": null,
            "bottom": null,
            "display": null,
            "flex": null,
            "flex_flow": null,
            "grid_area": null,
            "grid_auto_columns": null,
            "grid_auto_flow": null,
            "grid_auto_rows": null,
            "grid_column": null,
            "grid_gap": null,
            "grid_row": null,
            "grid_template_areas": null,
            "grid_template_columns": null,
            "grid_template_rows": null,
            "height": null,
            "justify_content": null,
            "justify_items": null,
            "left": null,
            "margin": null,
            "max_height": null,
            "max_width": null,
            "min_height": null,
            "min_width": null,
            "object_fit": null,
            "object_position": null,
            "order": null,
            "overflow": null,
            "overflow_x": null,
            "overflow_y": null,
            "padding": null,
            "right": null,
            "top": null,
            "visibility": null,
            "width": null
          }
        },
        "2ffda4fe468b45ed8607992cae1d95c4": {
          "model_module": "@jupyter-widgets/controls",
          "model_name": "ProgressStyleModel",
          "model_module_version": "1.5.0",
          "state": {
            "_model_module": "@jupyter-widgets/controls",
            "_model_module_version": "1.5.0",
            "_model_name": "ProgressStyleModel",
            "_view_count": null,
            "_view_module": "@jupyter-widgets/base",
            "_view_module_version": "1.2.0",
            "_view_name": "StyleView",
            "bar_color": null,
            "description_width": ""
          }
        },
        "f1380dde59274efebc6659aaed56e543": {
          "model_module": "@jupyter-widgets/base",
          "model_name": "LayoutModel",
          "model_module_version": "1.2.0",
          "state": {
            "_model_module": "@jupyter-widgets/base",
            "_model_module_version": "1.2.0",
            "_model_name": "LayoutModel",
            "_view_count": null,
            "_view_module": "@jupyter-widgets/base",
            "_view_module_version": "1.2.0",
            "_view_name": "LayoutView",
            "align_content": null,
            "align_items": null,
            "align_self": null,
            "border": null,
            "bottom": null,
            "display": null,
            "flex": null,
            "flex_flow": null,
            "grid_area": null,
            "grid_auto_columns": null,
            "grid_auto_flow": null,
            "grid_auto_rows": null,
            "grid_column": null,
            "grid_gap": null,
            "grid_row": null,
            "grid_template_areas": null,
            "grid_template_columns": null,
            "grid_template_rows": null,
            "height": null,
            "justify_content": null,
            "justify_items": null,
            "left": null,
            "margin": null,
            "max_height": null,
            "max_width": null,
            "min_height": null,
            "min_width": null,
            "object_fit": null,
            "object_position": null,
            "order": null,
            "overflow": null,
            "overflow_x": null,
            "overflow_y": null,
            "padding": null,
            "right": null,
            "top": null,
            "visibility": null,
            "width": null
          }
        },
        "13f7d40f9c6b4c5c806b044e1ecf3301": {
          "model_module": "@jupyter-widgets/controls",
          "model_name": "DescriptionStyleModel",
          "model_module_version": "1.5.0",
          "state": {
            "_model_module": "@jupyter-widgets/controls",
            "_model_module_version": "1.5.0",
            "_model_name": "DescriptionStyleModel",
            "_view_count": null,
            "_view_module": "@jupyter-widgets/base",
            "_view_module_version": "1.2.0",
            "_view_name": "StyleView",
            "description_width": ""
          }
        },
        "231ddd5c6eb549a3868607aa7e3313d3": {
          "model_module": "@jupyter-widgets/controls",
          "model_name": "HBoxModel",
          "model_module_version": "1.5.0",
          "state": {
            "_dom_classes": [],
            "_model_module": "@jupyter-widgets/controls",
            "_model_module_version": "1.5.0",
            "_model_name": "HBoxModel",
            "_view_count": null,
            "_view_module": "@jupyter-widgets/controls",
            "_view_module_version": "1.5.0",
            "_view_name": "HBoxView",
            "box_style": "",
            "children": [
              "IPY_MODEL_c07912e27bb647a08b4da65dff51d4ef",
              "IPY_MODEL_19e2c707c5db4f1cb9b90610d5da41c5",
              "IPY_MODEL_bbc5d66a296249b8bce48a93aaba52d3"
            ],
            "layout": "IPY_MODEL_7afcb43a80eb4bdfbab60ce00844578d"
          }
        },
        "c07912e27bb647a08b4da65dff51d4ef": {
          "model_module": "@jupyter-widgets/controls",
          "model_name": "HTMLModel",
          "model_module_version": "1.5.0",
          "state": {
            "_dom_classes": [],
            "_model_module": "@jupyter-widgets/controls",
            "_model_module_version": "1.5.0",
            "_model_name": "HTMLModel",
            "_view_count": null,
            "_view_module": "@jupyter-widgets/controls",
            "_view_module_version": "1.5.0",
            "_view_name": "HTMLView",
            "description": "",
            "description_tooltip": null,
            "layout": "IPY_MODEL_fa1c9763b67046609065713e3b306ca6",
            "placeholder": "​",
            "style": "IPY_MODEL_57245084690b4d53b27bbbffc2d98529",
            "value": "Downloading: 100%"
          }
        },
        "19e2c707c5db4f1cb9b90610d5da41c5": {
          "model_module": "@jupyter-widgets/controls",
          "model_name": "FloatProgressModel",
          "model_module_version": "1.5.0",
          "state": {
            "_dom_classes": [],
            "_model_module": "@jupyter-widgets/controls",
            "_model_module_version": "1.5.0",
            "_model_name": "FloatProgressModel",
            "_view_count": null,
            "_view_module": "@jupyter-widgets/controls",
            "_view_module_version": "1.5.0",
            "_view_name": "ProgressView",
            "bar_style": "success",
            "description": "",
            "description_tooltip": null,
            "layout": "IPY_MODEL_0cc5dea1826e411484c906b73a8b81d2",
            "max": 483,
            "min": 0,
            "orientation": "horizontal",
            "style": "IPY_MODEL_c5156a17e5a44e8d9ffb9fd03d7a108a",
            "value": 483
          }
        },
        "bbc5d66a296249b8bce48a93aaba52d3": {
          "model_module": "@jupyter-widgets/controls",
          "model_name": "HTMLModel",
          "model_module_version": "1.5.0",
          "state": {
            "_dom_classes": [],
            "_model_module": "@jupyter-widgets/controls",
            "_model_module_version": "1.5.0",
            "_model_name": "HTMLModel",
            "_view_count": null,
            "_view_module": "@jupyter-widgets/controls",
            "_view_module_version": "1.5.0",
            "_view_name": "HTMLView",
            "description": "",
            "description_tooltip": null,
            "layout": "IPY_MODEL_3e448e66fc0d424199e573629fcdcddd",
            "placeholder": "​",
            "style": "IPY_MODEL_1cf2c0ab1f824345988a5218c5fff56b",
            "value": " 483/483 [00:00&lt;00:00, 12.1kB/s]"
          }
        },
        "7afcb43a80eb4bdfbab60ce00844578d": {
          "model_module": "@jupyter-widgets/base",
          "model_name": "LayoutModel",
          "model_module_version": "1.2.0",
          "state": {
            "_model_module": "@jupyter-widgets/base",
            "_model_module_version": "1.2.0",
            "_model_name": "LayoutModel",
            "_view_count": null,
            "_view_module": "@jupyter-widgets/base",
            "_view_module_version": "1.2.0",
            "_view_name": "LayoutView",
            "align_content": null,
            "align_items": null,
            "align_self": null,
            "border": null,
            "bottom": null,
            "display": null,
            "flex": null,
            "flex_flow": null,
            "grid_area": null,
            "grid_auto_columns": null,
            "grid_auto_flow": null,
            "grid_auto_rows": null,
            "grid_column": null,
            "grid_gap": null,
            "grid_row": null,
            "grid_template_areas": null,
            "grid_template_columns": null,
            "grid_template_rows": null,
            "height": null,
            "justify_content": null,
            "justify_items": null,
            "left": null,
            "margin": null,
            "max_height": null,
            "max_width": null,
            "min_height": null,
            "min_width": null,
            "object_fit": null,
            "object_position": null,
            "order": null,
            "overflow": null,
            "overflow_x": null,
            "overflow_y": null,
            "padding": null,
            "right": null,
            "top": null,
            "visibility": null,
            "width": null
          }
        },
        "fa1c9763b67046609065713e3b306ca6": {
          "model_module": "@jupyter-widgets/base",
          "model_name": "LayoutModel",
          "model_module_version": "1.2.0",
          "state": {
            "_model_module": "@jupyter-widgets/base",
            "_model_module_version": "1.2.0",
            "_model_name": "LayoutModel",
            "_view_count": null,
            "_view_module": "@jupyter-widgets/base",
            "_view_module_version": "1.2.0",
            "_view_name": "LayoutView",
            "align_content": null,
            "align_items": null,
            "align_self": null,
            "border": null,
            "bottom": null,
            "display": null,
            "flex": null,
            "flex_flow": null,
            "grid_area": null,
            "grid_auto_columns": null,
            "grid_auto_flow": null,
            "grid_auto_rows": null,
            "grid_column": null,
            "grid_gap": null,
            "grid_row": null,
            "grid_template_areas": null,
            "grid_template_columns": null,
            "grid_template_rows": null,
            "height": null,
            "justify_content": null,
            "justify_items": null,
            "left": null,
            "margin": null,
            "max_height": null,
            "max_width": null,
            "min_height": null,
            "min_width": null,
            "object_fit": null,
            "object_position": null,
            "order": null,
            "overflow": null,
            "overflow_x": null,
            "overflow_y": null,
            "padding": null,
            "right": null,
            "top": null,
            "visibility": null,
            "width": null
          }
        },
        "57245084690b4d53b27bbbffc2d98529": {
          "model_module": "@jupyter-widgets/controls",
          "model_name": "DescriptionStyleModel",
          "model_module_version": "1.5.0",
          "state": {
            "_model_module": "@jupyter-widgets/controls",
            "_model_module_version": "1.5.0",
            "_model_name": "DescriptionStyleModel",
            "_view_count": null,
            "_view_module": "@jupyter-widgets/base",
            "_view_module_version": "1.2.0",
            "_view_name": "StyleView",
            "description_width": ""
          }
        },
        "0cc5dea1826e411484c906b73a8b81d2": {
          "model_module": "@jupyter-widgets/base",
          "model_name": "LayoutModel",
          "model_module_version": "1.2.0",
          "state": {
            "_model_module": "@jupyter-widgets/base",
            "_model_module_version": "1.2.0",
            "_model_name": "LayoutModel",
            "_view_count": null,
            "_view_module": "@jupyter-widgets/base",
            "_view_module_version": "1.2.0",
            "_view_name": "LayoutView",
            "align_content": null,
            "align_items": null,
            "align_self": null,
            "border": null,
            "bottom": null,
            "display": null,
            "flex": null,
            "flex_flow": null,
            "grid_area": null,
            "grid_auto_columns": null,
            "grid_auto_flow": null,
            "grid_auto_rows": null,
            "grid_column": null,
            "grid_gap": null,
            "grid_row": null,
            "grid_template_areas": null,
            "grid_template_columns": null,
            "grid_template_rows": null,
            "height": null,
            "justify_content": null,
            "justify_items": null,
            "left": null,
            "margin": null,
            "max_height": null,
            "max_width": null,
            "min_height": null,
            "min_width": null,
            "object_fit": null,
            "object_position": null,
            "order": null,
            "overflow": null,
            "overflow_x": null,
            "overflow_y": null,
            "padding": null,
            "right": null,
            "top": null,
            "visibility": null,
            "width": null
          }
        },
        "c5156a17e5a44e8d9ffb9fd03d7a108a": {
          "model_module": "@jupyter-widgets/controls",
          "model_name": "ProgressStyleModel",
          "model_module_version": "1.5.0",
          "state": {
            "_model_module": "@jupyter-widgets/controls",
            "_model_module_version": "1.5.0",
            "_model_name": "ProgressStyleModel",
            "_view_count": null,
            "_view_module": "@jupyter-widgets/base",
            "_view_module_version": "1.2.0",
            "_view_name": "StyleView",
            "bar_color": null,
            "description_width": ""
          }
        },
        "3e448e66fc0d424199e573629fcdcddd": {
          "model_module": "@jupyter-widgets/base",
          "model_name": "LayoutModel",
          "model_module_version": "1.2.0",
          "state": {
            "_model_module": "@jupyter-widgets/base",
            "_model_module_version": "1.2.0",
            "_model_name": "LayoutModel",
            "_view_count": null,
            "_view_module": "@jupyter-widgets/base",
            "_view_module_version": "1.2.0",
            "_view_name": "LayoutView",
            "align_content": null,
            "align_items": null,
            "align_self": null,
            "border": null,
            "bottom": null,
            "display": null,
            "flex": null,
            "flex_flow": null,
            "grid_area": null,
            "grid_auto_columns": null,
            "grid_auto_flow": null,
            "grid_auto_rows": null,
            "grid_column": null,
            "grid_gap": null,
            "grid_row": null,
            "grid_template_areas": null,
            "grid_template_columns": null,
            "grid_template_rows": null,
            "height": null,
            "justify_content": null,
            "justify_items": null,
            "left": null,
            "margin": null,
            "max_height": null,
            "max_width": null,
            "min_height": null,
            "min_width": null,
            "object_fit": null,
            "object_position": null,
            "order": null,
            "overflow": null,
            "overflow_x": null,
            "overflow_y": null,
            "padding": null,
            "right": null,
            "top": null,
            "visibility": null,
            "width": null
          }
        },
        "1cf2c0ab1f824345988a5218c5fff56b": {
          "model_module": "@jupyter-widgets/controls",
          "model_name": "DescriptionStyleModel",
          "model_module_version": "1.5.0",
          "state": {
            "_model_module": "@jupyter-widgets/controls",
            "_model_module_version": "1.5.0",
            "_model_name": "DescriptionStyleModel",
            "_view_count": null,
            "_view_module": "@jupyter-widgets/base",
            "_view_module_version": "1.2.0",
            "_view_name": "StyleView",
            "description_width": ""
          }
        },
        "f89e869323714e8a9728605b96997636": {
          "model_module": "@jupyter-widgets/controls",
          "model_name": "HBoxModel",
          "model_module_version": "1.5.0",
          "state": {
            "_dom_classes": [],
            "_model_module": "@jupyter-widgets/controls",
            "_model_module_version": "1.5.0",
            "_model_name": "HBoxModel",
            "_view_count": null,
            "_view_module": "@jupyter-widgets/controls",
            "_view_module_version": "1.5.0",
            "_view_name": "HBoxView",
            "box_style": "",
            "children": [
              "IPY_MODEL_dfa411981a6e41a688bd4b2d1cb58377",
              "IPY_MODEL_ff8bd32c07c24a10a19e10aa9cdae569",
              "IPY_MODEL_86816c02218b46f7a75fc1c170fcec47"
            ],
            "layout": "IPY_MODEL_71962c66a66146dd868da63216e65e5b"
          }
        },
        "dfa411981a6e41a688bd4b2d1cb58377": {
          "model_module": "@jupyter-widgets/controls",
          "model_name": "HTMLModel",
          "model_module_version": "1.5.0",
          "state": {
            "_dom_classes": [],
            "_model_module": "@jupyter-widgets/controls",
            "_model_module_version": "1.5.0",
            "_model_name": "HTMLModel",
            "_view_count": null,
            "_view_module": "@jupyter-widgets/controls",
            "_view_module_version": "1.5.0",
            "_view_name": "HTMLView",
            "description": "",
            "description_tooltip": null,
            "layout": "IPY_MODEL_7271f918646b4b7789ed401856c6043f",
            "placeholder": "​",
            "style": "IPY_MODEL_8c563a1d1b4749de9b474d704b737072",
            "value": "Downloading: 100%"
          }
        },
        "ff8bd32c07c24a10a19e10aa9cdae569": {
          "model_module": "@jupyter-widgets/controls",
          "model_name": "FloatProgressModel",
          "model_module_version": "1.5.0",
          "state": {
            "_dom_classes": [],
            "_model_module": "@jupyter-widgets/controls",
            "_model_module_version": "1.5.0",
            "_model_name": "FloatProgressModel",
            "_view_count": null,
            "_view_module": "@jupyter-widgets/controls",
            "_view_module_version": "1.5.0",
            "_view_name": "ProgressView",
            "bar_style": "success",
            "description": "",
            "description_tooltip": null,
            "layout": "IPY_MODEL_383c51e5fe9e448cb286ef2a54164cb6",
            "max": 231508,
            "min": 0,
            "orientation": "horizontal",
            "style": "IPY_MODEL_5077b75595394121b563067d8eef8ca2",
            "value": 231508
          }
        },
        "86816c02218b46f7a75fc1c170fcec47": {
          "model_module": "@jupyter-widgets/controls",
          "model_name": "HTMLModel",
          "model_module_version": "1.5.0",
          "state": {
            "_dom_classes": [],
            "_model_module": "@jupyter-widgets/controls",
            "_model_module_version": "1.5.0",
            "_model_name": "HTMLModel",
            "_view_count": null,
            "_view_module": "@jupyter-widgets/controls",
            "_view_module_version": "1.5.0",
            "_view_name": "HTMLView",
            "description": "",
            "description_tooltip": null,
            "layout": "IPY_MODEL_af006924451149159f8fc5c453cd206a",
            "placeholder": "​",
            "style": "IPY_MODEL_2c79aaf3965346f488ffe4df359b5bd9",
            "value": " 226k/226k [00:00&lt;00:00, 935kB/s]"
          }
        },
        "71962c66a66146dd868da63216e65e5b": {
          "model_module": "@jupyter-widgets/base",
          "model_name": "LayoutModel",
          "model_module_version": "1.2.0",
          "state": {
            "_model_module": "@jupyter-widgets/base",
            "_model_module_version": "1.2.0",
            "_model_name": "LayoutModel",
            "_view_count": null,
            "_view_module": "@jupyter-widgets/base",
            "_view_module_version": "1.2.0",
            "_view_name": "LayoutView",
            "align_content": null,
            "align_items": null,
            "align_self": null,
            "border": null,
            "bottom": null,
            "display": null,
            "flex": null,
            "flex_flow": null,
            "grid_area": null,
            "grid_auto_columns": null,
            "grid_auto_flow": null,
            "grid_auto_rows": null,
            "grid_column": null,
            "grid_gap": null,
            "grid_row": null,
            "grid_template_areas": null,
            "grid_template_columns": null,
            "grid_template_rows": null,
            "height": null,
            "justify_content": null,
            "justify_items": null,
            "left": null,
            "margin": null,
            "max_height": null,
            "max_width": null,
            "min_height": null,
            "min_width": null,
            "object_fit": null,
            "object_position": null,
            "order": null,
            "overflow": null,
            "overflow_x": null,
            "overflow_y": null,
            "padding": null,
            "right": null,
            "top": null,
            "visibility": null,
            "width": null
          }
        },
        "7271f918646b4b7789ed401856c6043f": {
          "model_module": "@jupyter-widgets/base",
          "model_name": "LayoutModel",
          "model_module_version": "1.2.0",
          "state": {
            "_model_module": "@jupyter-widgets/base",
            "_model_module_version": "1.2.0",
            "_model_name": "LayoutModel",
            "_view_count": null,
            "_view_module": "@jupyter-widgets/base",
            "_view_module_version": "1.2.0",
            "_view_name": "LayoutView",
            "align_content": null,
            "align_items": null,
            "align_self": null,
            "border": null,
            "bottom": null,
            "display": null,
            "flex": null,
            "flex_flow": null,
            "grid_area": null,
            "grid_auto_columns": null,
            "grid_auto_flow": null,
            "grid_auto_rows": null,
            "grid_column": null,
            "grid_gap": null,
            "grid_row": null,
            "grid_template_areas": null,
            "grid_template_columns": null,
            "grid_template_rows": null,
            "height": null,
            "justify_content": null,
            "justify_items": null,
            "left": null,
            "margin": null,
            "max_height": null,
            "max_width": null,
            "min_height": null,
            "min_width": null,
            "object_fit": null,
            "object_position": null,
            "order": null,
            "overflow": null,
            "overflow_x": null,
            "overflow_y": null,
            "padding": null,
            "right": null,
            "top": null,
            "visibility": null,
            "width": null
          }
        },
        "8c563a1d1b4749de9b474d704b737072": {
          "model_module": "@jupyter-widgets/controls",
          "model_name": "DescriptionStyleModel",
          "model_module_version": "1.5.0",
          "state": {
            "_model_module": "@jupyter-widgets/controls",
            "_model_module_version": "1.5.0",
            "_model_name": "DescriptionStyleModel",
            "_view_count": null,
            "_view_module": "@jupyter-widgets/base",
            "_view_module_version": "1.2.0",
            "_view_name": "StyleView",
            "description_width": ""
          }
        },
        "383c51e5fe9e448cb286ef2a54164cb6": {
          "model_module": "@jupyter-widgets/base",
          "model_name": "LayoutModel",
          "model_module_version": "1.2.0",
          "state": {
            "_model_module": "@jupyter-widgets/base",
            "_model_module_version": "1.2.0",
            "_model_name": "LayoutModel",
            "_view_count": null,
            "_view_module": "@jupyter-widgets/base",
            "_view_module_version": "1.2.0",
            "_view_name": "LayoutView",
            "align_content": null,
            "align_items": null,
            "align_self": null,
            "border": null,
            "bottom": null,
            "display": null,
            "flex": null,
            "flex_flow": null,
            "grid_area": null,
            "grid_auto_columns": null,
            "grid_auto_flow": null,
            "grid_auto_rows": null,
            "grid_column": null,
            "grid_gap": null,
            "grid_row": null,
            "grid_template_areas": null,
            "grid_template_columns": null,
            "grid_template_rows": null,
            "height": null,
            "justify_content": null,
            "justify_items": null,
            "left": null,
            "margin": null,
            "max_height": null,
            "max_width": null,
            "min_height": null,
            "min_width": null,
            "object_fit": null,
            "object_position": null,
            "order": null,
            "overflow": null,
            "overflow_x": null,
            "overflow_y": null,
            "padding": null,
            "right": null,
            "top": null,
            "visibility": null,
            "width": null
          }
        },
        "5077b75595394121b563067d8eef8ca2": {
          "model_module": "@jupyter-widgets/controls",
          "model_name": "ProgressStyleModel",
          "model_module_version": "1.5.0",
          "state": {
            "_model_module": "@jupyter-widgets/controls",
            "_model_module_version": "1.5.0",
            "_model_name": "ProgressStyleModel",
            "_view_count": null,
            "_view_module": "@jupyter-widgets/base",
            "_view_module_version": "1.2.0",
            "_view_name": "StyleView",
            "bar_color": null,
            "description_width": ""
          }
        },
        "af006924451149159f8fc5c453cd206a": {
          "model_module": "@jupyter-widgets/base",
          "model_name": "LayoutModel",
          "model_module_version": "1.2.0",
          "state": {
            "_model_module": "@jupyter-widgets/base",
            "_model_module_version": "1.2.0",
            "_model_name": "LayoutModel",
            "_view_count": null,
            "_view_module": "@jupyter-widgets/base",
            "_view_module_version": "1.2.0",
            "_view_name": "LayoutView",
            "align_content": null,
            "align_items": null,
            "align_self": null,
            "border": null,
            "bottom": null,
            "display": null,
            "flex": null,
            "flex_flow": null,
            "grid_area": null,
            "grid_auto_columns": null,
            "grid_auto_flow": null,
            "grid_auto_rows": null,
            "grid_column": null,
            "grid_gap": null,
            "grid_row": null,
            "grid_template_areas": null,
            "grid_template_columns": null,
            "grid_template_rows": null,
            "height": null,
            "justify_content": null,
            "justify_items": null,
            "left": null,
            "margin": null,
            "max_height": null,
            "max_width": null,
            "min_height": null,
            "min_width": null,
            "object_fit": null,
            "object_position": null,
            "order": null,
            "overflow": null,
            "overflow_x": null,
            "overflow_y": null,
            "padding": null,
            "right": null,
            "top": null,
            "visibility": null,
            "width": null
          }
        },
        "2c79aaf3965346f488ffe4df359b5bd9": {
          "model_module": "@jupyter-widgets/controls",
          "model_name": "DescriptionStyleModel",
          "model_module_version": "1.5.0",
          "state": {
            "_model_module": "@jupyter-widgets/controls",
            "_model_module_version": "1.5.0",
            "_model_name": "DescriptionStyleModel",
            "_view_count": null,
            "_view_module": "@jupyter-widgets/base",
            "_view_module_version": "1.2.0",
            "_view_name": "StyleView",
            "description_width": ""
          }
        },
        "3db31dcf5f5e4786b59e53a6439efd77": {
          "model_module": "@jupyter-widgets/controls",
          "model_name": "HBoxModel",
          "model_module_version": "1.5.0",
          "state": {
            "_dom_classes": [],
            "_model_module": "@jupyter-widgets/controls",
            "_model_module_version": "1.5.0",
            "_model_name": "HBoxModel",
            "_view_count": null,
            "_view_module": "@jupyter-widgets/controls",
            "_view_module_version": "1.5.0",
            "_view_name": "HBoxView",
            "box_style": "",
            "children": [
              "IPY_MODEL_c27ee39db1414e87884d8cfe0041fb2f",
              "IPY_MODEL_a3414e269e6f4757bce5d4f9db76cdd8",
              "IPY_MODEL_42580776b5214814a9c5a6cee9dd7501"
            ],
            "layout": "IPY_MODEL_bf85648985634a5bab13cc91b41f0e4c"
          }
        },
        "c27ee39db1414e87884d8cfe0041fb2f": {
          "model_module": "@jupyter-widgets/controls",
          "model_name": "HTMLModel",
          "model_module_version": "1.5.0",
          "state": {
            "_dom_classes": [],
            "_model_module": "@jupyter-widgets/controls",
            "_model_module_version": "1.5.0",
            "_model_name": "HTMLModel",
            "_view_count": null,
            "_view_module": "@jupyter-widgets/controls",
            "_view_module_version": "1.5.0",
            "_view_name": "HTMLView",
            "description": "",
            "description_tooltip": null,
            "layout": "IPY_MODEL_6fae1929fbd84aa096b48b6e2f46d7cb",
            "placeholder": "​",
            "style": "IPY_MODEL_2c56dd9a7f6c4d8cb9d7bc28bb8c2034",
            "value": "Downloading: 100%"
          }
        },
        "a3414e269e6f4757bce5d4f9db76cdd8": {
          "model_module": "@jupyter-widgets/controls",
          "model_name": "FloatProgressModel",
          "model_module_version": "1.5.0",
          "state": {
            "_dom_classes": [],
            "_model_module": "@jupyter-widgets/controls",
            "_model_module_version": "1.5.0",
            "_model_name": "FloatProgressModel",
            "_view_count": null,
            "_view_module": "@jupyter-widgets/controls",
            "_view_module_version": "1.5.0",
            "_view_name": "ProgressView",
            "bar_style": "success",
            "description": "",
            "description_tooltip": null,
            "layout": "IPY_MODEL_191479fd3c954aea99c3594fe891c4e6",
            "max": 466062,
            "min": 0,
            "orientation": "horizontal",
            "style": "IPY_MODEL_c0542d2484534dd4b5b36846da800524",
            "value": 466062
          }
        },
        "42580776b5214814a9c5a6cee9dd7501": {
          "model_module": "@jupyter-widgets/controls",
          "model_name": "HTMLModel",
          "model_module_version": "1.5.0",
          "state": {
            "_dom_classes": [],
            "_model_module": "@jupyter-widgets/controls",
            "_model_module_version": "1.5.0",
            "_model_name": "HTMLModel",
            "_view_count": null,
            "_view_module": "@jupyter-widgets/controls",
            "_view_module_version": "1.5.0",
            "_view_name": "HTMLView",
            "description": "",
            "description_tooltip": null,
            "layout": "IPY_MODEL_c20660cd868c464480ccbe0fdc11f5bb",
            "placeholder": "​",
            "style": "IPY_MODEL_475e75a20a194d59b38f082e472d7c3c",
            "value": " 455k/455k [00:00&lt;00:00, 894kB/s]"
          }
        },
        "bf85648985634a5bab13cc91b41f0e4c": {
          "model_module": "@jupyter-widgets/base",
          "model_name": "LayoutModel",
          "model_module_version": "1.2.0",
          "state": {
            "_model_module": "@jupyter-widgets/base",
            "_model_module_version": "1.2.0",
            "_model_name": "LayoutModel",
            "_view_count": null,
            "_view_module": "@jupyter-widgets/base",
            "_view_module_version": "1.2.0",
            "_view_name": "LayoutView",
            "align_content": null,
            "align_items": null,
            "align_self": null,
            "border": null,
            "bottom": null,
            "display": null,
            "flex": null,
            "flex_flow": null,
            "grid_area": null,
            "grid_auto_columns": null,
            "grid_auto_flow": null,
            "grid_auto_rows": null,
            "grid_column": null,
            "grid_gap": null,
            "grid_row": null,
            "grid_template_areas": null,
            "grid_template_columns": null,
            "grid_template_rows": null,
            "height": null,
            "justify_content": null,
            "justify_items": null,
            "left": null,
            "margin": null,
            "max_height": null,
            "max_width": null,
            "min_height": null,
            "min_width": null,
            "object_fit": null,
            "object_position": null,
            "order": null,
            "overflow": null,
            "overflow_x": null,
            "overflow_y": null,
            "padding": null,
            "right": null,
            "top": null,
            "visibility": null,
            "width": null
          }
        },
        "6fae1929fbd84aa096b48b6e2f46d7cb": {
          "model_module": "@jupyter-widgets/base",
          "model_name": "LayoutModel",
          "model_module_version": "1.2.0",
          "state": {
            "_model_module": "@jupyter-widgets/base",
            "_model_module_version": "1.2.0",
            "_model_name": "LayoutModel",
            "_view_count": null,
            "_view_module": "@jupyter-widgets/base",
            "_view_module_version": "1.2.0",
            "_view_name": "LayoutView",
            "align_content": null,
            "align_items": null,
            "align_self": null,
            "border": null,
            "bottom": null,
            "display": null,
            "flex": null,
            "flex_flow": null,
            "grid_area": null,
            "grid_auto_columns": null,
            "grid_auto_flow": null,
            "grid_auto_rows": null,
            "grid_column": null,
            "grid_gap": null,
            "grid_row": null,
            "grid_template_areas": null,
            "grid_template_columns": null,
            "grid_template_rows": null,
            "height": null,
            "justify_content": null,
            "justify_items": null,
            "left": null,
            "margin": null,
            "max_height": null,
            "max_width": null,
            "min_height": null,
            "min_width": null,
            "object_fit": null,
            "object_position": null,
            "order": null,
            "overflow": null,
            "overflow_x": null,
            "overflow_y": null,
            "padding": null,
            "right": null,
            "top": null,
            "visibility": null,
            "width": null
          }
        },
        "2c56dd9a7f6c4d8cb9d7bc28bb8c2034": {
          "model_module": "@jupyter-widgets/controls",
          "model_name": "DescriptionStyleModel",
          "model_module_version": "1.5.0",
          "state": {
            "_model_module": "@jupyter-widgets/controls",
            "_model_module_version": "1.5.0",
            "_model_name": "DescriptionStyleModel",
            "_view_count": null,
            "_view_module": "@jupyter-widgets/base",
            "_view_module_version": "1.2.0",
            "_view_name": "StyleView",
            "description_width": ""
          }
        },
        "191479fd3c954aea99c3594fe891c4e6": {
          "model_module": "@jupyter-widgets/base",
          "model_name": "LayoutModel",
          "model_module_version": "1.2.0",
          "state": {
            "_model_module": "@jupyter-widgets/base",
            "_model_module_version": "1.2.0",
            "_model_name": "LayoutModel",
            "_view_count": null,
            "_view_module": "@jupyter-widgets/base",
            "_view_module_version": "1.2.0",
            "_view_name": "LayoutView",
            "align_content": null,
            "align_items": null,
            "align_self": null,
            "border": null,
            "bottom": null,
            "display": null,
            "flex": null,
            "flex_flow": null,
            "grid_area": null,
            "grid_auto_columns": null,
            "grid_auto_flow": null,
            "grid_auto_rows": null,
            "grid_column": null,
            "grid_gap": null,
            "grid_row": null,
            "grid_template_areas": null,
            "grid_template_columns": null,
            "grid_template_rows": null,
            "height": null,
            "justify_content": null,
            "justify_items": null,
            "left": null,
            "margin": null,
            "max_height": null,
            "max_width": null,
            "min_height": null,
            "min_width": null,
            "object_fit": null,
            "object_position": null,
            "order": null,
            "overflow": null,
            "overflow_x": null,
            "overflow_y": null,
            "padding": null,
            "right": null,
            "top": null,
            "visibility": null,
            "width": null
          }
        },
        "c0542d2484534dd4b5b36846da800524": {
          "model_module": "@jupyter-widgets/controls",
          "model_name": "ProgressStyleModel",
          "model_module_version": "1.5.0",
          "state": {
            "_model_module": "@jupyter-widgets/controls",
            "_model_module_version": "1.5.0",
            "_model_name": "ProgressStyleModel",
            "_view_count": null,
            "_view_module": "@jupyter-widgets/base",
            "_view_module_version": "1.2.0",
            "_view_name": "StyleView",
            "bar_color": null,
            "description_width": ""
          }
        },
        "c20660cd868c464480ccbe0fdc11f5bb": {
          "model_module": "@jupyter-widgets/base",
          "model_name": "LayoutModel",
          "model_module_version": "1.2.0",
          "state": {
            "_model_module": "@jupyter-widgets/base",
            "_model_module_version": "1.2.0",
            "_model_name": "LayoutModel",
            "_view_count": null,
            "_view_module": "@jupyter-widgets/base",
            "_view_module_version": "1.2.0",
            "_view_name": "LayoutView",
            "align_content": null,
            "align_items": null,
            "align_self": null,
            "border": null,
            "bottom": null,
            "display": null,
            "flex": null,
            "flex_flow": null,
            "grid_area": null,
            "grid_auto_columns": null,
            "grid_auto_flow": null,
            "grid_auto_rows": null,
            "grid_column": null,
            "grid_gap": null,
            "grid_row": null,
            "grid_template_areas": null,
            "grid_template_columns": null,
            "grid_template_rows": null,
            "height": null,
            "justify_content": null,
            "justify_items": null,
            "left": null,
            "margin": null,
            "max_height": null,
            "max_width": null,
            "min_height": null,
            "min_width": null,
            "object_fit": null,
            "object_position": null,
            "order": null,
            "overflow": null,
            "overflow_x": null,
            "overflow_y": null,
            "padding": null,
            "right": null,
            "top": null,
            "visibility": null,
            "width": null
          }
        },
        "475e75a20a194d59b38f082e472d7c3c": {
          "model_module": "@jupyter-widgets/controls",
          "model_name": "DescriptionStyleModel",
          "model_module_version": "1.5.0",
          "state": {
            "_model_module": "@jupyter-widgets/controls",
            "_model_module_version": "1.5.0",
            "_model_name": "DescriptionStyleModel",
            "_view_count": null,
            "_view_module": "@jupyter-widgets/base",
            "_view_module_version": "1.2.0",
            "_view_name": "StyleView",
            "description_width": ""
          }
        },
        "484e4b3cfa0948d1b7a7cb2f95427347": {
          "model_module": "@jupyter-widgets/controls",
          "model_name": "HBoxModel",
          "model_module_version": "1.5.0",
          "state": {
            "_dom_classes": [],
            "_model_module": "@jupyter-widgets/controls",
            "_model_module_version": "1.5.0",
            "_model_name": "HBoxModel",
            "_view_count": null,
            "_view_module": "@jupyter-widgets/controls",
            "_view_module_version": "1.5.0",
            "_view_name": "HBoxView",
            "box_style": "",
            "children": [
              "IPY_MODEL_37bbf933974e4250837f9790a9c177ff",
              "IPY_MODEL_544ed082537a49e0bfa0674bb0bc30c3",
              "IPY_MODEL_b27b7c78a59f4d57a162bc2e2c03091d"
            ],
            "layout": "IPY_MODEL_532d364e7e4d44e5a1b1ea7cb74773a6"
          }
        },
        "37bbf933974e4250837f9790a9c177ff": {
          "model_module": "@jupyter-widgets/controls",
          "model_name": "HTMLModel",
          "model_module_version": "1.5.0",
          "state": {
            "_dom_classes": [],
            "_model_module": "@jupyter-widgets/controls",
            "_model_module_version": "1.5.0",
            "_model_name": "HTMLModel",
            "_view_count": null,
            "_view_module": "@jupyter-widgets/controls",
            "_view_module_version": "1.5.0",
            "_view_name": "HTMLView",
            "description": "",
            "description_tooltip": null,
            "layout": "IPY_MODEL_53f4178e0a7c4a90b1d6b29b682c140e",
            "placeholder": "​",
            "style": "IPY_MODEL_41026006f1194c47b8e3340830cc0151",
            "value": "Downloading: 100%"
          }
        },
        "544ed082537a49e0bfa0674bb0bc30c3": {
          "model_module": "@jupyter-widgets/controls",
          "model_name": "FloatProgressModel",
          "model_module_version": "1.5.0",
          "state": {
            "_dom_classes": [],
            "_model_module": "@jupyter-widgets/controls",
            "_model_module_version": "1.5.0",
            "_model_name": "FloatProgressModel",
            "_view_count": null,
            "_view_module": "@jupyter-widgets/controls",
            "_view_module_version": "1.5.0",
            "_view_name": "ProgressView",
            "bar_style": "success",
            "description": "",
            "description_tooltip": null,
            "layout": "IPY_MODEL_dd422d4656e3400f9d9a50bcef74f41a",
            "max": 267967963,
            "min": 0,
            "orientation": "horizontal",
            "style": "IPY_MODEL_6f651e0b8ab04ed6acbe4cd053edfb9a",
            "value": 267967963
          }
        },
        "b27b7c78a59f4d57a162bc2e2c03091d": {
          "model_module": "@jupyter-widgets/controls",
          "model_name": "HTMLModel",
          "model_module_version": "1.5.0",
          "state": {
            "_dom_classes": [],
            "_model_module": "@jupyter-widgets/controls",
            "_model_module_version": "1.5.0",
            "_model_name": "HTMLModel",
            "_view_count": null,
            "_view_module": "@jupyter-widgets/controls",
            "_view_module_version": "1.5.0",
            "_view_name": "HTMLView",
            "description": "",
            "description_tooltip": null,
            "layout": "IPY_MODEL_5adb7fbf6c6b46c1bffdd4960b947bc7",
            "placeholder": "​",
            "style": "IPY_MODEL_31643b4280824a6c8edb4cf70375befe",
            "value": " 256M/256M [00:07&lt;00:00, 37.6MB/s]"
          }
        },
        "532d364e7e4d44e5a1b1ea7cb74773a6": {
          "model_module": "@jupyter-widgets/base",
          "model_name": "LayoutModel",
          "model_module_version": "1.2.0",
          "state": {
            "_model_module": "@jupyter-widgets/base",
            "_model_module_version": "1.2.0",
            "_model_name": "LayoutModel",
            "_view_count": null,
            "_view_module": "@jupyter-widgets/base",
            "_view_module_version": "1.2.0",
            "_view_name": "LayoutView",
            "align_content": null,
            "align_items": null,
            "align_self": null,
            "border": null,
            "bottom": null,
            "display": null,
            "flex": null,
            "flex_flow": null,
            "grid_area": null,
            "grid_auto_columns": null,
            "grid_auto_flow": null,
            "grid_auto_rows": null,
            "grid_column": null,
            "grid_gap": null,
            "grid_row": null,
            "grid_template_areas": null,
            "grid_template_columns": null,
            "grid_template_rows": null,
            "height": null,
            "justify_content": null,
            "justify_items": null,
            "left": null,
            "margin": null,
            "max_height": null,
            "max_width": null,
            "min_height": null,
            "min_width": null,
            "object_fit": null,
            "object_position": null,
            "order": null,
            "overflow": null,
            "overflow_x": null,
            "overflow_y": null,
            "padding": null,
            "right": null,
            "top": null,
            "visibility": null,
            "width": null
          }
        },
        "53f4178e0a7c4a90b1d6b29b682c140e": {
          "model_module": "@jupyter-widgets/base",
          "model_name": "LayoutModel",
          "model_module_version": "1.2.0",
          "state": {
            "_model_module": "@jupyter-widgets/base",
            "_model_module_version": "1.2.0",
            "_model_name": "LayoutModel",
            "_view_count": null,
            "_view_module": "@jupyter-widgets/base",
            "_view_module_version": "1.2.0",
            "_view_name": "LayoutView",
            "align_content": null,
            "align_items": null,
            "align_self": null,
            "border": null,
            "bottom": null,
            "display": null,
            "flex": null,
            "flex_flow": null,
            "grid_area": null,
            "grid_auto_columns": null,
            "grid_auto_flow": null,
            "grid_auto_rows": null,
            "grid_column": null,
            "grid_gap": null,
            "grid_row": null,
            "grid_template_areas": null,
            "grid_template_columns": null,
            "grid_template_rows": null,
            "height": null,
            "justify_content": null,
            "justify_items": null,
            "left": null,
            "margin": null,
            "max_height": null,
            "max_width": null,
            "min_height": null,
            "min_width": null,
            "object_fit": null,
            "object_position": null,
            "order": null,
            "overflow": null,
            "overflow_x": null,
            "overflow_y": null,
            "padding": null,
            "right": null,
            "top": null,
            "visibility": null,
            "width": null
          }
        },
        "41026006f1194c47b8e3340830cc0151": {
          "model_module": "@jupyter-widgets/controls",
          "model_name": "DescriptionStyleModel",
          "model_module_version": "1.5.0",
          "state": {
            "_model_module": "@jupyter-widgets/controls",
            "_model_module_version": "1.5.0",
            "_model_name": "DescriptionStyleModel",
            "_view_count": null,
            "_view_module": "@jupyter-widgets/base",
            "_view_module_version": "1.2.0",
            "_view_name": "StyleView",
            "description_width": ""
          }
        },
        "dd422d4656e3400f9d9a50bcef74f41a": {
          "model_module": "@jupyter-widgets/base",
          "model_name": "LayoutModel",
          "model_module_version": "1.2.0",
          "state": {
            "_model_module": "@jupyter-widgets/base",
            "_model_module_version": "1.2.0",
            "_model_name": "LayoutModel",
            "_view_count": null,
            "_view_module": "@jupyter-widgets/base",
            "_view_module_version": "1.2.0",
            "_view_name": "LayoutView",
            "align_content": null,
            "align_items": null,
            "align_self": null,
            "border": null,
            "bottom": null,
            "display": null,
            "flex": null,
            "flex_flow": null,
            "grid_area": null,
            "grid_auto_columns": null,
            "grid_auto_flow": null,
            "grid_auto_rows": null,
            "grid_column": null,
            "grid_gap": null,
            "grid_row": null,
            "grid_template_areas": null,
            "grid_template_columns": null,
            "grid_template_rows": null,
            "height": null,
            "justify_content": null,
            "justify_items": null,
            "left": null,
            "margin": null,
            "max_height": null,
            "max_width": null,
            "min_height": null,
            "min_width": null,
            "object_fit": null,
            "object_position": null,
            "order": null,
            "overflow": null,
            "overflow_x": null,
            "overflow_y": null,
            "padding": null,
            "right": null,
            "top": null,
            "visibility": null,
            "width": null
          }
        },
        "6f651e0b8ab04ed6acbe4cd053edfb9a": {
          "model_module": "@jupyter-widgets/controls",
          "model_name": "ProgressStyleModel",
          "model_module_version": "1.5.0",
          "state": {
            "_model_module": "@jupyter-widgets/controls",
            "_model_module_version": "1.5.0",
            "_model_name": "ProgressStyleModel",
            "_view_count": null,
            "_view_module": "@jupyter-widgets/base",
            "_view_module_version": "1.2.0",
            "_view_name": "StyleView",
            "bar_color": null,
            "description_width": ""
          }
        },
        "5adb7fbf6c6b46c1bffdd4960b947bc7": {
          "model_module": "@jupyter-widgets/base",
          "model_name": "LayoutModel",
          "model_module_version": "1.2.0",
          "state": {
            "_model_module": "@jupyter-widgets/base",
            "_model_module_version": "1.2.0",
            "_model_name": "LayoutModel",
            "_view_count": null,
            "_view_module": "@jupyter-widgets/base",
            "_view_module_version": "1.2.0",
            "_view_name": "LayoutView",
            "align_content": null,
            "align_items": null,
            "align_self": null,
            "border": null,
            "bottom": null,
            "display": null,
            "flex": null,
            "flex_flow": null,
            "grid_area": null,
            "grid_auto_columns": null,
            "grid_auto_flow": null,
            "grid_auto_rows": null,
            "grid_column": null,
            "grid_gap": null,
            "grid_row": null,
            "grid_template_areas": null,
            "grid_template_columns": null,
            "grid_template_rows": null,
            "height": null,
            "justify_content": null,
            "justify_items": null,
            "left": null,
            "margin": null,
            "max_height": null,
            "max_width": null,
            "min_height": null,
            "min_width": null,
            "object_fit": null,
            "object_position": null,
            "order": null,
            "overflow": null,
            "overflow_x": null,
            "overflow_y": null,
            "padding": null,
            "right": null,
            "top": null,
            "visibility": null,
            "width": null
          }
        },
        "31643b4280824a6c8edb4cf70375befe": {
          "model_module": "@jupyter-widgets/controls",
          "model_name": "DescriptionStyleModel",
          "model_module_version": "1.5.0",
          "state": {
            "_model_module": "@jupyter-widgets/controls",
            "_model_module_version": "1.5.0",
            "_model_name": "DescriptionStyleModel",
            "_view_count": null,
            "_view_module": "@jupyter-widgets/base",
            "_view_module_version": "1.2.0",
            "_view_name": "StyleView",
            "description_width": ""
          }
        }
      }
    }
  },
  "cells": [
    {
      "cell_type": "markdown",
      "metadata": {
        "id": "view-in-github",
        "colab_type": "text"
      },
      "source": [
        "<a href=\"https://colab.research.google.com/github/manaribraheem/Bert_Model/blob/main/BERT_Model_14_6_2022_By_Manar_and_Anj.ipynb\" target=\"_parent\"><img src=\"https://colab.research.google.com/assets/colab-badge.svg\" alt=\"Open In Colab\"/></a>"
      ]
    },
    {
      "cell_type": "markdown",
      "source": [
        "# BERT MODEL"
      ],
      "metadata": {
        "id": "bXgwHhEVcISr"
      }
    },
    {
      "cell_type": "code",
      "source": [
        "!pip3 install -q transformers "
      ],
      "metadata": {
        "id": "0S8xxFnqIy-J"
      },
      "execution_count": null,
      "outputs": []
    },
    {
      "cell_type": "code",
      "source": [
        "!transformers -version"
      ],
      "metadata": {
        "colab": {
          "base_uri": "https://localhost:8080/"
        },
        "id": "TbA4Yt35oNjK",
        "outputId": "8d2e330f-cf8a-44f1-e100-4640a5ed630e"
      },
      "execution_count": null,
      "outputs": [
        {
          "output_type": "stream",
          "name": "stdout",
          "text": [
            "/bin/bash: transformers -version: command not found\n"
          ]
        }
      ]
    },
    {
      "cell_type": "code",
      "source": [
        "import torch\n",
        "from torch.utils.data import TensorDataset, DataLoader, RandomSampler, SequentialSampler\n",
        "from keras.preprocessing.sequence import pad_sequences\n",
        "from sklearn.model_selection import train_test_split\n",
        "from transformers import BertTokenizer, BertConfig\n",
        "from transformers import AdamW\n",
        "from tqdm import tqdm, trange\n",
        "import pandas as pd\n",
        "import io\n",
        "import numpy as np\n",
        "import matplotlib.pyplot as plt\n",
        "import os\n",
        "from pathlib import Path\n",
        "import torch\n",
        "from transformers import DistilBertForSequenceClassification, Trainer, TrainingArguments\n",
        "from transformers import DistilBertTokenizerFast, AutoTokenizer\n",
        "from sklearn.model_selection import train_test_split"
      ],
      "metadata": {
        "id": "SLRG8E7i6kMc"
      },
      "execution_count": null,
      "outputs": []
    },
    {
      "cell_type": "code",
      "source": [
        "from google.colab import drive\n",
        "drive.mount(\"/content/drive/\")"
      ],
      "metadata": {
        "id": "guJ7CmLn64eA",
        "colab": {
          "base_uri": "https://localhost:8080/"
        },
        "outputId": "e282969f-9083-4f50-dbe5-82e2a97a8ac1"
      },
      "execution_count": null,
      "outputs": [
        {
          "output_type": "stream",
          "name": "stdout",
          "text": [
            "Mounted at /content/drive/\n"
          ]
        }
      ]
    },
    {
      "cell_type": "markdown",
      "source": [
        "##### 1. Data"
      ],
      "metadata": {
        "id": "TzvEBD_G0xr_"
      }
    },
    {
      "cell_type": "code",
      "source": [
        "# custom dataset\n",
        "liberta_leasing_dataset = pd.read_excel(\"/content/drive/MyDrive/Bert_classification/Bert_data.xlsx\")"
      ],
      "metadata": {
        "id": "DiXdpioahxHf",
        "colab": {
          "base_uri": "https://localhost:8080/"
        },
        "outputId": "647b17a5-d3cb-4d7a-a043-f9e13808e9d2"
      },
      "execution_count": null,
      "outputs": [
        {
          "output_type": "stream",
          "name": "stderr",
          "text": [
            "/usr/local/lib/python3.7/dist-packages/openpyxl/worksheet/_reader.py:312: UserWarning: Data Validation extension is not supported and will be removed\n",
            "  warn(msg)\n"
          ]
        }
      ]
    },
    {
      "cell_type": "code",
      "source": [
        "liberta_leasing_dataset"
      ],
      "metadata": {
        "colab": {
          "base_uri": "https://localhost:8080/",
          "height": 502
        },
        "id": "_wGXxWl2NudP",
        "outputId": "9b07e3c7-4734-4849-d64f-9265b539f1a2"
      },
      "execution_count": null,
      "outputs": [
        {
          "output_type": "execute_result",
          "data": {
            "text/plain": [
              "                                                BANK_ID  \\\n",
              "0     Luxembourg-HSBC-bank-proof-of-address-statemen...   \n",
              "1     Hungary-MKB-Bank-statement-template-in-Word-fo...   \n",
              "2     Indonesia-Bank-Negara-Indonesia-BNI-proof-of-a...   \n",
              "3     Indonesia-Bank-Negara-Indonesia-BNI-proof-of-a...   \n",
              "4     Indonesia-Bank-Negara-Indonesia-BNI-proof-of-a...   \n",
              "...                                                 ...   \n",
              "2027                           First_City_Monument_Bank   \n",
              "2028                           First_City_Monument_Bank   \n",
              "2029                           First_City_Monument_Bank   \n",
              "2030                           First_City_Monument_Bank   \n",
              "2031                           First_City_Monument_Bank   \n",
              "\n",
              "                                 DESCRIPTION PREDICTION  \n",
              "0                             MR SAMPLE RENT    UNKNOWN  \n",
              "1                             ATM Widndrawal       CASH  \n",
              "2                             ATM Withdrawal       CASH  \n",
              "3                             ATM Withdrawal       CASH  \n",
              "4                             ATM Withdrawal       CASH  \n",
              "...                                      ...        ...  \n",
              "2027   web:App: Loan Repayment, To First Ban       LOAN  \n",
              "2028                      KUNSMANN NIG. LTD.   TRANSFER  \n",
              "2029   web:App: To ACCESS BANK PLC (DIAMOND)   TRANSFER  \n",
              "2030   web:App: To GTBank Plc ANOZIE IKECHUK   TRANSFER  \n",
              "2031  web:App: purchase of umbrella for 2000    PAYMENT  \n",
              "\n",
              "[2032 rows x 3 columns]"
            ],
            "text/html": [
              "\n",
              "  <div id=\"df-b4a9a2fe-61e0-442a-a261-fd9a02f083ab\">\n",
              "    <div class=\"colab-df-container\">\n",
              "      <div>\n",
              "<style scoped>\n",
              "    .dataframe tbody tr th:only-of-type {\n",
              "        vertical-align: middle;\n",
              "    }\n",
              "\n",
              "    .dataframe tbody tr th {\n",
              "        vertical-align: top;\n",
              "    }\n",
              "\n",
              "    .dataframe thead th {\n",
              "        text-align: right;\n",
              "    }\n",
              "</style>\n",
              "<table border=\"1\" class=\"dataframe\">\n",
              "  <thead>\n",
              "    <tr style=\"text-align: right;\">\n",
              "      <th></th>\n",
              "      <th>BANK_ID</th>\n",
              "      <th>DESCRIPTION</th>\n",
              "      <th>PREDICTION</th>\n",
              "    </tr>\n",
              "  </thead>\n",
              "  <tbody>\n",
              "    <tr>\n",
              "      <th>0</th>\n",
              "      <td>Luxembourg-HSBC-bank-proof-of-address-statemen...</td>\n",
              "      <td>MR SAMPLE RENT</td>\n",
              "      <td>UNKNOWN</td>\n",
              "    </tr>\n",
              "    <tr>\n",
              "      <th>1</th>\n",
              "      <td>Hungary-MKB-Bank-statement-template-in-Word-fo...</td>\n",
              "      <td>ATM Widndrawal</td>\n",
              "      <td>CASH</td>\n",
              "    </tr>\n",
              "    <tr>\n",
              "      <th>2</th>\n",
              "      <td>Indonesia-Bank-Negara-Indonesia-BNI-proof-of-a...</td>\n",
              "      <td>ATM Withdrawal</td>\n",
              "      <td>CASH</td>\n",
              "    </tr>\n",
              "    <tr>\n",
              "      <th>3</th>\n",
              "      <td>Indonesia-Bank-Negara-Indonesia-BNI-proof-of-a...</td>\n",
              "      <td>ATM Withdrawal</td>\n",
              "      <td>CASH</td>\n",
              "    </tr>\n",
              "    <tr>\n",
              "      <th>4</th>\n",
              "      <td>Indonesia-Bank-Negara-Indonesia-BNI-proof-of-a...</td>\n",
              "      <td>ATM Withdrawal</td>\n",
              "      <td>CASH</td>\n",
              "    </tr>\n",
              "    <tr>\n",
              "      <th>...</th>\n",
              "      <td>...</td>\n",
              "      <td>...</td>\n",
              "      <td>...</td>\n",
              "    </tr>\n",
              "    <tr>\n",
              "      <th>2027</th>\n",
              "      <td>First_City_Monument_Bank</td>\n",
              "      <td>web:App: Loan Repayment, To First Ban</td>\n",
              "      <td>LOAN</td>\n",
              "    </tr>\n",
              "    <tr>\n",
              "      <th>2028</th>\n",
              "      <td>First_City_Monument_Bank</td>\n",
              "      <td>KUNSMANN NIG. LTD.</td>\n",
              "      <td>TRANSFER</td>\n",
              "    </tr>\n",
              "    <tr>\n",
              "      <th>2029</th>\n",
              "      <td>First_City_Monument_Bank</td>\n",
              "      <td>web:App: To ACCESS BANK PLC (DIAMOND)</td>\n",
              "      <td>TRANSFER</td>\n",
              "    </tr>\n",
              "    <tr>\n",
              "      <th>2030</th>\n",
              "      <td>First_City_Monument_Bank</td>\n",
              "      <td>web:App: To GTBank Plc ANOZIE IKECHUK</td>\n",
              "      <td>TRANSFER</td>\n",
              "    </tr>\n",
              "    <tr>\n",
              "      <th>2031</th>\n",
              "      <td>First_City_Monument_Bank</td>\n",
              "      <td>web:App: purchase of umbrella for 2000</td>\n",
              "      <td>PAYMENT</td>\n",
              "    </tr>\n",
              "  </tbody>\n",
              "</table>\n",
              "<p>2032 rows × 3 columns</p>\n",
              "</div>\n",
              "      <button class=\"colab-df-convert\" onclick=\"convertToInteractive('df-b4a9a2fe-61e0-442a-a261-fd9a02f083ab')\"\n",
              "              title=\"Convert this dataframe to an interactive table.\"\n",
              "              style=\"display:none;\">\n",
              "        \n",
              "  <svg xmlns=\"http://www.w3.org/2000/svg\" height=\"24px\"viewBox=\"0 0 24 24\"\n",
              "       width=\"24px\">\n",
              "    <path d=\"M0 0h24v24H0V0z\" fill=\"none\"/>\n",
              "    <path d=\"M18.56 5.44l.94 2.06.94-2.06 2.06-.94-2.06-.94-.94-2.06-.94 2.06-2.06.94zm-11 1L8.5 8.5l.94-2.06 2.06-.94-2.06-.94L8.5 2.5l-.94 2.06-2.06.94zm10 10l.94 2.06.94-2.06 2.06-.94-2.06-.94-.94-2.06-.94 2.06-2.06.94z\"/><path d=\"M17.41 7.96l-1.37-1.37c-.4-.4-.92-.59-1.43-.59-.52 0-1.04.2-1.43.59L10.3 9.45l-7.72 7.72c-.78.78-.78 2.05 0 2.83L4 21.41c.39.39.9.59 1.41.59.51 0 1.02-.2 1.41-.59l7.78-7.78 2.81-2.81c.8-.78.8-2.07 0-2.86zM5.41 20L4 18.59l7.72-7.72 1.47 1.35L5.41 20z\"/>\n",
              "  </svg>\n",
              "      </button>\n",
              "      \n",
              "  <style>\n",
              "    .colab-df-container {\n",
              "      display:flex;\n",
              "      flex-wrap:wrap;\n",
              "      gap: 12px;\n",
              "    }\n",
              "\n",
              "    .colab-df-convert {\n",
              "      background-color: #E8F0FE;\n",
              "      border: none;\n",
              "      border-radius: 50%;\n",
              "      cursor: pointer;\n",
              "      display: none;\n",
              "      fill: #1967D2;\n",
              "      height: 32px;\n",
              "      padding: 0 0 0 0;\n",
              "      width: 32px;\n",
              "    }\n",
              "\n",
              "    .colab-df-convert:hover {\n",
              "      background-color: #E2EBFA;\n",
              "      box-shadow: 0px 1px 2px rgba(60, 64, 67, 0.3), 0px 1px 3px 1px rgba(60, 64, 67, 0.15);\n",
              "      fill: #174EA6;\n",
              "    }\n",
              "\n",
              "    [theme=dark] .colab-df-convert {\n",
              "      background-color: #3B4455;\n",
              "      fill: #D2E3FC;\n",
              "    }\n",
              "\n",
              "    [theme=dark] .colab-df-convert:hover {\n",
              "      background-color: #434B5C;\n",
              "      box-shadow: 0px 1px 3px 1px rgba(0, 0, 0, 0.15);\n",
              "      filter: drop-shadow(0px 1px 2px rgba(0, 0, 0, 0.3));\n",
              "      fill: #FFFFFF;\n",
              "    }\n",
              "  </style>\n",
              "\n",
              "      <script>\n",
              "        const buttonEl =\n",
              "          document.querySelector('#df-b4a9a2fe-61e0-442a-a261-fd9a02f083ab button.colab-df-convert');\n",
              "        buttonEl.style.display =\n",
              "          google.colab.kernel.accessAllowed ? 'block' : 'none';\n",
              "\n",
              "        async function convertToInteractive(key) {\n",
              "          const element = document.querySelector('#df-b4a9a2fe-61e0-442a-a261-fd9a02f083ab');\n",
              "          const dataTable =\n",
              "            await google.colab.kernel.invokeFunction('convertToInteractive',\n",
              "                                                     [key], {});\n",
              "          if (!dataTable) return;\n",
              "\n",
              "          const docLinkHtml = 'Like what you see? Visit the ' +\n",
              "            '<a target=\"_blank\" href=https://colab.research.google.com/notebooks/data_table.ipynb>data table notebook</a>'\n",
              "            + ' to learn more about interactive tables.';\n",
              "          element.innerHTML = '';\n",
              "          dataTable['output_type'] = 'display_data';\n",
              "          await google.colab.output.renderOutput(dataTable, element);\n",
              "          const docLink = document.createElement('div');\n",
              "          docLink.innerHTML = docLinkHtml;\n",
              "          element.appendChild(docLink);\n",
              "        }\n",
              "      </script>\n",
              "    </div>\n",
              "  </div>\n",
              "  "
            ]
          },
          "metadata": {},
          "execution_count": 7
        }
      ]
    },
    {
      "cell_type": "code",
      "source": [
        "liberta_leasing_dataset['PREDICTION'].value_counts()"
      ],
      "metadata": {
        "colab": {
          "base_uri": "https://localhost:8080/"
        },
        "id": "sKMYviORN6Si",
        "outputId": "c193cd24-28c3-49ec-c885-569a4ce3e41f"
      },
      "execution_count": null,
      "outputs": [
        {
          "output_type": "execute_result",
          "data": {
            "text/plain": [
              "CHARGES     552\n",
              "TRANSFER    480\n",
              "PURCHASE    423\n",
              "CASH        184\n",
              "SALARY      108\n",
              "PAYMENT     102\n",
              "LOAN         75\n",
              "REVERSAL     58\n",
              "UNKNOWN      39\n",
              "CHEQUE       11\n",
              "Name: PREDICTION, dtype: int64"
            ]
          },
          "metadata": {},
          "execution_count": 8
        }
      ]
    },
    {
      "cell_type": "code",
      "source": [
        "liberta_leasing_dataset.isnull().sum()"
      ],
      "metadata": {
        "colab": {
          "base_uri": "https://localhost:8080/"
        },
        "id": "PwK2W0s-OEoP",
        "outputId": "4e0de13f-bf80-4e4d-8a6a-0b9b859f7022"
      },
      "execution_count": null,
      "outputs": [
        {
          "output_type": "execute_result",
          "data": {
            "text/plain": [
              "BANK_ID        0\n",
              "DESCRIPTION    0\n",
              "PREDICTION     0\n",
              "dtype: int64"
            ]
          },
          "metadata": {},
          "execution_count": 9
        }
      ]
    },
    {
      "cell_type": "code",
      "source": [
        "#  list all present columns \n",
        "liberta_leasing_dataset.columns"
      ],
      "metadata": {
        "colab": {
          "base_uri": "https://localhost:8080/"
        },
        "id": "cQvDLKVAiJqS",
        "outputId": "86de7b10-3673-4dc2-8834-8b82bfceaedb"
      },
      "execution_count": null,
      "outputs": [
        {
          "output_type": "execute_result",
          "data": {
            "text/plain": [
              "Index(['BANK_ID', 'DESCRIPTION', 'PREDICTION'], dtype='object')"
            ]
          },
          "metadata": {},
          "execution_count": 10
        }
      ]
    },
    {
      "cell_type": "code",
      "source": [
        "# limit the dataset to columns of interest (text + label)\n",
        "ll_dataset = liberta_leasing_dataset[[\"DESCRIPTION\", \"PREDICTION\"]].astype('str').reset_index(drop=True)"
      ],
      "metadata": {
        "id": "W-Kkf-bPh6Ym"
      },
      "execution_count": null,
      "outputs": []
    },
    {
      "cell_type": "code",
      "source": [
        "# You must map the classes (text) to one hot encoded\n",
        "ll_dataset[\"PREDICTION\"] = ll_dataset[\"PREDICTION\"].map({'TRANSFER':0, \n",
        "                              'PURCHASE':1, \n",
        "                              'LOAN':2, \n",
        "                              'CHARGES':3, \n",
        "                              'SALARY':4, \n",
        "                              'CASH':5,\n",
        "                              'REVERSAL':6,\n",
        "                              'CHEQUE':7,\n",
        "                              'PAYMENT':8,\n",
        "                              'UNKNOWN':9})\n"
      ],
      "metadata": {
        "id": "Wu-HrN3Ulnuc"
      },
      "execution_count": null,
      "outputs": []
    },
    {
      "cell_type": "code",
      "source": [
        "ll_dataset['PREDICTION'].value_counts()"
      ],
      "metadata": {
        "colab": {
          "base_uri": "https://localhost:8080/"
        },
        "id": "9wl_Sna4_M1-",
        "outputId": "0b6daa51-845d-4eb6-f1c7-1176318da951"
      },
      "execution_count": null,
      "outputs": [
        {
          "output_type": "execute_result",
          "data": {
            "text/plain": [
              "3    552\n",
              "0    480\n",
              "1    423\n",
              "5    184\n",
              "4    108\n",
              "8    102\n",
              "2     75\n",
              "6     58\n",
              "9     39\n",
              "7     11\n",
              "Name: PREDICTION, dtype: int64"
            ]
          },
          "metadata": {},
          "execution_count": 13
        }
      ]
    },
    {
      "cell_type": "markdown",
      "source": [
        "###### 2. Augmentation"
      ],
      "metadata": {
        "id": "R-u4D0fo_X3I"
      }
    },
    {
      "cell_type": "code",
      "source": [
        "!pip install nlpaug"
      ],
      "metadata": {
        "colab": {
          "base_uri": "https://localhost:8080/"
        },
        "id": "q09VgYX6_m01",
        "outputId": "5478f75c-3f09-4e15-b24e-8bef9952b6ab"
      },
      "execution_count": null,
      "outputs": [
        {
          "output_type": "stream",
          "name": "stdout",
          "text": [
            "Looking in indexes: https://pypi.org/simple, https://us-python.pkg.dev/colab-wheels/public/simple/\n",
            "Collecting nlpaug\n",
            "  Downloading nlpaug-1.1.10-py3-none-any.whl (410 kB)\n",
            "\u001b[K     |████████████████████████████████| 410 kB 8.3 MB/s \n",
            "\u001b[?25hRequirement already satisfied: requests>=2.22.0 in /usr/local/lib/python3.7/dist-packages (from nlpaug) (2.23.0)\n",
            "Requirement already satisfied: pandas>=1.2.0 in /usr/local/lib/python3.7/dist-packages (from nlpaug) (1.3.5)\n",
            "Requirement already satisfied: numpy>=1.16.2 in /usr/local/lib/python3.7/dist-packages (from nlpaug) (1.21.6)\n",
            "Requirement already satisfied: pytz>=2017.3 in /usr/local/lib/python3.7/dist-packages (from pandas>=1.2.0->nlpaug) (2022.1)\n",
            "Requirement already satisfied: python-dateutil>=2.7.3 in /usr/local/lib/python3.7/dist-packages (from pandas>=1.2.0->nlpaug) (2.8.2)\n",
            "Requirement already satisfied: six>=1.5 in /usr/local/lib/python3.7/dist-packages (from python-dateutil>=2.7.3->pandas>=1.2.0->nlpaug) (1.15.0)\n",
            "Requirement already satisfied: certifi>=2017.4.17 in /usr/local/lib/python3.7/dist-packages (from requests>=2.22.0->nlpaug) (2022.5.18.1)\n",
            "Requirement already satisfied: idna<3,>=2.5 in /usr/local/lib/python3.7/dist-packages (from requests>=2.22.0->nlpaug) (2.10)\n",
            "Requirement already satisfied: chardet<4,>=3.0.2 in /usr/local/lib/python3.7/dist-packages (from requests>=2.22.0->nlpaug) (3.0.4)\n",
            "Requirement already satisfied: urllib3!=1.25.0,!=1.25.1,<1.26,>=1.21.1 in /usr/local/lib/python3.7/dist-packages (from requests>=2.22.0->nlpaug) (1.24.3)\n",
            "Installing collected packages: nlpaug\n",
            "Successfully installed nlpaug-1.1.10\n"
          ]
        }
      ]
    },
    {
      "cell_type": "code",
      "source": [
        "import nlpaug.augmenter.word.context_word_embs as aug"
      ],
      "metadata": {
        "id": "J7KP-9RQ_sf3"
      },
      "execution_count": null,
      "outputs": []
    },
    {
      "cell_type": "code",
      "source": [
        "from sklearn.utils import shuffle"
      ],
      "metadata": {
        "id": "ATTj3PuE_zNF"
      },
      "execution_count": null,
      "outputs": []
    },
    {
      "cell_type": "code",
      "source": [
        "augmenter = aug.ContextualWordEmbsAug(model_path='bert-base-uncased', action=\"insert\")"
      ],
      "metadata": {
        "id": "7rGaTsYtA2pe",
        "colab": {
          "base_uri": "https://localhost:8080/",
          "height": 177,
          "referenced_widgets": [
            "e84082c17ac14dbf9d80587846167f42",
            "f94d4a0f5e034738b8195d789ffdbe91",
            "babe4fc6aebd494aa37c429803325c12",
            "21338ec1a3ba435db1e5d5907025c980",
            "10cc5edd3aec4263b3d6827507361df4",
            "d5f1940b3e0c41019edab3199fd7ce90",
            "d22981b658054127885efec432a4dd5b",
            "a731427dffb9468bbf6b84d0ca659c11",
            "a39548ab6288476d84b3cfbb210b8fc0",
            "b6eb83ee43394c37bb298a9556fb9066",
            "6225b9dc31fa49bc89d23c4e6e72bb3e",
            "d309b9d1bc964da5bec42c277cb18aa9",
            "1a52ae39e7ca4337b223a60e92b98017",
            "da5721099fa445d9a7afe18b19ea4f65",
            "abcca6b7fc9247acac539d2bbc2b66c3",
            "ac19a2b01cb6486099ec4c9bb7ddd924",
            "305b96eb465a4fd3bbccf0bc9d190506",
            "70aa0b1f7c7646a7845c5063ee87f53c",
            "e77b5d040a8042219e3527bff1aa891a",
            "327145fe539545a8b1f287e9cc86d952",
            "cfd7d2ae2b5d4cd2bbf2acfbe6dac5b7",
            "a390ae0213e24266ae119eaad788dfd7",
            "d52a8c6dee9e4886bf8c561a4a83501c",
            "7e5b2186c9bb454db761f3e7b1ed5651",
            "02bab8edff154ce487ab1a1ae490da2c",
            "5bb2c154587c43dc980b83ff999ce50d",
            "7d5338b63f0c4dc28eaa60b66d3c947a",
            "c9b7bdaf20df4e57b115172a0b979ce2",
            "53258d7942af47678a3741e8b26f4c3d",
            "9f07c50238dc48468f5f2f822f1b78f8",
            "922ecdd9454542f8b03798fe5499077c",
            "6f4528fd54854766867a77cf4a497779",
            "3e2f88571eb141cf9149e3ab4f186ed1",
            "72567b109f604c348fc8dd2da9e47a48",
            "85235557c74b49588e5064aa04bad3ca",
            "76b39fbeb608442f97e50d0ffeeab278",
            "0625945edd6e45b895dc6e0bb4e173e0",
            "315a075e59c6435f82dfb307ce93af6f",
            "58661afc602e4acab64a716ecc6dd415",
            "444d680223b34e8e908fbf4b52a7b947",
            "7f85cf4c146b4658bc134af30c0517a6",
            "1a20f086549b45f6bc8e30a86f5fb7e0",
            "6cf33aeb6223431986368271a1dbd454",
            "fbb1b355aab54f64b7586f62f3bc5e6f",
            "e2249927adcd4f36b2a45dec4f51ed93",
            "2cfc3574f23f4746ab20fbac7dcf4a2c",
            "222d777d56d546ffb8500e4d33fb1594",
            "b24a5b90e7ca45118fc264e74f803be7",
            "1bb9a8d6fb634a2c93fdb436607c4225",
            "f25c28522af745f7afed581002c291fd",
            "22e0b72b5c0e44b4ac4e2fa1683f6966",
            "82452f46b36d449994a8e2d3cfce4f17",
            "cd143b09b03a48d49f18b37fc116eb42",
            "b13b26d59f794b209141d1489f8ca475",
            "df0ec3c1e8874c468cc1a22a8851ca7e"
          ]
        },
        "outputId": "772e703f-a005-4a25-aaa1-54308493a2b5"
      },
      "execution_count": null,
      "outputs": [
        {
          "output_type": "display_data",
          "data": {
            "text/plain": [
              "Downloading:   0%|          | 0.00/28.0 [00:00<?, ?B/s]"
            ],
            "application/vnd.jupyter.widget-view+json": {
              "version_major": 2,
              "version_minor": 0,
              "model_id": "e84082c17ac14dbf9d80587846167f42"
            }
          },
          "metadata": {}
        },
        {
          "output_type": "display_data",
          "data": {
            "text/plain": [
              "Downloading:   0%|          | 0.00/570 [00:00<?, ?B/s]"
            ],
            "application/vnd.jupyter.widget-view+json": {
              "version_major": 2,
              "version_minor": 0,
              "model_id": "d309b9d1bc964da5bec42c277cb18aa9"
            }
          },
          "metadata": {}
        },
        {
          "output_type": "display_data",
          "data": {
            "text/plain": [
              "Downloading:   0%|          | 0.00/226k [00:00<?, ?B/s]"
            ],
            "application/vnd.jupyter.widget-view+json": {
              "version_major": 2,
              "version_minor": 0,
              "model_id": "d52a8c6dee9e4886bf8c561a4a83501c"
            }
          },
          "metadata": {}
        },
        {
          "output_type": "display_data",
          "data": {
            "text/plain": [
              "Downloading:   0%|          | 0.00/455k [00:00<?, ?B/s]"
            ],
            "application/vnd.jupyter.widget-view+json": {
              "version_major": 2,
              "version_minor": 0,
              "model_id": "72567b109f604c348fc8dd2da9e47a48"
            }
          },
          "metadata": {}
        },
        {
          "output_type": "display_data",
          "data": {
            "text/plain": [
              "Downloading:   0%|          | 0.00/420M [00:00<?, ?B/s]"
            ],
            "application/vnd.jupyter.widget-view+json": {
              "version_major": 2,
              "version_minor": 0,
              "model_id": "e2249927adcd4f36b2a45dec4f51ed93"
            }
          },
          "metadata": {}
        }
      ]
    },
    {
      "cell_type": "code",
      "source": [
        "def augmentMyData2(df, augmenter, repetitions=1, samples=200):\n",
        "    augmented_texts = []\n",
        "    # select only the minority class samples\n",
        "    spam_df = df[df['PREDICTION'] == 2].reset_index(drop=True) # removes unecessary index column\n",
        "    for i in tqdm(np.random.randint(0, len(spam_df), samples)):\n",
        "        # generating 'n_samples' augmented texts\n",
        "        for _ in range(repetitions):\n",
        "            augmented_text = augmenter.augment(spam_df['DESCRIPTION'].iloc[i])\n",
        "            augmented_texts.append(augmented_text)\n",
        "    \n",
        "    data = {\n",
        "        'PREDICTION': 2,\n",
        "        'DESCRIPTION': augmented_texts\n",
        "    }\n",
        "    aug_df = pd.DataFrame(data)\n",
        "    df = shuffle(df.append(aug_df).reset_index(drop=True))\n",
        "    return df"
      ],
      "metadata": {
        "id": "Tuhx3ROb_1R1"
      },
      "execution_count": null,
      "outputs": []
    },
    {
      "cell_type": "code",
      "source": [
        "aug_df1 = augmentMyData2(ll_dataset, augmenter, samples=200)"
      ],
      "metadata": {
        "colab": {
          "base_uri": "https://localhost:8080/"
        },
        "id": "yZGkGbAJEJS7",
        "outputId": "b6588776-5520-4304-9bb5-e6350924cddb"
      },
      "execution_count": null,
      "outputs": [
        {
          "output_type": "stream",
          "name": "stderr",
          "text": [
            "100%|██████████| 200/200 [02:58<00:00,  1.12it/s]\n"
          ]
        }
      ]
    },
    {
      "cell_type": "code",
      "source": [
        "def augmentMyData6(df, augmenter, repetitions=1, samples=200):\n",
        "    augmented_texts = []\n",
        "    # select only the minority class samples\n",
        "    spam_df = df[df['PREDICTION'] == 6].reset_index(drop=True) # removes unecessary index column\n",
        "    for i in tqdm(np.random.randint(0, len(spam_df), samples)):\n",
        "        # generating 'n_samples' augmented texts\n",
        "        for _ in range(repetitions):\n",
        "            augmented_text = augmenter.augment(spam_df['DESCRIPTION'].iloc[i])\n",
        "            augmented_texts.append(augmented_text)\n",
        "    \n",
        "    data = {\n",
        "        'PREDICTION': 6,\n",
        "        'DESCRIPTION': augmented_texts\n",
        "    }\n",
        "    aug_df = pd.DataFrame(data)\n",
        "    df = shuffle(df.append(aug_df).reset_index(drop=True))\n",
        "    return df"
      ],
      "metadata": {
        "id": "K2BeJVuM_948"
      },
      "execution_count": null,
      "outputs": []
    },
    {
      "cell_type": "code",
      "source": [
        "aug_df2 = augmentMyData6(aug_df1, augmenter, samples=200)"
      ],
      "metadata": {
        "colab": {
          "base_uri": "https://localhost:8080/"
        },
        "id": "-gF-V2bTFBd0",
        "outputId": "a9185699-c4c2-4c00-d9f3-0fa775922740"
      },
      "execution_count": null,
      "outputs": [
        {
          "output_type": "stream",
          "name": "stderr",
          "text": [
            "100%|██████████| 200/200 [01:18<00:00,  2.54it/s]\n"
          ]
        }
      ]
    },
    {
      "cell_type": "code",
      "source": [
        "def augmentMyData9(df, augmenter, repetitions=1, samples=200):\n",
        "    augmented_texts = []\n",
        "    # select only the minority class samples\n",
        "    spam_df = df[df['PREDICTION'] == 9].reset_index(drop=True) # removes unecessary index column\n",
        "    for i in tqdm(np.random.randint(0, len(spam_df), samples)):\n",
        "        # generating 'n_samples' augmented texts\n",
        "        for _ in range(repetitions):\n",
        "            augmented_text = augmenter.augment(spam_df['DESCRIPTION'].iloc[i])\n",
        "            augmented_texts.append(augmented_text)\n",
        "    \n",
        "    data = {\n",
        "        'PREDICTION': 9,\n",
        "        'DESCRIPTION': augmented_texts\n",
        "    }\n",
        "    aug_df = pd.DataFrame(data)\n",
        "    df = shuffle(df.append(aug_df).reset_index(drop=True))\n",
        "    return df"
      ],
      "metadata": {
        "id": "vbCGeM7yATEh"
      },
      "execution_count": null,
      "outputs": []
    },
    {
      "cell_type": "code",
      "source": [
        "aug_df3 = augmentMyData9(aug_df2, augmenter, samples=200)"
      ],
      "metadata": {
        "colab": {
          "base_uri": "https://localhost:8080/"
        },
        "id": "tlI8GY0tFt4X",
        "outputId": "12a9bd7d-2025-4979-b361-c1ad5cca558a"
      },
      "execution_count": null,
      "outputs": [
        {
          "output_type": "stream",
          "name": "stderr",
          "text": [
            "100%|██████████| 200/200 [02:40<00:00,  1.25it/s]\n"
          ]
        }
      ]
    },
    {
      "cell_type": "code",
      "source": [
        "def augmentMyData7(df, augmenter, repetitions=1, samples=200):\n",
        "    augmented_texts = []\n",
        "    # select only the minority class samples\n",
        "    spam_df = df[df['PREDICTION'] == 7].reset_index(drop=True) # removes unecessary index column\n",
        "    for i in tqdm(np.random.randint(0, len(spam_df), samples)):\n",
        "        # generating 'n_samples' augmented texts\n",
        "        for _ in range(repetitions):\n",
        "            augmented_text = augmenter.augment(spam_df['DESCRIPTION'].iloc[i])\n",
        "            augmented_texts.append(augmented_text)\n",
        "    \n",
        "    data = {\n",
        "        'PREDICTION': 7,\n",
        "        'DESCRIPTION': augmented_texts\n",
        "    }\n",
        "    aug_df = pd.DataFrame(data)\n",
        "    df = shuffle(df.append(aug_df).reset_index(drop=True))\n",
        "    return df"
      ],
      "metadata": {
        "id": "Q5N5nkr5AW_9"
      },
      "execution_count": null,
      "outputs": []
    },
    {
      "cell_type": "code",
      "source": [
        "aug_df4 = augmentMyData7(aug_df3, augmenter, samples=200)\n"
      ],
      "metadata": {
        "colab": {
          "base_uri": "https://localhost:8080/"
        },
        "id": "3PEePhd3AoQT",
        "outputId": "ff16ae9a-a58f-421e-bfca-594559b00cb5"
      },
      "execution_count": null,
      "outputs": [
        {
          "output_type": "stream",
          "name": "stderr",
          "text": [
            "100%|██████████| 200/200 [01:16<00:00,  2.62it/s]\n"
          ]
        }
      ]
    },
    {
      "cell_type": "code",
      "source": [
        "def augmentMyData8(df, augmenter, repetitions=1, samples=200):\n",
        "    augmented_texts = []\n",
        "    # select only the minority class samples\n",
        "    spam_df = df[df['PREDICTION'] == 8].reset_index(drop=True) # removes unecessary index column\n",
        "    for i in tqdm(np.random.randint(0, len(spam_df), samples)):\n",
        "        # generating 'n_samples' augmented texts\n",
        "        for _ in range(repetitions):\n",
        "            augmented_text = augmenter.augment(spam_df['DESCRIPTION'].iloc[i])\n",
        "            augmented_texts.append(augmented_text)\n",
        "    \n",
        "    data = {\n",
        "        'PREDICTION': 8,\n",
        "        'DESCRIPTION': augmented_texts\n",
        "    }\n",
        "    aug_df = pd.DataFrame(data)\n",
        "    df = shuffle(df.append(aug_df).reset_index(drop=True))\n",
        "    return df"
      ],
      "metadata": {
        "id": "3H_rVo5SG-I-"
      },
      "execution_count": null,
      "outputs": []
    },
    {
      "cell_type": "code",
      "source": [
        "aug_df5 = augmentMyData8(aug_df4, augmenter, samples=200)"
      ],
      "metadata": {
        "colab": {
          "base_uri": "https://localhost:8080/"
        },
        "id": "9rjCLKRHHN3o",
        "outputId": "84e74d6b-f9a6-405a-828a-ccf28f8b8017"
      },
      "execution_count": null,
      "outputs": [
        {
          "output_type": "stream",
          "name": "stderr",
          "text": [
            "100%|██████████| 200/200 [02:23<00:00,  1.39it/s]\n"
          ]
        }
      ]
    },
    {
      "cell_type": "code",
      "source": [
        "def augmentMyData4(df, augmenter, repetitions=1, samples=200):\n",
        "    augmented_texts = []\n",
        "    # select only the minority class samples\n",
        "    spam_df = df[df['PREDICTION'] == 4].reset_index(drop=True) # removes unecessary index column\n",
        "    for i in tqdm(np.random.randint(0, len(spam_df), samples)):\n",
        "        # generating 'n_samples' augmented texts\n",
        "        for _ in range(repetitions):\n",
        "            augmented_text = augmenter.augment(spam_df['DESCRIPTION'].iloc[i])\n",
        "            augmented_texts.append(augmented_text)\n",
        "    \n",
        "    data = {\n",
        "        'PREDICTION': 4,\n",
        "        'DESCRIPTION': augmented_texts\n",
        "    }\n",
        "    aug_df = pd.DataFrame(data)\n",
        "    df = shuffle(df.append(aug_df).reset_index(drop=True))\n",
        "    return df"
      ],
      "metadata": {
        "id": "RSPyM8tlHmAZ"
      },
      "execution_count": null,
      "outputs": []
    },
    {
      "cell_type": "code",
      "source": [
        "aug_df6 = augmentMyData4(aug_df5, augmenter, samples=200)"
      ],
      "metadata": {
        "colab": {
          "base_uri": "https://localhost:8080/"
        },
        "id": "4C8eBPGAHvOu",
        "outputId": "c72dc7e7-4f9e-4672-f4a9-3499db56a7de"
      },
      "execution_count": null,
      "outputs": [
        {
          "output_type": "stream",
          "name": "stderr",
          "text": [
            "100%|██████████| 200/200 [03:02<00:00,  1.09it/s]\n"
          ]
        }
      ]
    },
    {
      "cell_type": "code",
      "source": [
        "aug_df6['PREDICTION'].value_counts()"
      ],
      "metadata": {
        "colab": {
          "base_uri": "https://localhost:8080/"
        },
        "id": "YvgZCP9RJH6v",
        "outputId": "c2c39645-b69d-4db2-cc6f-166fb2675297"
      },
      "execution_count": null,
      "outputs": [
        {
          "output_type": "execute_result",
          "data": {
            "text/plain": [
              "3    552\n",
              "0    480\n",
              "1    423\n",
              "4    308\n",
              "8    302\n",
              "2    275\n",
              "6    258\n",
              "9    239\n",
              "7    211\n",
              "5    184\n",
              "Name: PREDICTION, dtype: int64"
            ]
          },
          "metadata": {},
          "execution_count": 30
        }
      ]
    },
    {
      "cell_type": "markdown",
      "source": [
        "##### 2. Split train-val-test"
      ],
      "metadata": {
        "id": "7xj7F2ct03jk"
      }
    },
    {
      "cell_type": "code",
      "source": [
        "# split train & test data (scikit learn helper function)\n",
        "train, test = train_test_split(aug_df6,test_size=0.2, stratify=aug_df6[[\"PREDICTION\"]])"
      ],
      "metadata": {
        "id": "9gD6Ph4iibdL"
      },
      "execution_count": null,
      "outputs": []
    },
    {
      "cell_type": "code",
      "source": [
        "train[\"PREDICTION\"].value_counts()"
      ],
      "metadata": {
        "colab": {
          "base_uri": "https://localhost:8080/"
        },
        "id": "PHsP1KcbTS2u",
        "outputId": "ceaf354d-b8ae-49d4-8513-6187ada1ca1f"
      },
      "execution_count": null,
      "outputs": [
        {
          "output_type": "execute_result",
          "data": {
            "text/plain": [
              "3    442\n",
              "0    384\n",
              "1    338\n",
              "4    246\n",
              "8    242\n",
              "2    220\n",
              "6    206\n",
              "9    191\n",
              "7    169\n",
              "5    147\n",
              "Name: PREDICTION, dtype: int64"
            ]
          },
          "metadata": {},
          "execution_count": 32
        }
      ]
    },
    {
      "cell_type": "code",
      "source": [
        "test[\"PREDICTION\"].value_counts()"
      ],
      "metadata": {
        "colab": {
          "base_uri": "https://localhost:8080/"
        },
        "id": "FktMAUcfE-Uf",
        "outputId": "0eee02b9-f202-463d-a6a5-9f8f23d45fab"
      },
      "execution_count": null,
      "outputs": [
        {
          "output_type": "execute_result",
          "data": {
            "text/plain": [
              "3    110\n",
              "0     96\n",
              "1     85\n",
              "4     62\n",
              "8     60\n",
              "2     55\n",
              "6     52\n",
              "9     48\n",
              "7     42\n",
              "5     37\n",
              "Name: PREDICTION, dtype: int64"
            ]
          },
          "metadata": {},
          "execution_count": 33
        }
      ]
    },
    {
      "cell_type": "code",
      "source": [
        "# the prediction column (train) is going to be turned into a 1-Hot vector\n",
        "labels_df = pd.get_dummies(train[\"PREDICTION\"])\n",
        "labels_df.columns =[\"cat0\",\"cat1\",\"cat2\",\"cat3\",\"cat4\",\"cat5\",\"cat6\",\"cat7\",\"cat8\",\"cat9\"]"
      ],
      "metadata": {
        "id": "RIoTsLbQTqW-"
      },
      "execution_count": null,
      "outputs": []
    },
    {
      "cell_type": "code",
      "source": [
        "train = pd.concat([train[[\"DESCRIPTION\"]],labels_df],axis=1)"
      ],
      "metadata": {
        "id": "P_XaNsKPTtCl"
      },
      "execution_count": null,
      "outputs": []
    },
    {
      "cell_type": "code",
      "source": [
        "# the prediction column (test) is going to be turned into a 1-Hot vector\n",
        "labels_df1 = pd.get_dummies(test[\"PREDICTION\"])\n",
        "labels_df1.columns =[\"cat0\",\"cat1\",\"cat2\",\"cat3\",\"cat4\",\"cat5\",\"cat6\",\"cat7\",\"cat8\",\"cat9\"]"
      ],
      "metadata": {
        "id": "PovLEYFNULVp"
      },
      "execution_count": null,
      "outputs": []
    },
    {
      "cell_type": "code",
      "source": [
        "test = pd.concat([test[[\"DESCRIPTION\"]],labels_df1],axis=1)"
      ],
      "metadata": {
        "id": "QbJvI8srULe-"
      },
      "execution_count": null,
      "outputs": []
    },
    {
      "cell_type": "code",
      "source": [
        "# train_data\n",
        "train_data = list(train[\"DESCRIPTION\"].values)\n",
        "train_labels = list(train.drop(\"DESCRIPTION\", axis=1).values)"
      ],
      "metadata": {
        "id": "iD9a4HUgipy7"
      },
      "execution_count": null,
      "outputs": []
    },
    {
      "cell_type": "code",
      "source": [
        "# val_data\n",
        "val_data = list(test[\"DESCRIPTION\"].values)\n",
        "val_labels = list(test.drop(\"DESCRIPTION\", axis=1).values)"
      ],
      "metadata": {
        "id": "WPyiZ4ZWjkFZ"
      },
      "execution_count": null,
      "outputs": []
    },
    {
      "cell_type": "markdown",
      "source": [
        "##### 3. Encodings"
      ],
      "metadata": {
        "id": "ZTmdR03C09Az"
      }
    },
    {
      "cell_type": "code",
      "source": [
        "# name of the model of interest (distilbert + uncased)\n",
        "# the poblem type is : multi_label_classification not like before : bianry classification\n",
        "\n",
        "model_ckpt = \"distilbert-base-uncased\"\n",
        "tokenizer = AutoTokenizer.from_pretrained(model_ckpt, problem_type=\"multi_label_classification\")\n",
        "\n",
        "train_encodings = tokenizer(train_data, truncation=True, padding=True, max_length=128)\n",
        "val_encodings = tokenizer(val_data, truncation=True, padding=True, max_length=128)"
      ],
      "metadata": {
        "id": "14fzWO4Yje6B",
        "colab": {
          "base_uri": "https://localhost:8080/",
          "height": 145,
          "referenced_widgets": [
            "a385ba81451d4f2f81fcbb5a442ce2e0",
            "eea94f3c2669425da13e68785d00ba4d",
            "592257d25cff44898fd6b8ae00cc5927",
            "c1ae8c16fefd461faca372885bceb574",
            "85384a8a9a554d21b5da15ddcd6b392d",
            "325d4d18741d497591a24ed0d98ee2f0",
            "3f8ed44f3b2b4ee49244bf69bb11e585",
            "dd4a3cf7625b4b0082470c945fc437a4",
            "2ffda4fe468b45ed8607992cae1d95c4",
            "f1380dde59274efebc6659aaed56e543",
            "13f7d40f9c6b4c5c806b044e1ecf3301",
            "231ddd5c6eb549a3868607aa7e3313d3",
            "c07912e27bb647a08b4da65dff51d4ef",
            "19e2c707c5db4f1cb9b90610d5da41c5",
            "bbc5d66a296249b8bce48a93aaba52d3",
            "7afcb43a80eb4bdfbab60ce00844578d",
            "fa1c9763b67046609065713e3b306ca6",
            "57245084690b4d53b27bbbffc2d98529",
            "0cc5dea1826e411484c906b73a8b81d2",
            "c5156a17e5a44e8d9ffb9fd03d7a108a",
            "3e448e66fc0d424199e573629fcdcddd",
            "1cf2c0ab1f824345988a5218c5fff56b",
            "f89e869323714e8a9728605b96997636",
            "dfa411981a6e41a688bd4b2d1cb58377",
            "ff8bd32c07c24a10a19e10aa9cdae569",
            "86816c02218b46f7a75fc1c170fcec47",
            "71962c66a66146dd868da63216e65e5b",
            "7271f918646b4b7789ed401856c6043f",
            "8c563a1d1b4749de9b474d704b737072",
            "383c51e5fe9e448cb286ef2a54164cb6",
            "5077b75595394121b563067d8eef8ca2",
            "af006924451149159f8fc5c453cd206a",
            "2c79aaf3965346f488ffe4df359b5bd9",
            "3db31dcf5f5e4786b59e53a6439efd77",
            "c27ee39db1414e87884d8cfe0041fb2f",
            "a3414e269e6f4757bce5d4f9db76cdd8",
            "42580776b5214814a9c5a6cee9dd7501",
            "bf85648985634a5bab13cc91b41f0e4c",
            "6fae1929fbd84aa096b48b6e2f46d7cb",
            "2c56dd9a7f6c4d8cb9d7bc28bb8c2034",
            "191479fd3c954aea99c3594fe891c4e6",
            "c0542d2484534dd4b5b36846da800524",
            "c20660cd868c464480ccbe0fdc11f5bb",
            "475e75a20a194d59b38f082e472d7c3c"
          ]
        },
        "outputId": "6f4c52ff-5006-4478-866c-8120942bc8e6"
      },
      "execution_count": null,
      "outputs": [
        {
          "output_type": "display_data",
          "data": {
            "text/plain": [
              "Downloading:   0%|          | 0.00/28.0 [00:00<?, ?B/s]"
            ],
            "application/vnd.jupyter.widget-view+json": {
              "version_major": 2,
              "version_minor": 0,
              "model_id": "a385ba81451d4f2f81fcbb5a442ce2e0"
            }
          },
          "metadata": {}
        },
        {
          "output_type": "display_data",
          "data": {
            "text/plain": [
              "Downloading:   0%|          | 0.00/483 [00:00<?, ?B/s]"
            ],
            "application/vnd.jupyter.widget-view+json": {
              "version_major": 2,
              "version_minor": 0,
              "model_id": "231ddd5c6eb549a3868607aa7e3313d3"
            }
          },
          "metadata": {}
        },
        {
          "output_type": "display_data",
          "data": {
            "text/plain": [
              "Downloading:   0%|          | 0.00/226k [00:00<?, ?B/s]"
            ],
            "application/vnd.jupyter.widget-view+json": {
              "version_major": 2,
              "version_minor": 0,
              "model_id": "f89e869323714e8a9728605b96997636"
            }
          },
          "metadata": {}
        },
        {
          "output_type": "display_data",
          "data": {
            "text/plain": [
              "Downloading:   0%|          | 0.00/455k [00:00<?, ?B/s]"
            ],
            "application/vnd.jupyter.widget-view+json": {
              "version_major": 2,
              "version_minor": 0,
              "model_id": "3db31dcf5f5e4786b59e53a6439efd77"
            }
          },
          "metadata": {}
        }
      ]
    },
    {
      "cell_type": "code",
      "source": [
        "# Dataset class where we create a Dataset \n",
        "# like BERT can accept it\n",
        "class LLDataset(torch.utils.data.Dataset):\n",
        "    def __init__(self, encodings, labels):\n",
        "        self.encodings = encodings\n",
        "        self.labels = labels\n",
        "\n",
        "    def __getitem__(self, idx):\n",
        "        item = {key: torch.tensor(val[idx]) for key, val in self.encodings.items()}\n",
        "        item['labels'] = torch.tensor(self.labels[idx]).to(dtype=torch.float)\n",
        "        return item\n",
        "\n",
        "    def __len__(self):\n",
        "        return len(self.labels)\n"
      ],
      "metadata": {
        "id": "-09H3o_pZpjY"
      },
      "execution_count": null,
      "outputs": []
    },
    {
      "cell_type": "code",
      "source": [
        "# Datasets of train, validation and testing\n",
        "train_dataset = LLDataset(train_encodings, train_labels)\n",
        "val_dataset = LLDataset(val_encodings, val_labels)"
      ],
      "metadata": {
        "id": "X6HLEe12jSA6"
      },
      "execution_count": null,
      "outputs": []
    },
    {
      "cell_type": "code",
      "source": [
        "train_dataset[0]"
      ],
      "metadata": {
        "colab": {
          "base_uri": "https://localhost:8080/"
        },
        "id": "H4Al1HmyntmI",
        "outputId": "e1f7c89a-05d5-4bbc-d783-cce2bd60e781"
      },
      "execution_count": null,
      "outputs": [
        {
          "output_type": "execute_result",
          "data": {
            "text/plain": [
              "{'attention_mask': tensor([1, 1, 1, 1, 1, 1, 1, 1, 1, 1, 1, 1, 1, 1, 1, 1, 1, 1, 1, 1, 1, 1, 1, 1,\n",
              "         1, 1, 1, 1, 1, 1, 1, 1, 1, 1, 1, 1, 1, 1, 1, 1, 1, 1, 1, 1, 1, 1, 0, 0,\n",
              "         0, 0, 0, 0, 0, 0, 0, 0, 0, 0, 0, 0, 0, 0, 0, 0, 0, 0, 0, 0, 0, 0, 0, 0,\n",
              "         0, 0, 0, 0, 0, 0, 0, 0, 0, 0, 0, 0, 0, 0, 0, 0, 0, 0, 0, 0, 0, 0, 0, 0,\n",
              "         0, 0, 0, 0, 0, 0, 0, 0, 0, 0, 0, 0, 0]),\n",
              " 'input_ids': tensor([  101, 12436,  2102,  3784,  2000,  1024,  3229,  2924,  1064,  7367,\n",
              "          3593,  2226,  8945,  2721,  4478, 27617, 12672,  2368, 25682,  2692,\n",
              "         22275, 12521,  2692, 24434,  2692,  2575, 17788,  2683,  1013,  2199,\n",
              "          2692, 21926, 17465,  2692, 22275, 12521,  2692, 24434, 18613,  2692,\n",
              "          2289,  2620, 21472, 17134,  2575,   102,     0,     0,     0,     0,\n",
              "             0,     0,     0,     0,     0,     0,     0,     0,     0,     0,\n",
              "             0,     0,     0,     0,     0,     0,     0,     0,     0,     0,\n",
              "             0,     0,     0,     0,     0,     0,     0,     0,     0,     0,\n",
              "             0,     0,     0,     0,     0,     0,     0,     0,     0,     0,\n",
              "             0,     0,     0,     0,     0,     0,     0,     0,     0,     0,\n",
              "             0,     0,     0,     0,     0,     0,     0,     0,     0]),\n",
              " 'labels': tensor([0., 0., 0., 1., 0., 0., 0., 0., 0., 0.])}"
            ]
          },
          "metadata": {},
          "execution_count": 43
        }
      ]
    },
    {
      "cell_type": "markdown",
      "source": [
        "##### 4. Model definition + training"
      ],
      "metadata": {
        "id": "_CJbnxLH1Dwu"
      }
    },
    {
      "cell_type": "code",
      "source": [
        "# Build the model by specifying the .cpkt, the number of labels\n",
        "\n",
        "from transformers import (AutoTokenizer, AutoModelForSequenceClassification, \n",
        "                          TrainingArguments, Trainer)\n",
        "num_labels= 10\n",
        "model = AutoModelForSequenceClassification.from_pretrained(model_ckpt, \n",
        "                                                           num_labels=num_labels, \n",
        "                                                           problem_type=\"multi_label_classification\")"
      ],
      "metadata": {
        "colab": {
          "base_uri": "https://localhost:8080/",
          "height": 156,
          "referenced_widgets": [
            "484e4b3cfa0948d1b7a7cb2f95427347",
            "37bbf933974e4250837f9790a9c177ff",
            "544ed082537a49e0bfa0674bb0bc30c3",
            "b27b7c78a59f4d57a162bc2e2c03091d",
            "532d364e7e4d44e5a1b1ea7cb74773a6",
            "53f4178e0a7c4a90b1d6b29b682c140e",
            "41026006f1194c47b8e3340830cc0151",
            "dd422d4656e3400f9d9a50bcef74f41a",
            "6f651e0b8ab04ed6acbe4cd053edfb9a",
            "5adb7fbf6c6b46c1bffdd4960b947bc7",
            "31643b4280824a6c8edb4cf70375befe"
          ]
        },
        "id": "J9BLfdYtp03H",
        "outputId": "37df2c99-7be6-4055-b6d7-96aabe07cdba"
      },
      "execution_count": null,
      "outputs": [
        {
          "output_type": "display_data",
          "data": {
            "text/plain": [
              "Downloading:   0%|          | 0.00/256M [00:00<?, ?B/s]"
            ],
            "application/vnd.jupyter.widget-view+json": {
              "version_major": 2,
              "version_minor": 0,
              "model_id": "484e4b3cfa0948d1b7a7cb2f95427347"
            }
          },
          "metadata": {}
        },
        {
          "output_type": "stream",
          "name": "stderr",
          "text": [
            "Some weights of the model checkpoint at distilbert-base-uncased were not used when initializing DistilBertForSequenceClassification: ['vocab_layer_norm.bias', 'vocab_transform.bias', 'vocab_layer_norm.weight', 'vocab_transform.weight', 'vocab_projector.weight', 'vocab_projector.bias']\n",
            "- This IS expected if you are initializing DistilBertForSequenceClassification from the checkpoint of a model trained on another task or with another architecture (e.g. initializing a BertForSequenceClassification model from a BertForPreTraining model).\n",
            "- This IS NOT expected if you are initializing DistilBertForSequenceClassification from the checkpoint of a model that you expect to be exactly identical (initializing a BertForSequenceClassification model from a BertForSequenceClassification model).\n",
            "Some weights of DistilBertForSequenceClassification were not initialized from the model checkpoint at distilbert-base-uncased and are newly initialized: ['classifier.weight', 'pre_classifier.bias', 'classifier.bias', 'pre_classifier.weight']\n",
            "You should probably TRAIN this model on a down-stream task to be able to use it for predictions and inference.\n"
          ]
        }
      ]
    },
    {
      "cell_type": "code",
      "source": [
        "batch_size = 8\n",
        "metric_name = \"f1\""
      ],
      "metadata": {
        "id": "5Pq3PmcBt4QW"
      },
      "execution_count": null,
      "outputs": []
    },
    {
      "cell_type": "code",
      "source": [
        "from transformers import TrainingArguments, Trainer\n",
        "\n",
        "args = TrainingArguments(\n",
        "    f\"bert-finetuned-sem_eval-english\",\n",
        "    evaluation_strategy = \"epoch\",\n",
        "    save_strategy = \"epoch\",\n",
        "    learning_rate=2e-5,\n",
        "    per_device_train_batch_size=16,\n",
        "    per_device_eval_batch_size=64,\n",
        "    num_train_epochs=10,\n",
        "    weight_decay=0.01,\n",
        "    load_best_model_at_end=True,\n",
        "    metric_for_best_model=metric_name,\n",
        "    logging_steps=10,\n",
        "    #push_to_hub=True,\n",
        ")"
      ],
      "metadata": {
        "id": "iMQegt39t8DM",
        "colab": {
          "base_uri": "https://localhost:8080/"
        },
        "outputId": "4432ba14-dfb6-4dfb-9e8c-e8e9b4655843"
      },
      "execution_count": null,
      "outputs": [
        {
          "output_type": "stream",
          "name": "stderr",
          "text": [
            "PyTorch: setting up devices\n",
            "The default value for the training argument `--report_to` will change in v5 (from all installed integrations to none). In v5, you will need to use `--report_to all` to get the same behavior as now. You should start updating your code and make this info disappear :-).\n"
          ]
        }
      ]
    },
    {
      "cell_type": "code",
      "source": [
        "from sklearn.metrics import f1_score, roc_auc_score, accuracy_score\n",
        "from transformers import EvalPrediction\n",
        "import torch\n",
        "    \n",
        "# source: https://jesusleal.io/2021/04/21/Longformer-multilabel-classification/\n",
        "def multi_label_metrics(predictions, labels, threshold=0.5):\n",
        "    # first, apply sigmoid on predictions which are of shape (batch_size, num_labels)\n",
        "    sigmoid = torch.nn.Sigmoid()\n",
        "    probs = sigmoid(torch.Tensor(predictions))\n",
        "    # next, use threshold to turn them into integer predictions\n",
        "    y_pred = np.zeros(probs.shape)\n",
        "    y_pred[np.where(probs >= threshold)] = 1\n",
        "    # finally, compute metrics\n",
        "    y_true = labels\n",
        "    f1_micro_average = f1_score(y_true=y_true, y_pred=y_pred, average='micro')\n",
        "    roc_auc = roc_auc_score(y_true, y_pred, average = 'micro')\n",
        "    accuracy = accuracy_score(y_true, y_pred)\n",
        "    # return as dictionary\n",
        "    metrics = {'f1': f1_micro_average,\n",
        "               'roc_auc': roc_auc,\n",
        "               'accuracy': accuracy}\n",
        "    return metrics\n",
        "\n",
        "def compute_metrics(p: EvalPrediction):\n",
        "    preds = p.predictions[0] if isinstance(p.predictions, \n",
        "            tuple) else p.predictions\n",
        "    result = multi_label_metrics(\n",
        "        predictions=preds, \n",
        "        labels=p.label_ids)\n",
        "    return result"
      ],
      "metadata": {
        "id": "VNUzmplYuAkb"
      },
      "execution_count": null,
      "outputs": []
    },
    {
      "cell_type": "code",
      "source": [
        "\n",
        "trainer = Trainer(\n",
        "    model=model,                         # the instantiated 🤗 Transformers model to be trained\n",
        "    args=args,                  # training arguments, defined above\n",
        "    train_dataset=train_dataset,         # training dataset\n",
        "    eval_dataset=val_dataset,             # evaluation dataset\n",
        "    compute_metrics=compute_metrics\n",
        ")\n",
        "\n",
        "trainer.train()"
      ],
      "metadata": {
        "colab": {
          "base_uri": "https://localhost:8080/",
          "height": 1000
        },
        "id": "YRYwwWy6uUVI",
        "outputId": "518d50db-a6d4-46d0-aeda-ff61e1a04cfa"
      },
      "execution_count": null,
      "outputs": [
        {
          "output_type": "stream",
          "name": "stderr",
          "text": [
            "/usr/local/lib/python3.7/dist-packages/transformers/optimization.py:309: FutureWarning: This implementation of AdamW is deprecated and will be removed in a future version. Use the PyTorch implementation torch.optim.AdamW instead, or set `no_deprecation_warning=True` to disable this warning\n",
            "  FutureWarning,\n",
            "***** Running training *****\n",
            "  Num examples = 2585\n",
            "  Num Epochs = 10\n",
            "  Instantaneous batch size per device = 16\n",
            "  Total train batch size (w. parallel, distributed & accumulation) = 16\n",
            "  Gradient Accumulation steps = 1\n",
            "  Total optimization steps = 1620\n"
          ]
        },
        {
          "output_type": "display_data",
          "data": {
            "text/plain": [
              "<IPython.core.display.HTML object>"
            ],
            "text/html": [
              "\n",
              "    <div>\n",
              "      \n",
              "      <progress value='1620' max='1620' style='width:300px; height:20px; vertical-align: middle;'></progress>\n",
              "      [1620/1620 03:28, Epoch 10/10]\n",
              "    </div>\n",
              "    <table border=\"1\" class=\"dataframe\">\n",
              "  <thead>\n",
              " <tr style=\"text-align: left;\">\n",
              "      <th>Epoch</th>\n",
              "      <th>Training Loss</th>\n",
              "      <th>Validation Loss</th>\n",
              "      <th>F1</th>\n",
              "      <th>Roc Auc</th>\n",
              "      <th>Accuracy</th>\n",
              "    </tr>\n",
              "  </thead>\n",
              "  <tbody>\n",
              "    <tr>\n",
              "      <td>1</td>\n",
              "      <td>0.012900</td>\n",
              "      <td>0.062994</td>\n",
              "      <td>0.914596</td>\n",
              "      <td>0.950713</td>\n",
              "      <td>0.902628</td>\n",
              "    </tr>\n",
              "    <tr>\n",
              "      <td>2</td>\n",
              "      <td>0.017900</td>\n",
              "      <td>0.056088</td>\n",
              "      <td>0.928793</td>\n",
              "      <td>0.959815</td>\n",
              "      <td>0.921175</td>\n",
              "    </tr>\n",
              "    <tr>\n",
              "      <td>3</td>\n",
              "      <td>0.018300</td>\n",
              "      <td>0.059018</td>\n",
              "      <td>0.933230</td>\n",
              "      <td>0.961017</td>\n",
              "      <td>0.927357</td>\n",
              "    </tr>\n",
              "    <tr>\n",
              "      <td>4</td>\n",
              "      <td>0.009300</td>\n",
              "      <td>0.063247</td>\n",
              "      <td>0.931168</td>\n",
              "      <td>0.961446</td>\n",
              "      <td>0.925811</td>\n",
              "    </tr>\n",
              "    <tr>\n",
              "      <td>5</td>\n",
              "      <td>0.010200</td>\n",
              "      <td>0.060254</td>\n",
              "      <td>0.928571</td>\n",
              "      <td>0.958441</td>\n",
              "      <td>0.919629</td>\n",
              "    </tr>\n",
              "    <tr>\n",
              "      <td>6</td>\n",
              "      <td>0.010300</td>\n",
              "      <td>0.060566</td>\n",
              "      <td>0.933230</td>\n",
              "      <td>0.961017</td>\n",
              "      <td>0.925811</td>\n",
              "    </tr>\n",
              "    <tr>\n",
              "      <td>7</td>\n",
              "      <td>0.020000</td>\n",
              "      <td>0.062382</td>\n",
              "      <td>0.934057</td>\n",
              "      <td>0.961789</td>\n",
              "      <td>0.928903</td>\n",
              "    </tr>\n",
              "    <tr>\n",
              "      <td>8</td>\n",
              "      <td>0.017300</td>\n",
              "      <td>0.060607</td>\n",
              "      <td>0.931677</td>\n",
              "      <td>0.960158</td>\n",
              "      <td>0.927357</td>\n",
              "    </tr>\n",
              "    <tr>\n",
              "      <td>9</td>\n",
              "      <td>0.002400</td>\n",
              "      <td>0.061510</td>\n",
              "      <td>0.936434</td>\n",
              "      <td>0.963421</td>\n",
              "      <td>0.930448</td>\n",
              "    </tr>\n",
              "    <tr>\n",
              "      <td>10</td>\n",
              "      <td>0.008500</td>\n",
              "      <td>0.061260</td>\n",
              "      <td>0.933333</td>\n",
              "      <td>0.961704</td>\n",
              "      <td>0.924266</td>\n",
              "    </tr>\n",
              "  </tbody>\n",
              "</table><p>"
            ]
          },
          "metadata": {}
        },
        {
          "output_type": "stream",
          "name": "stderr",
          "text": [
            "***** Running Evaluation *****\n",
            "  Num examples = 647\n",
            "  Batch size = 64\n",
            "Saving model checkpoint to bert-finetuned-sem_eval-english/checkpoint-162\n",
            "Configuration saved in bert-finetuned-sem_eval-english/checkpoint-162/config.json\n",
            "***** Running Evaluation *****\n",
            "  Num examples = 647\n",
            "  Batch size = 64\n",
            "Saving model checkpoint to bert-finetuned-sem_eval-english/checkpoint-324\n",
            "Configuration saved in bert-finetuned-sem_eval-english/checkpoint-324/config.json\n",
            "***** Running Evaluation *****\n",
            "  Num examples = 647\n",
            "  Batch size = 64\n",
            "Saving model checkpoint to bert-finetuned-sem_eval-english/checkpoint-486\n",
            "Configuration saved in bert-finetuned-sem_eval-english/checkpoint-486/config.json\n",
            "***** Running Evaluation *****\n",
            "  Num examples = 647\n",
            "  Batch size = 64\n",
            "Saving model checkpoint to bert-finetuned-sem_eval-english/checkpoint-648\n",
            "Configuration saved in bert-finetuned-sem_eval-english/checkpoint-648/config.json\n",
            "***** Running Evaluation *****\n",
            "  Num examples = 647\n",
            "  Batch size = 64\n",
            "Saving model checkpoint to bert-finetuned-sem_eval-english/checkpoint-810\n",
            "Configuration saved in bert-finetuned-sem_eval-english/checkpoint-810/config.json\n",
            "***** Running Evaluation *****\n",
            "  Num examples = 647\n",
            "  Batch size = 64\n",
            "Saving model checkpoint to bert-finetuned-sem_eval-english/checkpoint-972\n",
            "Configuration saved in bert-finetuned-sem_eval-english/checkpoint-972/config.json\n",
            "***** Running Evaluation *****\n",
            "  Num examples = 647\n",
            "  Batch size = 64\n",
            "Saving model checkpoint to bert-finetuned-sem_eval-english/checkpoint-1134\n",
            "Configuration saved in bert-finetuned-sem_eval-english/checkpoint-1134/config.json\n",
            "***** Running Evaluation *****\n",
            "  Num examples = 647\n",
            "  Batch size = 64\n",
            "Saving model checkpoint to bert-finetuned-sem_eval-english/checkpoint-1296\n",
            "Configuration saved in bert-finetuned-sem_eval-english/checkpoint-1296/config.json\n",
            "***** Running Evaluation *****\n",
            "  Num examples = 647\n",
            "  Batch size = 64\n",
            "Saving model checkpoint to bert-finetuned-sem_eval-english/checkpoint-1458\n",
            "Configuration saved in bert-finetuned-sem_eval-english/checkpoint-1458/config.json\n",
            "***** Running Evaluation *****\n",
            "  Num examples = 647\n",
            "  Batch size = 64\n",
            "Saving model checkpoint to bert-finetuned-sem_eval-english/checkpoint-1620\n",
            "Configuration saved in bert-finetuned-sem_eval-english/checkpoint-1620/config.json\n",
            "\n",
            "\n",
            "Training completed. Do not forget to share your model on huggingface.co/models =)\n",
            "\n",
            "\n",
            "Loading best model from bert-finetuned-sem_eval-english/checkpoint-1458 (score: 0.9364341085271317).\n"
          ]
        },
        {
          "output_type": "execute_result",
          "data": {
            "text/plain": [
              "TrainOutput(global_step=1620, training_loss=0.011238682926574975, metrics={'train_runtime': 209.0052, 'train_samples_per_second': 123.681, 'train_steps_per_second': 7.751, 'total_flos': 729101594595000.0, 'train_loss': 0.011238682926574975, 'epoch': 10.0})"
            ]
          },
          "metadata": {},
          "execution_count": 61
        }
      ]
    },
    {
      "cell_type": "code",
      "source": [
        "trainer.predict(val_dataset)\n",
        "\n"
      ],
      "metadata": {
        "id": "1GNuhTVKglfZ",
        "colab": {
          "base_uri": "https://localhost:8080/",
          "height": 439
        },
        "outputId": "096bf697-183d-4393-e26e-c02604710b0e"
      },
      "execution_count": null,
      "outputs": [
        {
          "output_type": "stream",
          "name": "stderr",
          "text": [
            "***** Running Prediction *****\n",
            "  Num examples = 647\n",
            "  Batch size = 64\n"
          ]
        },
        {
          "output_type": "display_data",
          "data": {
            "text/plain": [
              "<IPython.core.display.HTML object>"
            ],
            "text/html": [
              "\n",
              "    <div>\n",
              "      \n",
              "      <progress value='33' max='11' style='width:300px; height:20px; vertical-align: middle;'></progress>\n",
              "      [11/11 01:15]\n",
              "    </div>\n",
              "    "
            ]
          },
          "metadata": {}
        },
        {
          "output_type": "execute_result",
          "data": {
            "text/plain": [
              "PredictionOutput(predictions=array([[ -6.832945  ,  -6.920761  ,  -7.2778316 , ...,   5.9091225 ,\n",
              "         -7.074945  ,  -6.854175  ],\n",
              "       [  6.0597215 ,  -8.082486  ,  -8.343954  , ...,  -8.897014  ,\n",
              "         -9.163775  ,  -7.2951097 ],\n",
              "       [ -7.419408  ,   5.5627966 ,  -7.7271905 , ...,  -8.956051  ,\n",
              "         -7.425079  ,  -7.762295  ],\n",
              "       ...,\n",
              "       [ -0.28636655,  -3.306943  , -10.655298  , ..., -12.008067  ,\n",
              "        -10.374054  ,  -6.311328  ],\n",
              "       [ -4.6439934 ,  -7.643302  ,  -8.742418  , ...,  -8.918697  ,\n",
              "         -8.834777  ,  -7.864008  ],\n",
              "       [  4.786857  ,  -5.3235273 ,  -8.969397  , ..., -10.109463  ,\n",
              "         -7.7075267 ,  -8.364316  ]], dtype=float32), label_ids=array([[0., 0., 0., ..., 1., 0., 0.],\n",
              "       [1., 0., 0., ..., 0., 0., 0.],\n",
              "       [0., 1., 0., ..., 0., 0., 0.],\n",
              "       ...,\n",
              "       [0., 0., 0., ..., 0., 0., 0.],\n",
              "       [0., 0., 0., ..., 0., 0., 0.],\n",
              "       [1., 0., 0., ..., 0., 0., 0.]], dtype=float32), metrics={'test_loss': 0.061510395258665085, 'test_f1': 0.9364341085271317, 'test_roc_auc': 0.9634209170530655, 'test_accuracy': 0.9304482225656878, 'test_runtime': 1.0422, 'test_samples_per_second': 620.831, 'test_steps_per_second': 10.555})"
            ]
          },
          "metadata": {},
          "execution_count": 64
        }
      ]
    },
    {
      "cell_type": "code",
      "source": [
        "trainer.evaluate()"
      ],
      "metadata": {
        "id": "X7I6_cZFhQMM",
        "colab": {
          "base_uri": "https://localhost:8080/",
          "height": 228
        },
        "outputId": "d43dc9fc-e34a-4f99-ebd0-2e917a6adf0c"
      },
      "execution_count": null,
      "outputs": [
        {
          "output_type": "stream",
          "name": "stderr",
          "text": [
            "***** Running Evaluation *****\n",
            "  Num examples = 647\n",
            "  Batch size = 64\n"
          ]
        },
        {
          "output_type": "display_data",
          "data": {
            "text/plain": [
              "<IPython.core.display.HTML object>"
            ],
            "text/html": [
              "\n",
              "    <div>\n",
              "      \n",
              "      <progress value='44' max='11' style='width:300px; height:20px; vertical-align: middle;'></progress>\n",
              "      [11/11 01:24]\n",
              "    </div>\n",
              "    "
            ]
          },
          "metadata": {}
        },
        {
          "output_type": "execute_result",
          "data": {
            "text/plain": [
              "{'epoch': 10.0,\n",
              " 'eval_accuracy': 0.9304482225656878,\n",
              " 'eval_f1': 0.9364341085271317,\n",
              " 'eval_loss': 0.061510395258665085,\n",
              " 'eval_roc_auc': 0.9634209170530655,\n",
              " 'eval_runtime': 1.0321,\n",
              " 'eval_samples_per_second': 626.908,\n",
              " 'eval_steps_per_second': 10.658}"
            ]
          },
          "metadata": {},
          "execution_count": 65
        }
      ]
    },
    {
      "cell_type": "markdown",
      "source": [
        "##### 5. Inference"
      ],
      "metadata": {
        "id": "Dsv6-DAy0q4e"
      }
    },
    {
      "cell_type": "code",
      "source": [
        "# we can actually play with the data and create artificial\n",
        "# new records\n",
        "text = [\"MOB/UTO/7374736517/000017/1 8 mm sent for ayin 000004210312153133254412791788\"]\n",
        "encoding = tokenizer(text, return_tensors=\"pt\").to('cuda')\n",
        "\n",
        "# forward pass\n",
        "outputs = model(**encoding)\n",
        "predictions = outputs.logits.argmax(-1)\n",
        "int(predictions)"
      ],
      "metadata": {
        "id": "C-beBykAuMH0",
        "colab": {
          "base_uri": "https://localhost:8080/"
        },
        "outputId": "b91ab25a-0d8a-4bd6-f159-aef08ce3303a"
      },
      "execution_count": null,
      "outputs": [
        {
          "output_type": "execute_result",
          "data": {
            "text/plain": [
              "1"
            ]
          },
          "metadata": {},
          "execution_count": 66
        }
      ]
    },
    {
      "cell_type": "code",
      "source": [
        "text = [\"TNF-ONABIYI ABIODUN OLUMIDEONABIYI ABIODUN OLUMIDE 000013210318081620000044927184\"]\n",
        "encoding = tokenizer(text, return_tensors=\"pt\").to('cuda')\n",
        "\n",
        "# forward pass\n",
        "outputs = model(**encoding)\n",
        "predictions = outputs.logits.argmax(-1)\n",
        "int(predictions)\n"
      ],
      "metadata": {
        "colab": {
          "base_uri": "https://localhost:8080/"
        },
        "id": "oLRrKtyLiqyH",
        "outputId": "f3ebd03e-9320-4d4e-c65a-73c422cb605f"
      },
      "execution_count": null,
      "outputs": [
        {
          "output_type": "execute_result",
          "data": {
            "text/plain": [
              "1"
            ]
          },
          "metadata": {},
          "execution_count": 67
        }
      ]
    },
    {
      "cell_type": "code",
      "source": [
        "import pandas as pd"
      ],
      "metadata": {
        "id": "uqMCe6_y1iZ6"
      },
      "execution_count": null,
      "outputs": []
    },
    {
      "cell_type": "code",
      "source": [
        "INPUT= '/content/drive/MyDrive/Bert_classification/input.csv'"
      ],
      "metadata": {
        "id": "BIaEIqJUfTO3"
      },
      "execution_count": null,
      "outputs": []
    },
    {
      "cell_type": "code",
      "source": [
        "\n",
        "df = pd.read_csv(INPUT, sep = ';' )\n",
        "df"
      ],
      "metadata": {
        "colab": {
          "base_uri": "https://localhost:8080/",
          "height": 990
        },
        "id": "w-lrm_Fy053n",
        "outputId": "397bd1fe-45f5-4369-b243-e8163a8e3d03"
      },
      "execution_count": null,
      "outputs": [
        {
          "output_type": "execute_result",
          "data": {
            "text/plain": [
              "      BANK_ID                                        DESCRIPTION\n",
              "0         UBA  SMS/SMS CHARGES FEB 16TH 2021 - MAR 15TH 2021 ...\n",
              "1         UBA    FGN STAMPDUTY FOR: 1 TRANSACTIONS ON 15-MAR- 21\n",
              "2         UBA    FGN STAMPDUTY FOR: 1 TRANSACTIONS ON 18-MAR- 21\n",
              "3         UBA  MOB/UTO/7445598102/00001\\n3/Done 0000042103201...\n",
              "4         UBA  TNF-MIDZAC LIMITED/IBR TRF IFO ERARIO BUSINESS...\n",
              "5         UBA  MOB/UTO/7467889276/00000\\n7/Done 0000042103222...\n",
              "6         UBA    FGN STAMPDUTY FOR: 1 TRANSACTIONS ON 22-MAR- 21\n",
              "7         UBA  TNF-RML 1729 LIMITED/IBR TRF IFO ERARIO BUSINE...\n",
              "8         UBA  MOB/UTO/7553980900/00000\\n7/Done 0000042103311...\n",
              "9         UBA  10XXX..:Int. Pd.01-03-\\n2021to31-03-2021 Inter...\n",
              "10        UBA  TNF-ONABIYI ABIODUN OLUMIDEONABIYI ABIODUN OLU...\n",
              "11        UBA  TNF-D AND VEE SERVICES INT\\nL LTD/2 220 transf...\n",
              "12        UBA  MOB/UTO/7567061488/00001\\n3/Salary for staff o...\n",
              "13        UBA   ACCT MAINT CHARGES BTW 01-03-2021 AND 30-03-2021\n",
              "14        UBA                              VAT ON ACCT MAIN CHRG\n",
              "15        UBA  MOB/UTO/7580951001/00001\\n3/New office pc 0000...\n",
              "16        UBA  TNF-ONABIYI ABIODUN OLUMIDEONABIYI ABIODUN OLU...\n",
              "17        UBA    FGN STAMPDUTY FOR: 1 TRANSACTIONS ON 31-MAR- 21\n",
              "18        UBA    FGN STAMPDUTY FOR: 1 TRANSACTIONS ON 01-APR- 21\n",
              "19        UBA  MOB/UTO/7598175318/00001\\n7/Part for new hardw...\n",
              "20        UBA  MOB/UTO/7606255182/00001\\n7/Done for new ayin ...\n",
              "21        UBA  MOB/UTO/7606322302/00001\\n3/Done for fueling e...\n",
              "22        UBA                                   TOD FEE  CHARGED\n",
              "23        UBA    FGN STAMPDUTY FOR: 1 TRANSACTIONS ON 04-APR- 21\n",
              "24        UBA  MOB/UTO/7670446534/00001\\n3/1k\\n00000421041117...\n",
              "25  FirstBANK                                        FIP CHARGES\n",
              "26        any           FIP:MB:UBA/EUNIQ HEROS BUSINE/FBNMOBILE:\n",
              "27       any1                                        FIP CHARGES\n",
              "28       ANY2           FIP:MB:FID/LUKMAN ADEMOLA POP/FBNMOBILE:\n",
              "29       ANY3                                               SELF"
            ],
            "text/html": [
              "\n",
              "  <div id=\"df-d356d043-88aa-4508-bdd1-90b857266130\">\n",
              "    <div class=\"colab-df-container\">\n",
              "      <div>\n",
              "<style scoped>\n",
              "    .dataframe tbody tr th:only-of-type {\n",
              "        vertical-align: middle;\n",
              "    }\n",
              "\n",
              "    .dataframe tbody tr th {\n",
              "        vertical-align: top;\n",
              "    }\n",
              "\n",
              "    .dataframe thead th {\n",
              "        text-align: right;\n",
              "    }\n",
              "</style>\n",
              "<table border=\"1\" class=\"dataframe\">\n",
              "  <thead>\n",
              "    <tr style=\"text-align: right;\">\n",
              "      <th></th>\n",
              "      <th>BANK_ID</th>\n",
              "      <th>DESCRIPTION</th>\n",
              "    </tr>\n",
              "  </thead>\n",
              "  <tbody>\n",
              "    <tr>\n",
              "      <th>0</th>\n",
              "      <td>UBA</td>\n",
              "      <td>SMS/SMS CHARGES FEB 16TH 2021 - MAR 15TH 2021 ...</td>\n",
              "    </tr>\n",
              "    <tr>\n",
              "      <th>1</th>\n",
              "      <td>UBA</td>\n",
              "      <td>FGN STAMPDUTY FOR: 1 TRANSACTIONS ON 15-MAR- 21</td>\n",
              "    </tr>\n",
              "    <tr>\n",
              "      <th>2</th>\n",
              "      <td>UBA</td>\n",
              "      <td>FGN STAMPDUTY FOR: 1 TRANSACTIONS ON 18-MAR- 21</td>\n",
              "    </tr>\n",
              "    <tr>\n",
              "      <th>3</th>\n",
              "      <td>UBA</td>\n",
              "      <td>MOB/UTO/7445598102/00001\\n3/Done 0000042103201...</td>\n",
              "    </tr>\n",
              "    <tr>\n",
              "      <th>4</th>\n",
              "      <td>UBA</td>\n",
              "      <td>TNF-MIDZAC LIMITED/IBR TRF IFO ERARIO BUSINESS...</td>\n",
              "    </tr>\n",
              "    <tr>\n",
              "      <th>5</th>\n",
              "      <td>UBA</td>\n",
              "      <td>MOB/UTO/7467889276/00000\\n7/Done 0000042103222...</td>\n",
              "    </tr>\n",
              "    <tr>\n",
              "      <th>6</th>\n",
              "      <td>UBA</td>\n",
              "      <td>FGN STAMPDUTY FOR: 1 TRANSACTIONS ON 22-MAR- 21</td>\n",
              "    </tr>\n",
              "    <tr>\n",
              "      <th>7</th>\n",
              "      <td>UBA</td>\n",
              "      <td>TNF-RML 1729 LIMITED/IBR TRF IFO ERARIO BUSINE...</td>\n",
              "    </tr>\n",
              "    <tr>\n",
              "      <th>8</th>\n",
              "      <td>UBA</td>\n",
              "      <td>MOB/UTO/7553980900/00000\\n7/Done 0000042103311...</td>\n",
              "    </tr>\n",
              "    <tr>\n",
              "      <th>9</th>\n",
              "      <td>UBA</td>\n",
              "      <td>10XXX..:Int. Pd.01-03-\\n2021to31-03-2021 Inter...</td>\n",
              "    </tr>\n",
              "    <tr>\n",
              "      <th>10</th>\n",
              "      <td>UBA</td>\n",
              "      <td>TNF-ONABIYI ABIODUN OLUMIDEONABIYI ABIODUN OLU...</td>\n",
              "    </tr>\n",
              "    <tr>\n",
              "      <th>11</th>\n",
              "      <td>UBA</td>\n",
              "      <td>TNF-D AND VEE SERVICES INT\\nL LTD/2 220 transf...</td>\n",
              "    </tr>\n",
              "    <tr>\n",
              "      <th>12</th>\n",
              "      <td>UBA</td>\n",
              "      <td>MOB/UTO/7567061488/00001\\n3/Salary for staff o...</td>\n",
              "    </tr>\n",
              "    <tr>\n",
              "      <th>13</th>\n",
              "      <td>UBA</td>\n",
              "      <td>ACCT MAINT CHARGES BTW 01-03-2021 AND 30-03-2021</td>\n",
              "    </tr>\n",
              "    <tr>\n",
              "      <th>14</th>\n",
              "      <td>UBA</td>\n",
              "      <td>VAT ON ACCT MAIN CHRG</td>\n",
              "    </tr>\n",
              "    <tr>\n",
              "      <th>15</th>\n",
              "      <td>UBA</td>\n",
              "      <td>MOB/UTO/7580951001/00001\\n3/New office pc 0000...</td>\n",
              "    </tr>\n",
              "    <tr>\n",
              "      <th>16</th>\n",
              "      <td>UBA</td>\n",
              "      <td>TNF-ONABIYI ABIODUN OLUMIDEONABIYI ABIODUN OLU...</td>\n",
              "    </tr>\n",
              "    <tr>\n",
              "      <th>17</th>\n",
              "      <td>UBA</td>\n",
              "      <td>FGN STAMPDUTY FOR: 1 TRANSACTIONS ON 31-MAR- 21</td>\n",
              "    </tr>\n",
              "    <tr>\n",
              "      <th>18</th>\n",
              "      <td>UBA</td>\n",
              "      <td>FGN STAMPDUTY FOR: 1 TRANSACTIONS ON 01-APR- 21</td>\n",
              "    </tr>\n",
              "    <tr>\n",
              "      <th>19</th>\n",
              "      <td>UBA</td>\n",
              "      <td>MOB/UTO/7598175318/00001\\n7/Part for new hardw...</td>\n",
              "    </tr>\n",
              "    <tr>\n",
              "      <th>20</th>\n",
              "      <td>UBA</td>\n",
              "      <td>MOB/UTO/7606255182/00001\\n7/Done for new ayin ...</td>\n",
              "    </tr>\n",
              "    <tr>\n",
              "      <th>21</th>\n",
              "      <td>UBA</td>\n",
              "      <td>MOB/UTO/7606322302/00001\\n3/Done for fueling e...</td>\n",
              "    </tr>\n",
              "    <tr>\n",
              "      <th>22</th>\n",
              "      <td>UBA</td>\n",
              "      <td>TOD FEE  CHARGED</td>\n",
              "    </tr>\n",
              "    <tr>\n",
              "      <th>23</th>\n",
              "      <td>UBA</td>\n",
              "      <td>FGN STAMPDUTY FOR: 1 TRANSACTIONS ON 04-APR- 21</td>\n",
              "    </tr>\n",
              "    <tr>\n",
              "      <th>24</th>\n",
              "      <td>UBA</td>\n",
              "      <td>MOB/UTO/7670446534/00001\\n3/1k\\n00000421041117...</td>\n",
              "    </tr>\n",
              "    <tr>\n",
              "      <th>25</th>\n",
              "      <td>FirstBANK</td>\n",
              "      <td>FIP CHARGES</td>\n",
              "    </tr>\n",
              "    <tr>\n",
              "      <th>26</th>\n",
              "      <td>any</td>\n",
              "      <td>FIP:MB:UBA/EUNIQ HEROS BUSINE/FBNMOBILE:</td>\n",
              "    </tr>\n",
              "    <tr>\n",
              "      <th>27</th>\n",
              "      <td>any1</td>\n",
              "      <td>FIP CHARGES</td>\n",
              "    </tr>\n",
              "    <tr>\n",
              "      <th>28</th>\n",
              "      <td>ANY2</td>\n",
              "      <td>FIP:MB:FID/LUKMAN ADEMOLA POP/FBNMOBILE:</td>\n",
              "    </tr>\n",
              "    <tr>\n",
              "      <th>29</th>\n",
              "      <td>ANY3</td>\n",
              "      <td>SELF</td>\n",
              "    </tr>\n",
              "  </tbody>\n",
              "</table>\n",
              "</div>\n",
              "      <button class=\"colab-df-convert\" onclick=\"convertToInteractive('df-d356d043-88aa-4508-bdd1-90b857266130')\"\n",
              "              title=\"Convert this dataframe to an interactive table.\"\n",
              "              style=\"display:none;\">\n",
              "        \n",
              "  <svg xmlns=\"http://www.w3.org/2000/svg\" height=\"24px\"viewBox=\"0 0 24 24\"\n",
              "       width=\"24px\">\n",
              "    <path d=\"M0 0h24v24H0V0z\" fill=\"none\"/>\n",
              "    <path d=\"M18.56 5.44l.94 2.06.94-2.06 2.06-.94-2.06-.94-.94-2.06-.94 2.06-2.06.94zm-11 1L8.5 8.5l.94-2.06 2.06-.94-2.06-.94L8.5 2.5l-.94 2.06-2.06.94zm10 10l.94 2.06.94-2.06 2.06-.94-2.06-.94-.94-2.06-.94 2.06-2.06.94z\"/><path d=\"M17.41 7.96l-1.37-1.37c-.4-.4-.92-.59-1.43-.59-.52 0-1.04.2-1.43.59L10.3 9.45l-7.72 7.72c-.78.78-.78 2.05 0 2.83L4 21.41c.39.39.9.59 1.41.59.51 0 1.02-.2 1.41-.59l7.78-7.78 2.81-2.81c.8-.78.8-2.07 0-2.86zM5.41 20L4 18.59l7.72-7.72 1.47 1.35L5.41 20z\"/>\n",
              "  </svg>\n",
              "      </button>\n",
              "      \n",
              "  <style>\n",
              "    .colab-df-container {\n",
              "      display:flex;\n",
              "      flex-wrap:wrap;\n",
              "      gap: 12px;\n",
              "    }\n",
              "\n",
              "    .colab-df-convert {\n",
              "      background-color: #E8F0FE;\n",
              "      border: none;\n",
              "      border-radius: 50%;\n",
              "      cursor: pointer;\n",
              "      display: none;\n",
              "      fill: #1967D2;\n",
              "      height: 32px;\n",
              "      padding: 0 0 0 0;\n",
              "      width: 32px;\n",
              "    }\n",
              "\n",
              "    .colab-df-convert:hover {\n",
              "      background-color: #E2EBFA;\n",
              "      box-shadow: 0px 1px 2px rgba(60, 64, 67, 0.3), 0px 1px 3px 1px rgba(60, 64, 67, 0.15);\n",
              "      fill: #174EA6;\n",
              "    }\n",
              "\n",
              "    [theme=dark] .colab-df-convert {\n",
              "      background-color: #3B4455;\n",
              "      fill: #D2E3FC;\n",
              "    }\n",
              "\n",
              "    [theme=dark] .colab-df-convert:hover {\n",
              "      background-color: #434B5C;\n",
              "      box-shadow: 0px 1px 3px 1px rgba(0, 0, 0, 0.15);\n",
              "      filter: drop-shadow(0px 1px 2px rgba(0, 0, 0, 0.3));\n",
              "      fill: #FFFFFF;\n",
              "    }\n",
              "  </style>\n",
              "\n",
              "      <script>\n",
              "        const buttonEl =\n",
              "          document.querySelector('#df-d356d043-88aa-4508-bdd1-90b857266130 button.colab-df-convert');\n",
              "        buttonEl.style.display =\n",
              "          google.colab.kernel.accessAllowed ? 'block' : 'none';\n",
              "\n",
              "        async function convertToInteractive(key) {\n",
              "          const element = document.querySelector('#df-d356d043-88aa-4508-bdd1-90b857266130');\n",
              "          const dataTable =\n",
              "            await google.colab.kernel.invokeFunction('convertToInteractive',\n",
              "                                                     [key], {});\n",
              "          if (!dataTable) return;\n",
              "\n",
              "          const docLinkHtml = 'Like what you see? Visit the ' +\n",
              "            '<a target=\"_blank\" href=https://colab.research.google.com/notebooks/data_table.ipynb>data table notebook</a>'\n",
              "            + ' to learn more about interactive tables.';\n",
              "          element.innerHTML = '';\n",
              "          dataTable['output_type'] = 'display_data';\n",
              "          await google.colab.output.renderOutput(dataTable, element);\n",
              "          const docLink = document.createElement('div');\n",
              "          docLink.innerHTML = docLinkHtml;\n",
              "          element.appendChild(docLink);\n",
              "        }\n",
              "      </script>\n",
              "    </div>\n",
              "  </div>\n",
              "  "
            ]
          },
          "metadata": {},
          "execution_count": 70
        }
      ]
    },
    {
      "cell_type": "code",
      "source": [
        "text = [\"NIP Charge + VAT\"]\n",
        "encoding = tokenizer(text, return_tensors=\"pt\").to('cuda')\n",
        "\n",
        "# forward pass\n",
        "outputs = model(**encoding)\n",
        "predictions = outputs.logits.argmax(-1)\n",
        "int(predictions)"
      ],
      "metadata": {
        "colab": {
          "base_uri": "https://localhost:8080/"
        },
        "id": "Awy77mXGh9yo",
        "outputId": "e3e4e6a3-af25-4146-f25d-631a4ece1977"
      },
      "execution_count": null,
      "outputs": [
        {
          "output_type": "execute_result",
          "data": {
            "text/plain": [
              "3"
            ]
          },
          "metadata": {},
          "execution_count": 71
        }
      ]
    },
    {
      "cell_type": "code",
      "source": [
        "text = [\"TRF FRM 420 PROPERTIES LIMITED TO ESEOSA OREOL\"]\n",
        "encoding = tokenizer(text, return_tensors=\"pt\").to('cuda')\n",
        "\n",
        "# forward pass\n",
        "outputs = model(**encoding)\n",
        "predictions = outputs.logits.argmax(-1)\n",
        "int(predictions)"
      ],
      "metadata": {
        "colab": {
          "base_uri": "https://localhost:8080/"
        },
        "id": "o5eDwkHNiLUG",
        "outputId": "82df5e95-11e4-461d-b883-02653a6d39e8"
      },
      "execution_count": null,
      "outputs": [
        {
          "output_type": "execute_result",
          "data": {
            "text/plain": [
              "4"
            ]
          },
          "metadata": {},
          "execution_count": 72
        }
      ]
    },
    {
      "cell_type": "code",
      "source": [
        "text = [\"LOAN INSURANCE PREMIUM/GLM-163555/CREDIT LIFE\"]\n",
        "encoding = tokenizer(text, return_tensors=\"pt\").to('cuda')\n",
        "\n",
        "# forward pass\n",
        "outputs = model(**encoding)\n",
        "predictions = outputs.logits.argmax(-1)\n",
        "int(predictions)"
      ],
      "metadata": {
        "colab": {
          "base_uri": "https://localhost:8080/"
        },
        "id": "Kx7HckubiWAr",
        "outputId": "f8c1e3cb-7ffe-4c31-9886-5c1808647274"
      },
      "execution_count": null,
      "outputs": [
        {
          "output_type": "execute_result",
          "data": {
            "text/plain": [
              "2"
            ]
          },
          "metadata": {},
          "execution_count": 73
        }
      ]
    },
    {
      "cell_type": "code",
      "source": [
        "text = [\"TNF-ONABIYI ABIODUN OLUMIDEONABIYI ABIODUN OLUMIDE 0000132103312159460000654\"]\n",
        "encoding = tokenizer(text, return_tensors=\"pt\").to('cuda')\n",
        "\n",
        "# forward pass\n",
        "outputs = model(**encoding)\n",
        "predictions = outputs.logits.argmax(-1)\n",
        "int(predictions)"
      ],
      "metadata": {
        "colab": {
          "base_uri": "https://localhost:8080/"
        },
        "id": "lYXaZGSPikR0",
        "outputId": "45bbd093-eff6-421a-8ee1-781c78489535"
      },
      "execution_count": null,
      "outputs": [
        {
          "output_type": "execute_result",
          "data": {
            "text/plain": [
              "1"
            ]
          },
          "metadata": {},
          "execution_count": 74
        }
      ]
    },
    {
      "cell_type": "code",
      "source": [
        "text = [\"VAT ON ACCT MAIN CHRG\"]\n",
        "encoding = tokenizer(text, return_tensors=\"pt\").to('cuda')\n",
        "\n",
        "# forward pass\n",
        "outputs = model(**encoding)\n",
        "predictions = outputs.logits.argmax(-1)\n",
        "int(predictions)"
      ],
      "metadata": {
        "colab": {
          "base_uri": "https://localhost:8080/"
        },
        "id": "I6fp9fW6i6Xj",
        "outputId": "85a05699-9b18-4c3a-dc7c-4a19e4e18834"
      },
      "execution_count": null,
      "outputs": [
        {
          "output_type": "execute_result",
          "data": {
            "text/plain": [
              "3"
            ]
          },
          "metadata": {},
          "execution_count": 75
        }
      ]
    },
    {
      "cell_type": "code",
      "source": [
        "# Function that predict with model from the notebook\n",
        "\n",
        "def classifier(INPUT_FILE): # not possible when using lambda function \n",
        "   \n",
        "  df = pd.read_csv(INPUT_FILE, sep=';')\n",
        "  transaction_list = [] \n",
        "  pred_list= []\n",
        "  for index, row in df.iterrows():\n",
        "    text = row['DESCRIPTION']\n",
        "    encoding = tokenizer(text, return_tensors=\"pt\").to('cuda')# no cuda with lambda \n",
        "    outputs = model(**encoding)\n",
        "    predictions = outputs.logits.argmax(-1)\n",
        "    int(predictions)\n",
        "    transaction_list.append(text)\n",
        "    pred_list.append(int(predictions))\n",
        "     \n",
        "    print(row['BANK_ID'],  '|' , 'The transcation '+ '\"' + (row['DESCRIPTION']) + \n",
        "        '\"', 'corresponds to the category' , int(predictions))\n",
        "    \n",
        "  df1 = pd.DataFrame(list(zip(transaction_list, pred_list)), columns = ['TRANSACTION', 'CATEGORY'])\n",
        "\n",
        "  \n",
        "  df1.to_csv('/content/drive/MyDrive/Bert_classification/output_file.csv')\n",
        "  # we can reverse the one hot encoding with  idxmax\n"
      ],
      "metadata": {
        "id": "krKaaDroj_9l"
      },
      "execution_count": null,
      "outputs": []
    },
    {
      "cell_type": "code",
      "source": [
        "# script for predict\n",
        "import torch\n",
        "import csv\n",
        "\n",
        "from torch.utils.data import TensorDataset, DataLoader, RandomSampler, SequentialSampler\n",
        "from tensorflow.keras.preprocessing.sequence import pad_sequences\n",
        "from sklearn.model_selection import train_test_split\n",
        "\n",
        "from transformers import BertTokenizer, BertConfig\n",
        "from transformers import AdamW\n",
        "from tqdm import tqdm, trange\n",
        "import pandas as pd\n",
        "import io\n",
        "import numpy as np\n",
        "import matplotlib.pyplot as plt\n",
        "import os\n",
        "from pathlib import Path\n",
        "from transformers import DistilBertForSequenceClassification, Trainer, TrainingArguments\n",
        "from transformers import DistilBertTokenizerFast, AutoTokenizer\n",
        "from sklearn.model_selection import train_test_split\n",
        "import pandas as pd\n",
        "\n",
        "# we have to add the loaded_model import here or another script\n",
        "def classifier(INPUT_FILE, loaded_model): # not possible when using lambda function \n",
        "   \n",
        "  df = pd.read_csv(INPUT_FILE, sep =';' )\n",
        "  transaction_list = [] \n",
        "  pred_list= []\n",
        "  pred_code_list=[]\n",
        "  for index, row in df.iterrows():\n",
        "    text = row['DESCRIPTION']\n",
        "    model_ckpt = \"distilbert-base-uncased\"\n",
        "    tokenizer = AutoTokenizer.from_pretrained(model_ckpt, problem_type=\"multi_label_classification\")\n",
        "    encoding = tokenizer(text, return_tensors=\"pt\")#\n",
        "    outputs = loaded_model(**encoding)\n",
        "    predictions = outputs.logits.argmax(-1)\n",
        "    int(predictions)\n",
        "    transaction_list.append(text)\n",
        "    pred_code_list.append(int(predictions))\n",
        "    if int(predictions) == 0:\n",
        "      pred_list.append('TRANSFER')\n",
        "    elif int(predictions)== 1:\n",
        "      pred_list.append('PURCHASE')\n",
        "    elif int(predictions) == 2:\n",
        "      pred_list.append('LOAN')\n",
        "    elif int(predictions)== 3:\n",
        "      pred_list.append('CHARGES')\n",
        "    elif int(predictions)== 4:\n",
        "      pred_list.append('SALARY')\n",
        "    elif int(predictions) == 5:\n",
        "      pred_list.append('CASH')\n",
        "    elif int(predictions)== 6:\n",
        "      pred_list.append('REVERSAL')\n",
        "    elif int(predictions)== 7:\n",
        "      pred_list.append('CHEQUE')\n",
        "    elif int(predictions)== 8:\n",
        "      pred_list.append('PAYMENT')\n",
        "    elif int(predictions)== 9:\n",
        "      pred_list.append('UNKNOWN')\n",
        "\n",
        "\n",
        "\n",
        "     \n",
        "    print(row['BANK_ID'],  '|' , 'The transcation '+ '\"' + (row['DESCRIPTION']) + \n",
        "        '\"', 'corresponds to the category ' , int(predictions))\n",
        "    \n",
        "  df1 = pd.DataFrame(list(zip(transaction_list, pred_list, pred_code_list)), columns = ['TRANSACTION', 'CATEGORY', 'CATEGORY_CODE'])\n",
        "\n",
        "  df1.to_csv('my_ouptput.csv')"
      ],
      "metadata": {
        "id": "DoH4Ls4R13Lg"
      },
      "execution_count": null,
      "outputs": []
    },
    {
      "cell_type": "code",
      "source": [
        "INPUT_FILE= '/content/drive/MyDrive/Bert_classification/input.csv'"
      ],
      "metadata": {
        "id": "mt2ibdYpoCWC"
      },
      "execution_count": null,
      "outputs": []
    },
    {
      "cell_type": "code",
      "source": [
        "classifier(INPUT_FILE)"
      ],
      "metadata": {
        "colab": {
          "base_uri": "https://localhost:8080/"
        },
        "id": "z3Wr5gf7n5az",
        "outputId": "e1b41222-96c4-4542-bfb3-2df453a71d36"
      },
      "execution_count": null,
      "outputs": [
        {
          "output_type": "stream",
          "name": "stdout",
          "text": [
            "UBA | The transcation \"SMS/SMS CHARGES FEB 16TH 2021 - MAR 15TH 2021 Fee Col / ECHARGESUB\" corresponds to the category 3\n",
            "UBA | The transcation \"FGN STAMPDUTY FOR: 1 TRANSACTIONS ON 15-MAR- 21\" corresponds to the category 3\n",
            "UBA | The transcation \"FGN STAMPDUTY FOR: 1 TRANSACTIONS ON 18-MAR- 21\" corresponds to the category 3\n",
            "UBA | The transcation \"MOB/UTO/7445598102/00001\n",
            "3/Done 0000042103201020065514643\n",
            "93322\" corresponds to the category 1\n",
            "UBA | The transcation \"TNF-MIDZAC LIMITED/IBR TRF IFO ERARIO BUSINESS ENT 0000122103221305290002333\n",
            "71063\" corresponds to the category 0\n",
            "UBA | The transcation \"MOB/UTO/7467889276/00000\n",
            "7/Done 0000042103222009154400234\n",
            "15139\" corresponds to the category 1\n",
            "UBA | The transcation \"FGN STAMPDUTY FOR: 1 TRANSACTIONS ON 22-MAR- 21\" corresponds to the category 3\n",
            "UBA | The transcation \"TNF-RML 1729 LIMITED/IBR TRF IFO ERARIO BUSINESS E 0000122103311350110002367\n",
            "50430\" corresponds to the category 0\n",
            "UBA | The transcation \"MOB/UTO/7553980900/00000\n",
            "7/Done 0000042103311351101508856\n",
            "94637\" corresponds to the category 1\n",
            "UBA | The transcation \"10XXX..:Int. Pd.01-03-\n",
            "2021to31-03-2021 Interest run\" corresponds to the category 2\n",
            "UBA | The transcation \"TNF-ONABIYI ABIODUN OLUMIDEONABIYI ABIODUN OLUMIDE 0000132103312159460000654\n",
            "55237\" corresponds to the category 1\n",
            "UBA | The transcation \"TNF-D AND VEE SERVICES INT\n",
            "L LTD/2 220 transfer er 0000152104011108150016229\n",
            "44292\" corresponds to the category 0\n",
            "UBA | The transcation \"MOB/UTO/7567061488/00001\n",
            "3/Salary for staff on fiel 0000042104011556015259452\n",
            "28119\" corresponds to the category 4\n",
            "UBA | The transcation \"ACCT MAINT CHARGES BTW 01-03-2021 AND 30-03-2021\" corresponds to the category 3\n",
            "UBA | The transcation \"VAT ON ACCT MAIN CHRG\" corresponds to the category 3\n",
            "UBA | The transcation \"MOB/UTO/7580951001/00001\n",
            "3/New office pc 0000042104021607473872544\n",
            "48752\" corresponds to the category 1\n",
            "UBA | The transcation \"TNF-ONABIYI ABIODUN OLUMIDEONABIYI ABIODUN OLUMIDE 0000132104021615520000685\n",
            "11006\" corresponds to the category 1\n",
            "UBA | The transcation \"FGN STAMPDUTY FOR: 1 TRANSACTIONS ON 31-MAR- 21\" corresponds to the category 3\n",
            "UBA | The transcation \"FGN STAMPDUTY FOR: 1 TRANSACTIONS ON 01-APR- 21\" corresponds to the category 3\n",
            "UBA | The transcation \"MOB/UTO/7598175318/00001\n",
            "7/Part for new hardwood 0000042104040744008145681\n",
            "77172\" corresponds to the category 1\n",
            "UBA | The transcation \"MOB/UTO/7606255182/00001\n",
            "7/Done for new ayin with s 0000042104050823366280204\n",
            "63996\" corresponds to the category 1\n",
            "UBA | The transcation \"MOB/UTO/7606322302/00001\n",
            "3/Done for fueling expense 0000042104050832297832790\n",
            "91701\" corresponds to the category 1\n",
            "UBA | The transcation \"TOD FEE  CHARGED\" corresponds to the category 3\n",
            "UBA | The transcation \"FGN STAMPDUTY FOR: 1 TRANSACTIONS ON 04-APR- 21\" corresponds to the category 3\n",
            "UBA | The transcation \"MOB/UTO/7670446534/00001\n",
            "3/1k\n",
            "0000042104111729307440705\n",
            "05427\" corresponds to the category 1\n",
            "FirstBANK | The transcation \"FIP CHARGES\" corresponds to the category 3\n",
            "any | The transcation \"FIP:MB:UBA/EUNIQ HEROS BUSINE/FBNMOBILE:\" corresponds to the category 1\n",
            "any1 | The transcation \"FIP CHARGES\" corresponds to the category 3\n",
            "ANY2 | The transcation \"FIP:MB:FID/LUKMAN ADEMOLA POP/FBNMOBILE:\" corresponds to the category 1\n",
            "ANY3 | The transcation \"SELF\" corresponds to the category 0\n"
          ]
        }
      ]
    },
    {
      "cell_type": "code",
      "source": [
        "% cd /content/drive/MyDrive/Bert_classification"
      ],
      "metadata": {
        "colab": {
          "base_uri": "https://localhost:8080/"
        },
        "id": "AvCHnnsg-b1M",
        "outputId": "d8bb5247-4ad9-464a-dd73-ca90cafeebec"
      },
      "execution_count": null,
      "outputs": [
        {
          "output_type": "stream",
          "name": "stdout",
          "text": [
            "/content/drive/MyDrive/Bert_classification\n"
          ]
        }
      ]
    },
    {
      "cell_type": "code",
      "source": [
        "! pwd"
      ],
      "metadata": {
        "colab": {
          "base_uri": "https://localhost:8080/"
        },
        "id": "yqKsA3re-ehB",
        "outputId": "4be25745-e7dd-4396-92f8-e5fcaa4b172f"
      },
      "execution_count": null,
      "outputs": [
        {
          "output_type": "stream",
          "name": "stdout",
          "text": [
            "/content/drive/MyDrive/Bert_classification\n"
          ]
        }
      ]
    },
    {
      "cell_type": "code",
      "source": [
        "# save the trained model\n",
        "torch.save(model,'/content/drive/MyDrive/Bert_classification/trained_model.pt')"
      ],
      "metadata": {
        "id": "P-Hb9d0r8vms"
      },
      "execution_count": null,
      "outputs": []
    },
    {
      "cell_type": "code",
      "source": [
        "# load the saved model\n",
        "trained_model = torch.load('/content/drive/MyDrive/Bert_classification/trained_model.pt')"
      ],
      "metadata": {
        "id": "ir-C7DLE98gN"
      },
      "execution_count": null,
      "outputs": []
    },
    {
      "cell_type": "code",
      "source": [
        "# use the trained model to predict "
      ],
      "metadata": {
        "id": "5ovynh9B-k2o"
      },
      "execution_count": null,
      "outputs": []
    },
    {
      "cell_type": "code",
      "source": [
        "text = [\"carte iop shop\"]\n",
        "encoding = tokenizer(text, return_tensors=\"pt\").to('cuda')\n",
        "\n",
        "# forward pass\n",
        "outputs = trained_model(**encoding)\n",
        "predictions = outputs.logits.argmax(-1)\n",
        "int(predictions)"
      ],
      "metadata": {
        "colab": {
          "base_uri": "https://localhost:8080/"
        },
        "id": "YtK744TA-p1c",
        "outputId": "95496fb8-1186-4f29-bea2-fa62a70abc45"
      },
      "execution_count": null,
      "outputs": [
        {
          "output_type": "execute_result",
          "data": {
            "text/plain": [
              "1"
            ]
          },
          "metadata": {},
          "execution_count": 101
        }
      ]
    },
    {
      "cell_type": "code",
      "source": [
        "!python main.py "
      ],
      "metadata": {
        "colab": {
          "base_uri": "https://localhost:8080/"
        },
        "id": "YLWVP8tt_JLp",
        "outputId": "717d04e3-399a-4214-bc06-5cf085a8eca1"
      },
      "execution_count": null,
      "outputs": [
        {
          "output_type": "stream",
          "name": "stdout",
          "text": [
            "UBA | The transcation \"SMS/SMS CHARGES FEB 16TH 2021 - MAR 15TH 2021 Fee Col / ECHARGESUB\" is a transaction from category  3\n",
            "UBA | The transcation \"FGN STAMPDUTY FOR: 1 TRANSACTIONS ON 15-MAR- 21\" is a transaction from category  3\n",
            "UBA | The transcation \"FGN STAMPDUTY FOR: 1 TRANSACTIONS ON 18-MAR- 21\" is a transaction from category  3\n",
            "UBA | The transcation \"MOB/UTO/7445598102/00001\n",
            "3/Done 0000042103201020065514643\n",
            "93322\" is a transaction from category  1\n",
            "UBA | The transcation \"TNF-MIDZAC LIMITED/IBR TRF IFO ERARIO BUSINESS ENT 0000122103221305290002333\n",
            "71063\" is a transaction from category  0\n",
            "UBA | The transcation \"MOB/UTO/7467889276/00000\n",
            "7/Done 0000042103222009154400234\n",
            "15139\" is a transaction from category  1\n",
            "UBA | The transcation \"FGN STAMPDUTY FOR: 1 TRANSACTIONS ON 22-MAR- 21\" is a transaction from category  3\n",
            "UBA | The transcation \"TNF-RML 1729 LIMITED/IBR TRF IFO ERARIO BUSINESS E 0000122103311350110002367\n",
            "50430\" is a transaction from category  0\n",
            "UBA | The transcation \"MOB/UTO/7553980900/00000\n",
            "7/Done 0000042103311351101508856\n",
            "94637\" is a transaction from category  1\n",
            "UBA | The transcation \"10XXX..:Int. Pd.01-03-\n",
            "2021to31-03-2021 Interest run\" is a transaction from category  2\n",
            "UBA | The transcation \"TNF-ONABIYI ABIODUN OLUMIDEONABIYI ABIODUN OLUMIDE 0000132103312159460000654\n",
            "55237\" is a transaction from category  1\n",
            "UBA | The transcation \"TNF-D AND VEE SERVICES INT\n",
            "L LTD/2 220 transfer er 0000152104011108150016229\n",
            "44292\" is a transaction from category  0\n",
            "UBA | The transcation \"MOB/UTO/7567061488/00001\n",
            "3/Salary for staff on fiel 0000042104011556015259452\n",
            "28119\" is a transaction from category  4\n",
            "UBA | The transcation \"ACCT MAINT CHARGES BTW 01-03-2021 AND 30-03-2021\" is a transaction from category  3\n",
            "UBA | The transcation \"VAT ON ACCT MAIN CHRG\" is a transaction from category  3\n",
            "UBA | The transcation \"MOB/UTO/7580951001/00001\n",
            "3/New office pc 0000042104021607473872544\n",
            "48752\" is a transaction from category  1\n",
            "UBA | The transcation \"TNF-ONABIYI ABIODUN OLUMIDEONABIYI ABIODUN OLUMIDE 0000132104021615520000685\n",
            "11006\" is a transaction from category  1\n",
            "UBA | The transcation \"FGN STAMPDUTY FOR: 1 TRANSACTIONS ON 31-MAR- 21\" is a transaction from category  3\n",
            "UBA | The transcation \"FGN STAMPDUTY FOR: 1 TRANSACTIONS ON 01-APR- 21\" is a transaction from category  3\n",
            "UBA | The transcation \"MOB/UTO/7598175318/00001\n",
            "7/Part for new hardwood 0000042104040744008145681\n",
            "77172\" is a transaction from category  1\n",
            "UBA | The transcation \"MOB/UTO/7606255182/00001\n",
            "7/Done for new ayin with s 0000042104050823366280204\n",
            "63996\" is a transaction from category  1\n",
            "UBA | The transcation \"MOB/UTO/7606322302/00001\n",
            "3/Done for fueling expense 0000042104050832297832790\n",
            "91701\" is a transaction from category  1\n",
            "UBA | The transcation \"TOD FEE  CHARGED\" is a transaction from category  3\n",
            "UBA | The transcation \"FGN STAMPDUTY FOR: 1 TRANSACTIONS ON 04-APR- 21\" is a transaction from category  3\n",
            "UBA | The transcation \"MOB/UTO/7670446534/00001\n",
            "3/1k\n",
            "0000042104111729307440705\n",
            "05427\" is a transaction from category  1\n",
            "FirstBANK | The transcation \"FIP CHARGES\" is a transaction from category  3\n",
            "any | The transcation \"FIP:MB:UBA/EUNIQ HEROS BUSINE/FBNMOBILE:\" is a transaction from category  1\n",
            "any1 | The transcation \"FIP CHARGES\" is a transaction from category  3\n",
            "ANY2 | The transcation \"FIP:MB:FID/LUKMAN ADEMOLA POP/FBNMOBILE:\" is a transaction from category  1\n",
            "ANY3 | The transcation \"SELF\" is a transaction from category  0\n"
          ]
        }
      ]
    },
    {
      "cell_type": "code",
      "source": [
        "%cd /content/drive/MyDrive/results"
      ],
      "metadata": {
        "colab": {
          "base_uri": "https://localhost:8080/"
        },
        "id": "hfNrOqDnNLjo",
        "outputId": "37ba5853-b5ef-41e0-f5d7-c750fb9cb925"
      },
      "execution_count": null,
      "outputs": [
        {
          "output_type": "stream",
          "name": "stdout",
          "text": [
            "/content/drive/MyDrive/results\n"
          ]
        }
      ]
    },
    {
      "cell_type": "code",
      "source": [
        "!python main.py "
      ],
      "metadata": {
        "colab": {
          "base_uri": "https://localhost:8080/"
        },
        "id": "DQwJpXoTNTO_",
        "outputId": "6ef3de59-a610-4f49-d443-d4b6793f7daf"
      },
      "execution_count": null,
      "outputs": [
        {
          "output_type": "stream",
          "name": "stdout",
          "text": [
            "UBA | The transcation \"SMS/SMS CHARGES FEB 16TH 2021 - MAR 15TH 2021 Fee Col / ECHARGESUB\" is a transaction from category  3\n",
            "UBA | The transcation \"FGN STAMPDUTY FOR: 1 TRANSACTIONS ON 15-MAR- 21\" is a transaction from category  3\n",
            "UBA | The transcation \"FGN STAMPDUTY FOR: 1 TRANSACTIONS ON 18-MAR- 21\" is a transaction from category  3\n",
            "UBA | The transcation \"MOB/UTO/7445598102/00001\n",
            "3/Done 0000042103201020065514643\n",
            "93322\" is a transaction from category  1\n",
            "UBA | The transcation \"TNF-MIDZAC LIMITED/IBR TRF IFO ERARIO BUSINESS ENT 0000122103221305290002333\n",
            "71063\" is a transaction from category  0\n",
            "UBA | The transcation \"MOB/UTO/7467889276/00000\n",
            "7/Done 0000042103222009154400234\n",
            "15139\" is a transaction from category  1\n",
            "UBA | The transcation \"FGN STAMPDUTY FOR: 1 TRANSACTIONS ON 22-MAR- 21\" is a transaction from category  3\n",
            "UBA | The transcation \"TNF-RML 1729 LIMITED/IBR TRF IFO ERARIO BUSINESS E 0000122103311350110002367\n",
            "50430\" is a transaction from category  0\n",
            "UBA | The transcation \"MOB/UTO/7553980900/00000\n",
            "7/Done 0000042103311351101508856\n",
            "94637\" is a transaction from category  1\n",
            "UBA | The transcation \"10XXX..:Int. Pd.01-03-\n",
            "2021to31-03-2021 Interest run\" is a transaction from category  2\n",
            "UBA | The transcation \"TNF-ONABIYI ABIODUN OLUMIDEONABIYI ABIODUN OLUMIDE 0000132103312159460000654\n",
            "55237\" is a transaction from category  1\n",
            "UBA | The transcation \"TNF-D AND VEE SERVICES INT\n",
            "L LTD/2 220 transfer er 0000152104011108150016229\n",
            "44292\" is a transaction from category  0\n",
            "UBA | The transcation \"MOB/UTO/7567061488/00001\n",
            "3/Salary for staff on fiel 0000042104011556015259452\n",
            "28119\" is a transaction from category  4\n",
            "UBA | The transcation \"ACCT MAINT CHARGES BTW 01-03-2021 AND 30-03-2021\" is a transaction from category  3\n",
            "UBA | The transcation \"VAT ON ACCT MAIN CHRG\" is a transaction from category  3\n",
            "UBA | The transcation \"MOB/UTO/7580951001/00001\n",
            "3/New office pc 0000042104021607473872544\n",
            "48752\" is a transaction from category  1\n",
            "UBA | The transcation \"TNF-ONABIYI ABIODUN OLUMIDEONABIYI ABIODUN OLUMIDE 0000132104021615520000685\n",
            "11006\" is a transaction from category  0\n",
            "UBA | The transcation \"FGN STAMPDUTY FOR: 1 TRANSACTIONS ON 31-MAR- 21\" is a transaction from category  3\n",
            "UBA | The transcation \"FGN STAMPDUTY FOR: 1 TRANSACTIONS ON 01-APR- 21\" is a transaction from category  3\n",
            "UBA | The transcation \"MOB/UTO/7598175318/00001\n",
            "7/Part for new hardwood 0000042104040744008145681\n",
            "77172\" is a transaction from category  1\n",
            "UBA | The transcation \"MOB/UTO/7606255182/00001\n",
            "7/Done for new ayin with s 0000042104050823366280204\n",
            "63996\" is a transaction from category  1\n",
            "UBA | The transcation \"MOB/UTO/7606322302/00001\n",
            "3/Done for fueling expense 0000042104050832297832790\n",
            "91701\" is a transaction from category  1\n",
            "UBA | The transcation \"TOD FEE  CHARGED\" is a transaction from category  3\n",
            "UBA | The transcation \"FGN STAMPDUTY FOR: 1 TRANSACTIONS ON 04-APR- 21\" is a transaction from category  3\n",
            "UBA | The transcation \"MOB/UTO/7670446534/00001\n",
            "3/1k\n",
            "0000042104111729307440705\n",
            "05427\" is a transaction from category  1\n",
            "FirstBANK | The transcation \"FIP CHARGES\" is a transaction from category  3\n",
            "nan | The transcation \"FIP:MB:UBA/EUNIQ HEROS BUSINE/FBNMOBILE:\" is a transaction from category  1\n",
            "nan | The transcation \"FIP CHARGES\" is a transaction from category  3\n",
            "nan | The transcation \"FIP:MB:FID/LUKMAN ADEMOLA POP/FBNMOBILE:\" is a transaction from category  1\n",
            "nan | The transcation \"SELF\" is a transaction from category  0\n"
          ]
        }
      ]
    }
  ]
}